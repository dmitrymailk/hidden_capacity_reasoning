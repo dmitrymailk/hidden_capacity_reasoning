{
 "cells": [
  {
   "cell_type": "markdown",
   "metadata": {},
   "source": [
    "- https://github.com/facebookresearch/faiss/issues/2486\n",
    "- https://gist.github.com/mdouze/b0a65aba70a64b00d6425b0e268a4c80"
   ]
  },
  {
   "cell_type": "code",
   "execution_count": 27,
   "metadata": {},
   "outputs": [],
   "source": [
    "import numpy as np\n",
    "import faiss\n",
    "from matplotlib import pyplot"
   ]
  },
  {
   "cell_type": "code",
   "execution_count": 28,
   "metadata": {},
   "outputs": [],
   "source": [
    "# create an inverted index\n",
    "nlist = 1024\n",
    "m = 8\n",
    "k = 5\n",
    "d = 64\n",
    "coarse_quantizer = faiss.IndexFlatL2(d)\n",
    "index = faiss.IndexIVFPQ(coarse_quantizer, d, nlist, m, 8)"
   ]
  },
  {
   "cell_type": "code",
   "execution_count": 29,
   "metadata": {},
   "outputs": [
    {
     "name": "stderr",
     "output_type": "stream",
     "text": [
      "WARNING clustering 10000 points to 1024 centroids: please provide at least 39936 training points\n"
     ]
    }
   ],
   "source": [
    "# fill it in\n",
    "xb = faiss.rand((10000, d), 1234)\n",
    "index.train(xb)\n",
    "index.add(xb)"
   ]
  },
  {
   "cell_type": "code",
   "execution_count": 30,
   "metadata": {},
   "outputs": [],
   "source": [
    "# if there is a pre-transform, you can also use\n",
    "# invlists = faiss.extract_index_ivf(index).invlists\n",
    "invlists = index.invlists"
   ]
  },
  {
   "cell_type": "code",
   "execution_count": 31,
   "metadata": {},
   "outputs": [
    {
     "data": {
      "image/png": "[encoded data removed]",
      "text/plain": [
       "<Figure size 640x480 with 1 Axes>"
      ]
     },
     "metadata": {},
     "output_type": "display_data"
    }
   ],
   "source": [
    "# invlist sizes histogram\n",
    "bc = np.bincount([invlists.list_size(l) for l in range(invlists.nlist)])\n",
    "pyplot.step(np.arange(bc.size), bc)\n",
    "pyplot.xlabel(\"size of invlist\")\n",
    "pyplot.ylabel(\"nb of invlists\")\n",
    "pyplot.grid()"
   ]
  },
  {
   "cell_type": "code",
   "execution_count": 45,
   "metadata": {},
   "outputs": [],
   "source": [
    "def get_invlist(invlists, l):\n",
    "    \"\"\"returns the inverted lists content as a pair of (list_ids, list_codes).\n",
    "    The codes are reshaped to a proper size\n",
    "    \"\"\"\n",
    "    invlists = faiss.downcast_InvertedLists(invlists)\n",
    "    ls = invlists.list_size(l)\n",
    "    list_ids = np.zeros(ls, dtype=\"int64\")\n",
    "    ids = codes = None\n",
    "    try:\n",
    "        ids = invlists.get_ids(l)\n",
    "        if ls > 0:\n",
    "            faiss.memcpy(faiss.swig_ptr(list_ids), ids, list_ids.nbytes)\n",
    "        codes = invlists.get_codes(l)\n",
    "        if invlists.code_size != faiss.InvertedLists.INVALID_CODE_SIZE:\n",
    "            list_codes = np.zeros((ls, invlists.code_size), dtype=\"uint8\")\n",
    "        else:\n",
    "            # it's a BlockInvertedLists\n",
    "            npb = invlists.n_per_block\n",
    "            bs = invlists.block_size\n",
    "            ls_round = (ls + npb - 1) // npb\n",
    "            list_codes = np.zeros((ls_round, bs // npb, npb), dtype=\"uint8\")\n",
    "        if ls > 0:\n",
    "            faiss.memcpy(faiss.swig_ptr(list_codes), codes, list_codes.nbytes)\n",
    "    finally:\n",
    "        if ids is not None:\n",
    "            invlists.release_ids(l, ids)\n",
    "        if codes is not None:\n",
    "            invlists.release_codes(l, codes)\n",
    "    return list_ids, list_codes"
   ]
  },
  {
   "cell_type": "code",
   "execution_count": 46,
   "metadata": {},
   "outputs": [
    {
     "data": {
      "text/plain": [
       "<Swig Object of type 'long *' at 0x7f92082f7c00>"
      ]
     },
     "execution_count": 46,
     "metadata": {},
     "output_type": "execute_result"
    }
   ],
   "source": [
    "invlists.get_ids(124)"
   ]
  },
  {
   "cell_type": "code",
   "execution_count": 47,
   "metadata": {},
   "outputs": [],
   "source": [
    "# get content of inverted list #123\n",
    "list_ids, list_codes = get_invlist(invlists, 124)"
   ]
  },
  {
   "cell_type": "code",
   "execution_count": 48,
   "metadata": {},
   "outputs": [
    {
     "data": {
      "text/plain": [
       "array([ 375,  764, 1691, 1736, 2281, 2532, 2573, 2758, 3711, 3791, 6206,\n",
       "       7364, 8009, 8828, 8849, 8865, 8988])"
      ]
     },
     "execution_count": 48,
     "metadata": {},
     "output_type": "execute_result"
    }
   ],
   "source": [
    "# vector ids in the list\n",
    "list_ids"
   ]
  },
  {
   "cell_type": "code",
   "execution_count": 52,
   "metadata": {},
   "outputs": [
    {
     "data": {
      "text/plain": [
       "array([[124]])"
      ]
     },
     "execution_count": 52,
     "metadata": {},
     "output_type": "execute_result"
    }
   ],
   "source": [
    "# check that vectors 375 and 764 are indeed quantized to list 124\n",
    "coarse_quantizer.assign(xb[[375]], 1)"
   ]
  },
  {
   "cell_type": "code",
   "execution_count": 51,
   "metadata": {},
   "outputs": [
    {
     "data": {
      "text/plain": [
       "8"
      ]
     },
     "execution_count": 51,
     "metadata": {},
     "output_type": "execute_result"
    }
   ],
   "source": [
    "invlists.code_size"
   ]
  },
  {
   "cell_type": "code",
   "execution_count": 50,
   "metadata": {},
   "outputs": [
    {
     "data": {
      "text/plain": [
       "array([[135,  86, 175, 122, 143, 106,  69, 250],\n",
       "       [ 22, 168, 238, 229, 218,  24,  93, 209],\n",
       "       [226,  69,  61,  81, 235,  71, 218, 237],\n",
       "       [130, 201,  27,  48,   8, 167, 247, 104],\n",
       "       [ 53, 234, 190,   5,  21, 126,  54,  64],\n",
       "       [124, 130,  34, 124, 205, 124, 124,  54],\n",
       "       [ 92, 137, 123, 105, 152, 116,  26,  32],\n",
       "       [100, 118, 163, 109, 211, 130, 109, 210],\n",
       "       [ 32, 223,  59,  14, 183, 243, 186, 154],\n",
       "       [160, 250, 189, 171,  21,  82, 232, 251],\n",
       "       [ 98, 230,  85, 116,  85, 231, 139,   1],\n",
       "       [ 42,  58,  54,  51,  13, 217,  23, 217],\n",
       "       [240, 155,  77, 147,  29, 216,  53, 103],\n",
       "       [150, 163,  70,  80, 187,  14, 202, 237],\n",
       "       [ 84,  60, 164,  76, 107,  48, 180,   0],\n",
       "       [ 58,  24,   5, 216, 136,   3,  74, 123],\n",
       "       [ 54, 196,  31, 126, 195,  38,  63, 148]], dtype=uint8)"
      ]
     },
     "execution_count": 50,
     "metadata": {},
     "output_type": "execute_result"
    }
   ],
   "source": [
    "# PQ codes stored in the inverted lists\n",
    "list_codes.reshape(-1, invlists.code_size)"
   ]
  },
  {
   "cell_type": "code",
   "execution_count": 55,
   "metadata": {},
   "outputs": [
    {
     "data": {
      "text/plain": [
       "np.int64(1023)"
      ]
     },
     "execution_count": 55,
     "metadata": {},
     "output_type": "execute_result"
    }
   ],
   "source": [
    "numbers = []\n",
    "for i in range(len(xb)):\n",
    "    num = coarse_quantizer.assign(xb[[i]], 1)\n",
    "    numbers.append(num[0][0])\n",
    "    # print(num)\n",
    "max(numbers)"
   ]
  },
  {
   "cell_type": "code",
   "execution_count": null,
   "metadata": {},
   "outputs": [],
   "source": [
    "xb"
   ]
  }
 ],
 "metadata": {
  "kernelspec": {
   "display_name": "Python 3",
   "language": "python",
   "name": "python3"
  },
  "language_info": {
   "codemirror_mode": {
    "name": "ipython",
    "version": 3
   },
   "file_extension": ".py",
   "mimetype": "text/x-python",
   "name": "python",
   "nbconvert_exporter": "python",
   "pygments_lexer": "ipython3",
   "version": "3.7.4"
  }
 },
 "nbformat": 4,
 "nbformat_minor": 2
}
