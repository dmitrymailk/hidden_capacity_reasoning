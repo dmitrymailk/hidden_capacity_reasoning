{
 "cells": [
  {
   "cell_type": "code",
   "execution_count": 1,
   "metadata": {},
   "outputs": [
    {
     "data": {
      "text/plain": [
       "DatasetDict({\n",
       "    train: Dataset({\n",
       "        features: ['question', 'answer'],\n",
       "        num_rows: 900\n",
       "    })\n",
       "    test: Dataset({\n",
       "        features: ['question', 'answer'],\n",
       "        num_rows: 5\n",
       "    })\n",
       "})"
      ]
     },
     "execution_count": 1,
     "metadata": {},
     "output_type": "execute_result"
    }
   ],
   "source": [
    "from datasets import load_dataset\n",
    "\n",
    "dataset = load_dataset(\"dim/open_orca_905_DeepSeek-R1-Distill-Qwen-1.5B\")\n",
    "dataset = dataset[\"train\"]\n",
    "dataset = dataset.train_test_split(test_size=5, seed=42)\n",
    "dataset"
   ]
  },
  {
   "cell_type": "code",
   "execution_count": 1,
   "metadata": {},
   "outputs": [
    {
     "name": "stderr",
     "output_type": "stream",
     "text": [
      "Sliding Window Attention is enabled but not implemented for `sdpa`; unexpected results may be encountered.\n"
     ]
    },
    {
     "name": "stdout",
     "output_type": "stream",
     "text": [
      "deepseek-ai/DeepSeek-R1-Distill-Qwen-1.5B\n"
     ]
    },
    {
     "name": "stderr",
     "output_type": "stream",
     "text": [
      "Some weights of Qwen2ForCausalLMCompressionV1 were not initialized from the model checkpoint at deepseek-ai/DeepSeek-R1-Distill-Qwen-1.5B and are newly initialized: ['embed_pooler.lm_head.weight', 'embed_pooler.model.embed_tokens.weight', 'embed_pooler.model.layers.0.input_layernorm.weight', 'embed_pooler.model.layers.0.mlp.down_proj.weight', 'embed_pooler.model.layers.0.mlp.gate_proj.weight', 'embed_pooler.model.layers.0.mlp.up_proj.weight', 'embed_pooler.model.layers.0.post_attention_layernorm.weight', 'embed_pooler.model.layers.0.self_attn.k_proj.bias', 'embed_pooler.model.layers.0.self_attn.k_proj.weight', 'embed_pooler.model.layers.0.self_attn.o_proj.weight', 'embed_pooler.model.layers.0.self_attn.q_proj.bias', 'embed_pooler.model.layers.0.self_attn.q_proj.weight', 'embed_pooler.model.layers.0.self_attn.v_proj.bias', 'embed_pooler.model.layers.0.self_attn.v_proj.weight', 'embed_pooler.model.layers.1.input_layernorm.weight', 'embed_pooler.model.layers.1.mlp.down_proj.weight', 'embed_pooler.model.layers.1.mlp.gate_proj.weight', 'embed_pooler.model.layers.1.mlp.up_proj.weight', 'embed_pooler.model.layers.1.post_attention_layernorm.weight', 'embed_pooler.model.layers.1.self_attn.k_proj.bias', 'embed_pooler.model.layers.1.self_attn.k_proj.weight', 'embed_pooler.model.layers.1.self_attn.o_proj.weight', 'embed_pooler.model.layers.1.self_attn.q_proj.bias', 'embed_pooler.model.layers.1.self_attn.q_proj.weight', 'embed_pooler.model.layers.1.self_attn.v_proj.bias', 'embed_pooler.model.layers.1.self_attn.v_proj.weight', 'embed_pooler.model.layers.10.input_layernorm.weight', 'embed_pooler.model.layers.10.mlp.down_proj.weight', 'embed_pooler.model.layers.10.mlp.gate_proj.weight', 'embed_pooler.model.layers.10.mlp.up_proj.weight', 'embed_pooler.model.layers.10.post_attention_layernorm.weight', 'embed_pooler.model.layers.10.self_attn.k_proj.bias', 'embed_pooler.model.layers.10.self_attn.k_proj.weight', 'embed_pooler.model.layers.10.self_attn.o_proj.weight', 'embed_pooler.model.layers.10.self_attn.q_proj.bias', 'embed_pooler.model.layers.10.self_attn.q_proj.weight', 'embed_pooler.model.layers.10.self_attn.v_proj.bias', 'embed_pooler.model.layers.10.self_attn.v_proj.weight', 'embed_pooler.model.layers.11.input_layernorm.weight', 'embed_pooler.model.layers.11.mlp.down_proj.weight', 'embed_pooler.model.layers.11.mlp.gate_proj.weight', 'embed_pooler.model.layers.11.mlp.up_proj.weight', 'embed_pooler.model.layers.11.post_attention_layernorm.weight', 'embed_pooler.model.layers.11.self_attn.k_proj.bias', 'embed_pooler.model.layers.11.self_attn.k_proj.weight', 'embed_pooler.model.layers.11.self_attn.o_proj.weight', 'embed_pooler.model.layers.11.self_attn.q_proj.bias', 'embed_pooler.model.layers.11.self_attn.q_proj.weight', 'embed_pooler.model.layers.11.self_attn.v_proj.bias', 'embed_pooler.model.layers.11.self_attn.v_proj.weight', 'embed_pooler.model.layers.12.input_layernorm.weight', 'embed_pooler.model.layers.12.mlp.down_proj.weight', 'embed_pooler.model.layers.12.mlp.gate_proj.weight', 'embed_pooler.model.layers.12.mlp.up_proj.weight', 'embed_pooler.model.layers.12.post_attention_layernorm.weight', 'embed_pooler.model.layers.12.self_attn.k_proj.bias', 'embed_pooler.model.layers.12.self_attn.k_proj.weight', 'embed_pooler.model.layers.12.self_attn.o_proj.weight', 'embed_pooler.model.layers.12.self_attn.q_proj.bias', 'embed_pooler.model.layers.12.self_attn.q_proj.weight', 'embed_pooler.model.layers.12.self_attn.v_proj.bias', 'embed_pooler.model.layers.12.self_attn.v_proj.weight', 'embed_pooler.model.layers.13.input_layernorm.weight', 'embed_pooler.model.layers.13.mlp.down_proj.weight', 'embed_pooler.model.layers.13.mlp.gate_proj.weight', 'embed_pooler.model.layers.13.mlp.up_proj.weight', 'embed_pooler.model.layers.13.post_attention_layernorm.weight', 'embed_pooler.model.layers.13.self_attn.k_proj.bias', 'embed_pooler.model.layers.13.self_attn.k_proj.weight', 'embed_pooler.model.layers.13.self_attn.o_proj.weight', 'embed_pooler.model.layers.13.self_attn.q_proj.bias', 'embed_pooler.model.layers.13.self_attn.q_proj.weight', 'embed_pooler.model.layers.13.self_attn.v_proj.bias', 'embed_pooler.model.layers.13.self_attn.v_proj.weight', 'embed_pooler.model.layers.14.input_layernorm.weight', 'embed_pooler.model.layers.14.mlp.down_proj.weight', 'embed_pooler.model.layers.14.mlp.gate_proj.weight', 'embed_pooler.model.layers.14.mlp.up_proj.weight', 'embed_pooler.model.layers.14.post_attention_layernorm.weight', 'embed_pooler.model.layers.14.self_attn.k_proj.bias', 'embed_pooler.model.layers.14.self_attn.k_proj.weight', 'embed_pooler.model.layers.14.self_attn.o_proj.weight', 'embed_pooler.model.layers.14.self_attn.q_proj.bias', 'embed_pooler.model.layers.14.self_attn.q_proj.weight', 'embed_pooler.model.layers.14.self_attn.v_proj.bias', 'embed_pooler.model.layers.14.self_attn.v_proj.weight', 'embed_pooler.model.layers.15.input_layernorm.weight', 'embed_pooler.model.layers.15.mlp.down_proj.weight', 'embed_pooler.model.layers.15.mlp.gate_proj.weight', 'embed_pooler.model.layers.15.mlp.up_proj.weight', 'embed_pooler.model.layers.15.post_attention_layernorm.weight', 'embed_pooler.model.layers.15.self_attn.k_proj.bias', 'embed_pooler.model.layers.15.self_attn.k_proj.weight', 'embed_pooler.model.layers.15.self_attn.o_proj.weight', 'embed_pooler.model.layers.15.self_attn.q_proj.bias', 'embed_pooler.model.layers.15.self_attn.q_proj.weight', 'embed_pooler.model.layers.15.self_attn.v_proj.bias', 'embed_pooler.model.layers.15.self_attn.v_proj.weight', 'embed_pooler.model.layers.16.input_layernorm.weight', 'embed_pooler.model.layers.16.mlp.down_proj.weight', 'embed_pooler.model.layers.16.mlp.gate_proj.weight', 'embed_pooler.model.layers.16.mlp.up_proj.weight', 'embed_pooler.model.layers.16.post_attention_layernorm.weight', 'embed_pooler.model.layers.16.self_attn.k_proj.bias', 'embed_pooler.model.layers.16.self_attn.k_proj.weight', 'embed_pooler.model.layers.16.self_attn.o_proj.weight', 'embed_pooler.model.layers.16.self_attn.q_proj.bias', 'embed_pooler.model.layers.16.self_attn.q_proj.weight', 'embed_pooler.model.layers.16.self_attn.v_proj.bias', 'embed_pooler.model.layers.16.self_attn.v_proj.weight', 'embed_pooler.model.layers.17.input_layernorm.weight', 'embed_pooler.model.layers.17.mlp.down_proj.weight', 'embed_pooler.model.layers.17.mlp.gate_proj.weight', 'embed_pooler.model.layers.17.mlp.up_proj.weight', 'embed_pooler.model.layers.17.post_attention_layernorm.weight', 'embed_pooler.model.layers.17.self_attn.k_proj.bias', 'embed_pooler.model.layers.17.self_attn.k_proj.weight', 'embed_pooler.model.layers.17.self_attn.o_proj.weight', 'embed_pooler.model.layers.17.self_attn.q_proj.bias', 'embed_pooler.model.layers.17.self_attn.q_proj.weight', 'embed_pooler.model.layers.17.self_attn.v_proj.bias', 'embed_pooler.model.layers.17.self_attn.v_proj.weight', 'embed_pooler.model.layers.18.input_layernorm.weight', 'embed_pooler.model.layers.18.mlp.down_proj.weight', 'embed_pooler.model.layers.18.mlp.gate_proj.weight', 'embed_pooler.model.layers.18.mlp.up_proj.weight', 'embed_pooler.model.layers.18.post_attention_layernorm.weight', 'embed_pooler.model.layers.18.self_attn.k_proj.bias', 'embed_pooler.model.layers.18.self_attn.k_proj.weight', 'embed_pooler.model.layers.18.self_attn.o_proj.weight', 'embed_pooler.model.layers.18.self_attn.q_proj.bias', 'embed_pooler.model.layers.18.self_attn.q_proj.weight', 'embed_pooler.model.layers.18.self_attn.v_proj.bias', 'embed_pooler.model.layers.18.self_attn.v_proj.weight', 'embed_pooler.model.layers.19.input_layernorm.weight', 'embed_pooler.model.layers.19.mlp.down_proj.weight', 'embed_pooler.model.layers.19.mlp.gate_proj.weight', 'embed_pooler.model.layers.19.mlp.up_proj.weight', 'embed_pooler.model.layers.19.post_attention_layernorm.weight', 'embed_pooler.model.layers.19.self_attn.k_proj.bias', 'embed_pooler.model.layers.19.self_attn.k_proj.weight', 'embed_pooler.model.layers.19.self_attn.o_proj.weight', 'embed_pooler.model.layers.19.self_attn.q_proj.bias', 'embed_pooler.model.layers.19.self_attn.q_proj.weight', 'embed_pooler.model.layers.19.self_attn.v_proj.bias', 'embed_pooler.model.layers.19.self_attn.v_proj.weight', 'embed_pooler.model.layers.2.input_layernorm.weight', 'embed_pooler.model.layers.2.mlp.down_proj.weight', 'embed_pooler.model.layers.2.mlp.gate_proj.weight', 'embed_pooler.model.layers.2.mlp.up_proj.weight', 'embed_pooler.model.layers.2.post_attention_layernorm.weight', 'embed_pooler.model.layers.2.self_attn.k_proj.bias', 'embed_pooler.model.layers.2.self_attn.k_proj.weight', 'embed_pooler.model.layers.2.self_attn.o_proj.weight', 'embed_pooler.model.layers.2.self_attn.q_proj.bias', 'embed_pooler.model.layers.2.self_attn.q_proj.weight', 'embed_pooler.model.layers.2.self_attn.v_proj.bias', 'embed_pooler.model.layers.2.self_attn.v_proj.weight', 'embed_pooler.model.layers.20.input_layernorm.weight', 'embed_pooler.model.layers.20.mlp.down_proj.weight', 'embed_pooler.model.layers.20.mlp.gate_proj.weight', 'embed_pooler.model.layers.20.mlp.up_proj.weight', 'embed_pooler.model.layers.20.post_attention_layernorm.weight', 'embed_pooler.model.layers.20.self_attn.k_proj.bias', 'embed_pooler.model.layers.20.self_attn.k_proj.weight', 'embed_pooler.model.layers.20.self_attn.o_proj.weight', 'embed_pooler.model.layers.20.self_attn.q_proj.bias', 'embed_pooler.model.layers.20.self_attn.q_proj.weight', 'embed_pooler.model.layers.20.self_attn.v_proj.bias', 'embed_pooler.model.layers.20.self_attn.v_proj.weight', 'embed_pooler.model.layers.21.input_layernorm.weight', 'embed_pooler.model.layers.21.mlp.down_proj.weight', 'embed_pooler.model.layers.21.mlp.gate_proj.weight', 'embed_pooler.model.layers.21.mlp.up_proj.weight', 'embed_pooler.model.layers.21.post_attention_layernorm.weight', 'embed_pooler.model.layers.21.self_attn.k_proj.bias', 'embed_pooler.model.layers.21.self_attn.k_proj.weight', 'embed_pooler.model.layers.21.self_attn.o_proj.weight', 'embed_pooler.model.layers.21.self_attn.q_proj.bias', 'embed_pooler.model.layers.21.self_attn.q_proj.weight', 'embed_pooler.model.layers.21.self_attn.v_proj.bias', 'embed_pooler.model.layers.21.self_attn.v_proj.weight', 'embed_pooler.model.layers.22.input_layernorm.weight', 'embed_pooler.model.layers.22.mlp.down_proj.weight', 'embed_pooler.model.layers.22.mlp.gate_proj.weight', 'embed_pooler.model.layers.22.mlp.up_proj.weight', 'embed_pooler.model.layers.22.post_attention_layernorm.weight', 'embed_pooler.model.layers.22.self_attn.k_proj.bias', 'embed_pooler.model.layers.22.self_attn.k_proj.weight', 'embed_pooler.model.layers.22.self_attn.o_proj.weight', 'embed_pooler.model.layers.22.self_attn.q_proj.bias', 'embed_pooler.model.layers.22.self_attn.q_proj.weight', 'embed_pooler.model.layers.22.self_attn.v_proj.bias', 'embed_pooler.model.layers.22.self_attn.v_proj.weight', 'embed_pooler.model.layers.23.input_layernorm.weight', 'embed_pooler.model.layers.23.mlp.down_proj.weight', 'embed_pooler.model.layers.23.mlp.gate_proj.weight', 'embed_pooler.model.layers.23.mlp.up_proj.weight', 'embed_pooler.model.layers.23.post_attention_layernorm.weight', 'embed_pooler.model.layers.23.self_attn.k_proj.bias', 'embed_pooler.model.layers.23.self_attn.k_proj.weight', 'embed_pooler.model.layers.23.self_attn.o_proj.weight', 'embed_pooler.model.layers.23.self_attn.q_proj.bias', 'embed_pooler.model.layers.23.self_attn.q_proj.weight', 'embed_pooler.model.layers.23.self_attn.v_proj.bias', 'embed_pooler.model.layers.23.self_attn.v_proj.weight', 'embed_pooler.model.layers.24.input_layernorm.weight', 'embed_pooler.model.layers.24.mlp.down_proj.weight', 'embed_pooler.model.layers.24.mlp.gate_proj.weight', 'embed_pooler.model.layers.24.mlp.up_proj.weight', 'embed_pooler.model.layers.24.post_attention_layernorm.weight', 'embed_pooler.model.layers.24.self_attn.k_proj.bias', 'embed_pooler.model.layers.24.self_attn.k_proj.weight', 'embed_pooler.model.layers.24.self_attn.o_proj.weight', 'embed_pooler.model.layers.24.self_attn.q_proj.bias', 'embed_pooler.model.layers.24.self_attn.q_proj.weight', 'embed_pooler.model.layers.24.self_attn.v_proj.bias', 'embed_pooler.model.layers.24.self_attn.v_proj.weight', 'embed_pooler.model.layers.25.input_layernorm.weight', 'embed_pooler.model.layers.25.mlp.down_proj.weight', 'embed_pooler.model.layers.25.mlp.gate_proj.weight', 'embed_pooler.model.layers.25.mlp.up_proj.weight', 'embed_pooler.model.layers.25.post_attention_layernorm.weight', 'embed_pooler.model.layers.25.self_attn.k_proj.bias', 'embed_pooler.model.layers.25.self_attn.k_proj.weight', 'embed_pooler.model.layers.25.self_attn.o_proj.weight', 'embed_pooler.model.layers.25.self_attn.q_proj.bias', 'embed_pooler.model.layers.25.self_attn.q_proj.weight', 'embed_pooler.model.layers.25.self_attn.v_proj.bias', 'embed_pooler.model.layers.25.self_attn.v_proj.weight', 'embed_pooler.model.layers.26.input_layernorm.weight', 'embed_pooler.model.layers.26.mlp.down_proj.weight', 'embed_pooler.model.layers.26.mlp.gate_proj.weight', 'embed_pooler.model.layers.26.mlp.up_proj.weight', 'embed_pooler.model.layers.26.post_attention_layernorm.weight', 'embed_pooler.model.layers.26.self_attn.k_proj.bias', 'embed_pooler.model.layers.26.self_attn.k_proj.weight', 'embed_pooler.model.layers.26.self_attn.o_proj.weight', 'embed_pooler.model.layers.26.self_attn.q_proj.bias', 'embed_pooler.model.layers.26.self_attn.q_proj.weight', 'embed_pooler.model.layers.26.self_attn.v_proj.bias', 'embed_pooler.model.layers.26.self_attn.v_proj.weight', 'embed_pooler.model.layers.27.input_layernorm.weight', 'embed_pooler.model.layers.27.mlp.down_proj.weight', 'embed_pooler.model.layers.27.mlp.gate_proj.weight', 'embed_pooler.model.layers.27.mlp.up_proj.weight', 'embed_pooler.model.layers.27.post_attention_layernorm.weight', 'embed_pooler.model.layers.27.self_attn.k_proj.bias', 'embed_pooler.model.layers.27.self_attn.k_proj.weight', 'embed_pooler.model.layers.27.self_attn.o_proj.weight', 'embed_pooler.model.layers.27.self_attn.q_proj.bias', 'embed_pooler.model.layers.27.self_attn.q_proj.weight', 'embed_pooler.model.layers.27.self_attn.v_proj.bias', 'embed_pooler.model.layers.27.self_attn.v_proj.weight', 'embed_pooler.model.layers.3.input_layernorm.weight', 'embed_pooler.model.layers.3.mlp.down_proj.weight', 'embed_pooler.model.layers.3.mlp.gate_proj.weight', 'embed_pooler.model.layers.3.mlp.up_proj.weight', 'embed_pooler.model.layers.3.post_attention_layernorm.weight', 'embed_pooler.model.layers.3.self_attn.k_proj.bias', 'embed_pooler.model.layers.3.self_attn.k_proj.weight', 'embed_pooler.model.layers.3.self_attn.o_proj.weight', 'embed_pooler.model.layers.3.self_attn.q_proj.bias', 'embed_pooler.model.layers.3.self_attn.q_proj.weight', 'embed_pooler.model.layers.3.self_attn.v_proj.bias', 'embed_pooler.model.layers.3.self_attn.v_proj.weight', 'embed_pooler.model.layers.4.input_layernorm.weight', 'embed_pooler.model.layers.4.mlp.down_proj.weight', 'embed_pooler.model.layers.4.mlp.gate_proj.weight', 'embed_pooler.model.layers.4.mlp.up_proj.weight', 'embed_pooler.model.layers.4.post_attention_layernorm.weight', 'embed_pooler.model.layers.4.self_attn.k_proj.bias', 'embed_pooler.model.layers.4.self_attn.k_proj.weight', 'embed_pooler.model.layers.4.self_attn.o_proj.weight', 'embed_pooler.model.layers.4.self_attn.q_proj.bias', 'embed_pooler.model.layers.4.self_attn.q_proj.weight', 'embed_pooler.model.layers.4.self_attn.v_proj.bias', 'embed_pooler.model.layers.4.self_attn.v_proj.weight', 'embed_pooler.model.layers.5.input_layernorm.weight', 'embed_pooler.model.layers.5.mlp.down_proj.weight', 'embed_pooler.model.layers.5.mlp.gate_proj.weight', 'embed_pooler.model.layers.5.mlp.up_proj.weight', 'embed_pooler.model.layers.5.post_attention_layernorm.weight', 'embed_pooler.model.layers.5.self_attn.k_proj.bias', 'embed_pooler.model.layers.5.self_attn.k_proj.weight', 'embed_pooler.model.layers.5.self_attn.o_proj.weight', 'embed_pooler.model.layers.5.self_attn.q_proj.bias', 'embed_pooler.model.layers.5.self_attn.q_proj.weight', 'embed_pooler.model.layers.5.self_attn.v_proj.bias', 'embed_pooler.model.layers.5.self_attn.v_proj.weight', 'embed_pooler.model.layers.6.input_layernorm.weight', 'embed_pooler.model.layers.6.mlp.down_proj.weight', 'embed_pooler.model.layers.6.mlp.gate_proj.weight', 'embed_pooler.model.layers.6.mlp.up_proj.weight', 'embed_pooler.model.layers.6.post_attention_layernorm.weight', 'embed_pooler.model.layers.6.self_attn.k_proj.bias', 'embed_pooler.model.layers.6.self_attn.k_proj.weight', 'embed_pooler.model.layers.6.self_attn.o_proj.weight', 'embed_pooler.model.layers.6.self_attn.q_proj.bias', 'embed_pooler.model.layers.6.self_attn.q_proj.weight', 'embed_pooler.model.layers.6.self_attn.v_proj.bias', 'embed_pooler.model.layers.6.self_attn.v_proj.weight', 'embed_pooler.model.layers.7.input_layernorm.weight', 'embed_pooler.model.layers.7.mlp.down_proj.weight', 'embed_pooler.model.layers.7.mlp.gate_proj.weight', 'embed_pooler.model.layers.7.mlp.up_proj.weight', 'embed_pooler.model.layers.7.post_attention_layernorm.weight', 'embed_pooler.model.layers.7.self_attn.k_proj.bias', 'embed_pooler.model.layers.7.self_attn.k_proj.weight', 'embed_pooler.model.layers.7.self_attn.o_proj.weight', 'embed_pooler.model.layers.7.self_attn.q_proj.bias', 'embed_pooler.model.layers.7.self_attn.q_proj.weight', 'embed_pooler.model.layers.7.self_attn.v_proj.bias', 'embed_pooler.model.layers.7.self_attn.v_proj.weight', 'embed_pooler.model.layers.8.input_layernorm.weight', 'embed_pooler.model.layers.8.mlp.down_proj.weight', 'embed_pooler.model.layers.8.mlp.gate_proj.weight', 'embed_pooler.model.layers.8.mlp.up_proj.weight', 'embed_pooler.model.layers.8.post_attention_layernorm.weight', 'embed_pooler.model.layers.8.self_attn.k_proj.bias', 'embed_pooler.model.layers.8.self_attn.k_proj.weight', 'embed_pooler.model.layers.8.self_attn.o_proj.weight', 'embed_pooler.model.layers.8.self_attn.q_proj.bias', 'embed_pooler.model.layers.8.self_attn.q_proj.weight', 'embed_pooler.model.layers.8.self_attn.v_proj.bias', 'embed_pooler.model.layers.8.self_attn.v_proj.weight', 'embed_pooler.model.layers.9.input_layernorm.weight', 'embed_pooler.model.layers.9.mlp.down_proj.weight', 'embed_pooler.model.layers.9.mlp.gate_proj.weight', 'embed_pooler.model.layers.9.mlp.up_proj.weight', 'embed_pooler.model.layers.9.post_attention_layernorm.weight', 'embed_pooler.model.layers.9.self_attn.k_proj.bias', 'embed_pooler.model.layers.9.self_attn.k_proj.weight', 'embed_pooler.model.layers.9.self_attn.o_proj.weight', 'embed_pooler.model.layers.9.self_attn.q_proj.bias', 'embed_pooler.model.layers.9.self_attn.q_proj.weight', 'embed_pooler.model.layers.9.self_attn.v_proj.bias', 'embed_pooler.model.layers.9.self_attn.v_proj.weight', 'embed_pooler.model.norm.weight']\n",
      "You should probably TRAIN this model on a down-stream task to be able to use it for predictions and inference.\n",
      "/home/user-name-goes-here/.local/lib/python3.11/site-packages/transformers/generation/configuration_utils.py:629: UserWarning: `do_sample` is set to `False`. However, `temperature` is set to `0.6` -- this flag is only used in sample-based generation modes. You should set `do_sample=True` or unset `temperature`.\n",
      "  warnings.warn(\n",
      "/home/user-name-goes-here/.local/lib/python3.11/site-packages/transformers/generation/configuration_utils.py:634: UserWarning: `do_sample` is set to `False`. However, `top_p` is set to `0.95` -- this flag is only used in sample-based generation modes. You should set `do_sample=True` or unset `top_p`.\n",
      "  warnings.warn(\n",
      "The attention mask and the pad token id were not set. As a consequence, you may observe unexpected behavior. Please pass your input's `attention_mask` to obtain reliable results.\n",
      "Setting `pad_token_id` to `eos_token_id`:151643 for open-end generation.\n",
      "The attention mask is not set and cannot be inferred from input because pad token is same as eos token. As a consequence, you may observe unexpected behavior. Please pass your input's `attention_mask` to obtain reliable results.\n"
     ]
    },
    {
     "name": "stdout",
     "output_type": "stream",
     "text": [
      "<｜begin▁of▁sentence｜>You are a helpful assistant.<｜User｜>how many wings has a bird?<｜Assistant｜><think>\n",
      "\n"
     ]
    },
    {
     "data": {
      "text/plain": [
       "'Okay, so I need to figure out how many wings a bird has. I\\'m not entirely sure, but I know that birds are birds, so they\\'re related to birds. Let me start by recalling what I know about birds. I remember that birds are often called \"fowl\" in some languages, but that\\'s probably just a naming thing. \\n\\nI think most birds have wings, but I\\'m not certain. Maybe I should think about different types of birds. For example, let\\'s take a common bird like a sparrow. I know sparrow is a type of raptor, and I think they have wings. They\\'re usually called \"wings\" in English, so that makes sense. \\n\\nWhat about a different bird, like a crow? I believe crows have wings too. They\\'re often called \"wings\" in some languages, but I\\'m not sure if that\\'s accurate. Maybe it\\'s just a naming convention. \\n\\nWait, I should make sure. Let me think about other birds. How about a penguin? I think penguins have wings, but they\\'re called \"feathers\" in some languages. Hmm, so that\\'s a bit different. But they still have wings. \\n\\nI\\'m trying to remember if there are any birds without wings. I don\\'t think so. All birds I can think of have wings. Maybe I should consider if there are any exceptions. For example, some birds might have different types of wings, like airdromes or something, but I don\\'t think that\\'s the case. \\n\\nI think the key here is to realize that all birds have wings. They\\'re called \"wings\" in English, but they might have different names in other languages. So, the answer is that all birds have wings. \\n\\nWait, but I should make sure I\\'m not confusing this with something else. Maybe I should think about the structure of birds. I know that birds have a head, body, neck, and tail. They have wings on top of their body, which help them fly. So, yes, they have wings. \\n\\nI think I\\'ve covered most types of birds I can think of. They all have wings, so the answer is that all birds have wings. I don\\'t think there are any birds without wings, so the number is the same for all of them. \\n\\nI should also consider if there\\'s any bird that doesn\\'t have wings. I can\\'t think of any, so I\\'ll stick with the conclusion that all birds have wings. \\n\\nSo, to sum it up, every bird has wings, and they\\'re called \"wings\" in English. There are no birds without wings. Therefore, the number of wings a bird has is always the same, and it\\'s equal to the number of wings each bird has. \\n\\nI think that\\'s a solid conclusion. I don\\'t see any exceptions or cases where a bird doesn\\'t have wings, so I\\'m confident in this answer.\\n</think>\\n\\nAll birds have wings. They are commonly referred to as \"wings\" in English, though their names in other languages may vary. There are no birds without wings, so the number of wings a bird has is consistent across all species. \\n\\nAnswer: All birds have wings.'"
      ]
     },
     "execution_count": 1,
     "metadata": {},
     "output_type": "execute_result"
    }
   ],
   "source": [
    "from hidden_capacity_reasoning.utils import tokenize_single_turn\n",
    "from transformers import Qwen2ForCausalLM, Qwen2Model, AutoTokenizer\n",
    "import torch\n",
    "\n",
    "\n",
    "class Qwen2ModelEmbedPoolerV1(Qwen2ForCausalLM):\n",
    "    def __init__(self, config):\n",
    "        super().__init__(config)\n",
    "        self.model = Qwen2Model(config)\n",
    "        # self.model.embed_tokens = None\n",
    "        self.post_init()\n",
    "\n",
    "    def forward(self, input_embeds):\n",
    "        # print(input_embeds.dtype)\n",
    "        input_embeds = self.model(\n",
    "            inputs_embeds=input_embeds,\n",
    "            output_hidden_states=True,\n",
    "        )[0]\n",
    "        # print(input_embeds.dtype)\n",
    "        input_embeds = input_embeds.sum(1) / torch.tensor(\n",
    "            input_embeds.shape[1],\n",
    "            device=input_embeds.device,\n",
    "        )\n",
    "        # print(input_embeds.dtype)\n",
    "        input_embeds = input_embeds.unsqueeze(1)\n",
    "        return input_embeds\n",
    "\n",
    "\n",
    "class Qwen2ForCausalLMCompressionV1(Qwen2ForCausalLM):\n",
    "    def __init__(self, config):\n",
    "        super().__init__(config)\n",
    "        self.model = Qwen2Model(config)\n",
    "        self.vocab_size = config.vocab_size\n",
    "        self.lm_head = torch.nn.Linear(\n",
    "            config.hidden_size, config.vocab_size, bias=False\n",
    "        )\n",
    "        print(config._name_or_path)\n",
    "        self.embed_pooler = Qwen2ModelEmbedPoolerV1.from_pretrained(\n",
    "            config._name_or_path,\n",
    "        )\n",
    "\n",
    "        self.post_init()\n",
    "        # Initialize weights and apply final processing\n",
    "\n",
    "    def forward(\n",
    "        self,\n",
    "        input_ids=None,\n",
    "        attention_mask=None,\n",
    "        position_ids=None,\n",
    "        past_key_values=None,\n",
    "        inputs_embeds=None,\n",
    "        labels=None,\n",
    "        use_cache=None,\n",
    "        output_attentions=None,\n",
    "        output_hidden_states=None,\n",
    "        return_dict=None,\n",
    "        cache_position=None,\n",
    "        logits_to_keep=0,\n",
    "        **kwargs\n",
    "    ):\n",
    "        if \"replaced_original_tokens\" in kwargs:\n",
    "            pass\n",
    "        return super().forward(\n",
    "            input_ids,\n",
    "            attention_mask,\n",
    "            position_ids,\n",
    "            past_key_values,\n",
    "            inputs_embeds,\n",
    "            labels,\n",
    "            use_cache,\n",
    "            output_attentions,\n",
    "            output_hidden_states,\n",
    "            return_dict,\n",
    "            cache_position,\n",
    "            logits_to_keep,\n",
    "            **kwargs\n",
    "        )\n",
    "\n",
    "\n",
    "# torch.set_grad_enabled(False)\n",
    "model_name = \"deepseek-ai/DeepSeek-R1-Distill-Qwen-1.5B\"\n",
    "# model_name = \"./test_model/\"\n",
    "model = Qwen2ForCausalLMCompressionV1.from_pretrained(\n",
    "    model_name,\n",
    "    # embed_pooler,\n",
    "    torch_dtype=torch.bfloat16,\n",
    "    # device_map={\"\": 0},\n",
    ")\n",
    "\n",
    "model = model.eval().cuda()\n",
    "# model.model = model.embed_pooler.model\n",
    "device = \"cuda\"\n",
    "tokenizer = AutoTokenizer.from_pretrained(model_name)\n",
    "\n",
    "prompt = \"how many wings has a bird?\"\n",
    "messages = [\n",
    "    {\"role\": \"system\", \"content\": \"You are a helpful assistant.\"},\n",
    "    {\"role\": \"user\", \"content\": prompt},\n",
    "]\n",
    "text = tokenizer.apply_chat_template(\n",
    "    messages, tokenize=False, add_generation_prompt=True\n",
    ")\n",
    "print(text)\n",
    "model_inputs = tokenizer([text], return_tensors=\"pt\").to(device)\n",
    "\n",
    "with torch.no_grad():\n",
    "    # generated_ids = model.generate(model_inputs.input_ids, max_new_tokens=1)\n",
    "    generated_ids = model.generate(\n",
    "        model_inputs.input_ids, max_new_tokens=1000, do_sample=False\n",
    "    )\n",
    "generated_ids = [\n",
    "    output_ids[len(input_ids) :]\n",
    "    for input_ids, output_ids in zip(model_inputs.input_ids, generated_ids)\n",
    "]\n",
    "\n",
    "response = tokenizer.batch_decode(generated_ids, skip_special_tokens=True)[0]\n",
    "response"
   ]
  },
  {
   "cell_type": "code",
   "execution_count": 2,
   "metadata": {},
   "outputs": [
    {
     "data": {
      "text/plain": [
       "tensor([[True, True, True,  ..., True, True, True],\n",
       "        [True, True, True,  ..., True, True, True],\n",
       "        [True, True, True,  ..., True, True, True],\n",
       "        ...,\n",
       "        [True, True, True,  ..., True, True, True],\n",
       "        [True, True, True,  ..., True, True, True],\n",
       "        [True, True, True,  ..., True, True, True]], device='cuda:0')"
      ]
     },
     "execution_count": 2,
     "metadata": {},
     "output_type": "execute_result"
    }
   ],
   "source": [
    "model.model.embed_tokens.weight == model.embed_pooler.model.embed_tokens.weight"
   ]
  },
  {
   "cell_type": "code",
   "execution_count": 2,
   "metadata": {},
   "outputs": [],
   "source": [
    "pooller = Qwen2ModelEmbedPoolerV1.from_pretrained(model_name)"
   ]
  },
  {
   "cell_type": "code",
   "execution_count": 3,
   "metadata": {},
   "outputs": [
    {
     "data": {
      "text/plain": [
       "('./test_model/tokenizer_config.json',\n",
       " './test_model/special_tokens_map.json',\n",
       " './test_model/tokenizer.json')"
      ]
     },
     "execution_count": 3,
     "metadata": {},
     "output_type": "execute_result"
    }
   ],
   "source": [
    "tokenizer.save_pretrained(\"./test_model\")"
   ]
  },
  {
   "cell_type": "code",
   "execution_count": 2,
   "metadata": {},
   "outputs": [],
   "source": [
    "# model.save_pretrained(\"./test_model\", safe_serialization=False)\n",
    "model.save_pretrained(\"./test_model\")"
   ]
  },
  {
   "cell_type": "code",
   "execution_count": 2,
   "metadata": {},
   "outputs": [
    {
     "data": {
      "text/plain": [
       "Qwen2ForCausalLMCompressionV1(\n",
       "  (model): Qwen2Model(\n",
       "    (embed_tokens): Embedding(151936, 1536)\n",
       "    (layers): ModuleList(\n",
       "      (0-27): 28 x Qwen2DecoderLayer(\n",
       "        (self_attn): Qwen2Attention(\n",
       "          (q_proj): Linear(in_features=1536, out_features=1536, bias=True)\n",
       "          (k_proj): Linear(in_features=1536, out_features=256, bias=True)\n",
       "          (v_proj): Linear(in_features=1536, out_features=256, bias=True)\n",
       "          (o_proj): Linear(in_features=1536, out_features=1536, bias=False)\n",
       "        )\n",
       "        (mlp): Qwen2MLP(\n",
       "          (gate_proj): Linear(in_features=1536, out_features=8960, bias=False)\n",
       "          (up_proj): Linear(in_features=1536, out_features=8960, bias=False)\n",
       "          (down_proj): Linear(in_features=8960, out_features=1536, bias=False)\n",
       "          (act_fn): SiLU()\n",
       "        )\n",
       "        (input_layernorm): Qwen2RMSNorm((1536,), eps=1e-06)\n",
       "        (post_attention_layernorm): Qwen2RMSNorm((1536,), eps=1e-06)\n",
       "      )\n",
       "    )\n",
       "    (norm): Qwen2RMSNorm((1536,), eps=1e-06)\n",
       "    (rotary_emb): Qwen2RotaryEmbedding()\n",
       "  )\n",
       "  (lm_head): Linear(in_features=1536, out_features=151936, bias=False)\n",
       "  (embed_pooler): Qwen2ModelEmbedPoolerV1(\n",
       "    (model): Qwen2Model(\n",
       "      (embed_tokens): Embedding(151936, 1536)\n",
       "      (layers): ModuleList(\n",
       "        (0-27): 28 x Qwen2DecoderLayer(\n",
       "          (self_attn): Qwen2Attention(\n",
       "            (q_proj): Linear(in_features=1536, out_features=1536, bias=True)\n",
       "            (k_proj): Linear(in_features=1536, out_features=256, bias=True)\n",
       "            (v_proj): Linear(in_features=1536, out_features=256, bias=True)\n",
       "            (o_proj): Linear(in_features=1536, out_features=1536, bias=False)\n",
       "          )\n",
       "          (mlp): Qwen2MLP(\n",
       "            (gate_proj): Linear(in_features=1536, out_features=8960, bias=False)\n",
       "            (up_proj): Linear(in_features=1536, out_features=8960, bias=False)\n",
       "            (down_proj): Linear(in_features=8960, out_features=1536, bias=False)\n",
       "            (act_fn): SiLU()\n",
       "          )\n",
       "          (input_layernorm): Qwen2RMSNorm((1536,), eps=1e-06)\n",
       "          (post_attention_layernorm): Qwen2RMSNorm((1536,), eps=1e-06)\n",
       "        )\n",
       "      )\n",
       "      (norm): Qwen2RMSNorm((1536,), eps=1e-06)\n",
       "      (rotary_emb): Qwen2RotaryEmbedding()\n",
       "    )\n",
       "    (lm_head): Linear(in_features=1536, out_features=151936, bias=False)\n",
       "  )\n",
       ")"
      ]
     },
     "execution_count": 2,
     "metadata": {},
     "output_type": "execute_result"
    }
   ],
   "source": [
    "model"
   ]
  },
  {
   "cell_type": "code",
   "execution_count": null,
   "metadata": {},
   "outputs": [],
   "source": [
    "# model.save_pretrained('test_model')"
   ]
  },
  {
   "cell_type": "code",
   "execution_count": 3,
   "metadata": {},
   "outputs": [],
   "source": [
    "# test\n",
    "tokenize_single_turn(\n",
    "    question=dataset[\"train\"][0][\"question\"],\n",
    "    answer=dataset[\"train\"][0][\"answer\"],\n",
    "    tokenizer=tokenizer,\n",
    ")\n",
    "None"
   ]
  },
  {
   "cell_type": "code",
   "execution_count": 4,
   "metadata": {},
   "outputs": [
    {
     "name": "stderr",
     "output_type": "stream",
     "text": [
      "100%|██████████| 900/900 [00:01<00:00, 663.34it/s]\n"
     ]
    }
   ],
   "source": [
    "from tqdm import tqdm\n",
    "\n",
    "train_examples = [\n",
    "    tokenize_single_turn(tokenizer=tokenizer, **item)\n",
    "    for item in tqdm(dataset[\"train\"].to_list())\n",
    "]"
   ]
  },
  {
   "cell_type": "code",
   "execution_count": 9,
   "metadata": {},
   "outputs": [
    {
     "name": "stderr",
     "output_type": "stream",
     "text": [
      "100%|██████████| 900/900 [00:04<00:00, 180.62it/s]\n"
     ]
    }
   ],
   "source": [
    "from hidden_capacity_reasoning.utils import generate_train_examples, pad_train_examples\n",
    "\n",
    "prepared_train_examples = []\n",
    "for item in tqdm(train_examples):\n",
    "    for example in generate_train_examples(\n",
    "        dataset_batch=[item], tokenizer=tokenizer, window_size=4\n",
    "    ):\n",
    "        prepared_train_examples.append(example)"
   ]
  },
  {
   "cell_type": "code",
   "execution_count": 11,
   "metadata": {},
   "outputs": [
    {
     "data": {
      "text/plain": [
       "124217"
      ]
     },
     "execution_count": 11,
     "metadata": {},
     "output_type": "execute_result"
    }
   ],
   "source": [
    "len(prepared_train_examples)"
   ]
  },
  {
   "cell_type": "code",
   "execution_count": 29,
   "metadata": {},
   "outputs": [
    {
     "name": "stderr",
     "output_type": "stream",
     "text": [
      "100%|██████████| 31055/31055 [00:05<00:00, 5994.41it/s] \n"
     ]
    }
   ],
   "source": [
    "from more_itertools import chunked\n",
    "\n",
    "batch_size = 4\n",
    "train_examples_batches = [\n",
    "    pad_train_examples(\n",
    "        train_examples=item,\n",
    "        tokenizer=tokenizer,\n",
    "    )\n",
    "    for item in tqdm(\n",
    "        list(\n",
    "            chunked(\n",
    "                prepared_train_examples,\n",
    "                batch_size,\n",
    "            )\n",
    "        )\n",
    "    )\n",
    "]"
   ]
  },
  {
   "cell_type": "code",
   "execution_count": null,
   "metadata": {},
   "outputs": [
    {
     "data": {
      "text/plain": [
       "4"
      ]
     },
     "execution_count": 37,
     "metadata": {},
     "output_type": "execute_result"
    }
   ],
   "source": [
    "len(train_examples_batches[0][\"replaced_original_tokens\"][\"input_ids\"])"
   ]
  },
  {
   "cell_type": "code",
   "execution_count": 38,
   "metadata": {},
   "outputs": [
    {
     "data": {
      "text/plain": [
       "dict_keys(['replaced_original_tokens', 'compressed_input_ids', 'original_tokens'])"
      ]
     },
     "execution_count": 38,
     "metadata": {},
     "output_type": "execute_result"
    }
   ],
   "source": [
    "train_examples_batches[0].keys()"
   ]
  },
  {
   "cell_type": "code",
   "execution_count": 47,
   "metadata": {},
   "outputs": [
    {
     "name": "stdout",
     "output_type": "stream",
     "text": [
      "31055\n"
     ]
    }
   ],
   "source": [
    "train_examples_batches_clean = []\n",
    "for item in train_examples_batches:\n",
    "    train_examples_batches_clean.append(\n",
    "        {\n",
    "            \"replaced_original_tokens\": item[\"replaced_original_tokens\"][\"input_ids\"],\n",
    "            \"compressed_input_ids\": item[\"compressed_input_ids\"][\"input_ids\"],\n",
    "            \"original_tokens\": item[\"original_tokens\"][\"input_ids\"],\n",
    "            \"attention_mask\": item[\"compressed_input_ids\"][\"attention_mask\"],\n",
    "            \"labels\": item[\"compressed_input_ids\"][\"input_ids\"],\n",
    "        }\n",
    "    )\n",
    "print(len(train_examples_batches_clean))\n",
    "# train_examples_batches_clean[0]"
   ]
  },
  {
   "cell_type": "code",
   "execution_count": null,
   "metadata": {},
   "outputs": [
    {
     "data": {
      "text/plain": [
       "torch.Size([1, 2, 1536])"
      ]
     },
     "execution_count": 49,
     "metadata": {},
     "output_type": "execute_result"
    }
   ],
   "source": [
    "model.get_input_embeddings()(torch.tensor([[1, 2]], device=\"cuda\")).shape"
   ]
  },
  {
   "cell_type": "code",
   "execution_count": null,
   "metadata": {},
   "outputs": [
    {
     "name": "stdout",
     "output_type": "stream",
     "text": [
      "trainable params: 18,538,496 || all params: 1,795,626,496 || trainable%: 1.0324\n",
      "None\n",
      "PeftModel(\n",
      "  (base_model): LoraModel(\n",
      "    (model): Qwen2ModelEmbedPooler(\n",
      "      (model): Qwen2Model(\n",
      "        (embed_tokens): Embedding(151936, 1536)\n",
      "        (layers): ModuleList(\n",
      "          (0-27): 28 x Qwen2DecoderLayer(\n",
      "            (self_attn): Qwen2Attention(\n",
      "              (q_proj): lora.Linear(\n",
      "                (base_layer): Linear(in_features=1536, out_features=1536, bias=True)\n",
      "                (lora_dropout): ModuleDict(\n",
      "                  (default): Identity()\n",
      "                )\n",
      "                (lora_A): ModuleDict(\n",
      "                  (default): Linear(in_features=1536, out_features=64, bias=False)\n",
      "                )\n",
      "                (lora_B): ModuleDict(\n",
      "                  (default): Linear(in_features=64, out_features=1536, bias=False)\n",
      "                )\n",
      "                (lora_embedding_A): ParameterDict()\n",
      "                (lora_embedding_B): ParameterDict()\n",
      "                (lora_magnitude_vector): ModuleDict()\n",
      "              )\n",
      "              (k_proj): Linear(in_features=1536, out_features=256, bias=True)\n",
      "              (v_proj): lora.Linear(\n",
      "                (base_layer): Linear(in_features=1536, out_features=256, bias=True)\n",
      "                (lora_dropout): ModuleDict(\n",
      "                  (default): Identity()\n",
      "                )\n",
      "                (lora_A): ModuleDict(\n",
      "                  (default): Linear(in_features=1536, out_features=64, bias=False)\n",
      "                )\n",
      "                (lora_B): ModuleDict(\n",
      "                  (default): Linear(in_features=64, out_features=256, bias=False)\n",
      "                )\n",
      "                (lora_embedding_A): ParameterDict()\n",
      "                (lora_embedding_B): ParameterDict()\n",
      "                (lora_magnitude_vector): ModuleDict()\n",
      "              )\n",
      "              (o_proj): Linear(in_features=1536, out_features=1536, bias=False)\n",
      "            )\n",
      "            (mlp): Qwen2MLP(\n",
      "              (gate_proj): Linear(in_features=1536, out_features=8960, bias=False)\n",
      "              (up_proj): Linear(in_features=1536, out_features=8960, bias=False)\n",
      "              (down_proj): Linear(in_features=8960, out_features=1536, bias=False)\n",
      "              (act_fn): SiLU()\n",
      "            )\n",
      "            (input_layernorm): Qwen2RMSNorm((1536,), eps=1e-06)\n",
      "            (post_attention_layernorm): Qwen2RMSNorm((1536,), eps=1e-06)\n",
      "          )\n",
      "        )\n",
      "        (norm): Qwen2RMSNorm((1536,), eps=1e-06)\n",
      "        (rotary_emb): Qwen2RotaryEmbedding()\n",
      "      )\n",
      "      (lm_head): lora.Linear(\n",
      "        (base_layer): Linear(in_features=1536, out_features=151936, bias=False)\n",
      "        (lora_dropout): ModuleDict(\n",
      "          (default): Identity()\n",
      "        )\n",
      "        (lora_A): ModuleDict(\n",
      "          (default): Linear(in_features=1536, out_features=64, bias=False)\n",
      "        )\n",
      "        (lora_B): ModuleDict(\n",
      "          (default): Linear(in_features=64, out_features=151936, bias=False)\n",
      "        )\n",
      "        (lora_embedding_A): ParameterDict()\n",
      "        (lora_embedding_B): ParameterDict()\n",
      "        (lora_magnitude_vector): ModuleDict()\n",
      "      )\n",
      "    )\n",
      "  )\n",
      ")\n"
     ]
    }
   ],
   "source": [
    "import transformers\n",
    "from peft import (\n",
    "    LoraConfig,\n",
    "    PeftConfig,\n",
    "    PeftModel,\n",
    "    get_peft_model,\n",
    "    prepare_model_for_kbit_training,\n",
    ")\n",
    "from transformers import (\n",
    "    AutoModelForCausalLM,\n",
    "    AutoTokenizer,\n",
    "    HfArgumentParser,\n",
    "    TrainingArguments,\n",
    "    Trainer,\n",
    "    default_data_collator,\n",
    ")\n",
    "\n",
    "config = LoraConfig(\n",
    "    r=64,\n",
    "    lora_alpha=128,\n",
    "    lora_dropout=0.0,\n",
    "    target_modules=[\"lm_head\", \"q_proj\", \"v_proj\"],\n",
    ")\n",
    "embed_pooler = get_peft_model(embed_pooler, config)\n",
    "print(embed_pooler.print_trainable_parameters())\n",
    "print(embed_pooler)"
   ]
  },
  {
   "cell_type": "code",
   "execution_count": null,
   "metadata": {},
   "outputs": [],
   "source": [
    "# https://github.com/huggingface/trl/blob/main/examples/scripts/sft_video_llm.py"
   ]
  },
  {
   "cell_type": "markdown",
   "metadata": {},
   "source": [
    "### Use unsloth"
   ]
  },
  {
   "cell_type": "code",
   "execution_count": null,
   "metadata": {},
   "outputs": [],
   "source": []
  }
 ],
 "metadata": {
  "kernelspec": {
   "display_name": "base",
   "language": "python",
   "name": "python3"
  },
  "language_info": {
   "codemirror_mode": {
    "name": "ipython",
    "version": 3
   },
   "file_extension": ".py",
   "mimetype": "text/x-python",
   "name": "python",
   "nbconvert_exporter": "python",
   "pygments_lexer": "ipython3",
   "version": "3.11.10"
  }
 },
 "nbformat": 4,
 "nbformat_minor": 2
}
