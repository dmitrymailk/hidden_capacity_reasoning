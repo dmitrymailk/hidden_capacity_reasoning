{
 "cells": [
  {
   "cell_type": "code",
   "execution_count": 253,
   "metadata": {},
   "outputs": [
    {
     "name": "stdout",
     "output_type": "stream",
     "text": [
      "Бакет с хеш-ключом 10100010: [0]\n",
      "Бакет с хеш-ключом 10100011: [1]\n",
      "Бакет с хеш-ключом 11000101: [2]\n",
      "Бакет с хеш-ключом 11010010: [3]\n",
      "Бакет с хеш-ключом 11010011: [4]\n"
     ]
    }
   ],
   "source": [
    "import numpy as np\n",
    "import random\n",
    "\n",
    "\n",
    "def lsh_hashing(vectors, k=16):\n",
    "    \"\"\"\n",
    "    Хеширует бинарные векторы с использованием Locality Sensitive Hashing.\n",
    "\n",
    "    Args:\n",
    "        vectors: Массив NumPy, где каждая строка - бинарный вектор.\n",
    "        k: Количество хеш-функций (размерность хеш-ключа).\n",
    "\n",
    "    Returns:\n",
    "        Словарь (хеш-таблица), где ключи - хеш-ключи, а значения - списки индексов векторов в бакете.\n",
    "    \"\"\"\n",
    "\n",
    "    num_vectors = vectors.shape[0]\n",
    "    vector_dimension = vectors.shape[1]\n",
    "\n",
    "    # 1. Создаем случайные бинарные векторы (хеш-функции)\n",
    "    hash_functions = np.random.normal(0, 2, size=(k, vector_dimension))\n",
    "    # hash_functions = np.random.rand(k, vector_dimension) - 0.5\n",
    "\n",
    "    # 2. Хешируем каждый входной вектор\n",
    "    hash_table = {}\n",
    "    for i in range(num_vectors):\n",
    "        # Вычисляем dot product с каждой хеш-функцией\n",
    "        dot_products = np.dot(hash_functions, vectors[i])\n",
    "        # print(dot_products)\n",
    "        # Преобразуем dot product в бинарное значение\n",
    "        hash_bits = (dot_products >= 0).astype(\n",
    "            int\n",
    "        )  # >= 0, чтобы избежать проблем с очень малыми отрицательными числами\n",
    "\n",
    "        # Объединяем биты в хеш-ключ (в виде строки)\n",
    "        hash_key = \"\".join(str(bit) for bit in hash_bits)\n",
    "        # print(hash_key)\n",
    "        # 3. Размещаем вектор в бакет\n",
    "        if hash_key not in hash_table:\n",
    "            hash_table[hash_key] = []\n",
    "        hash_table[hash_key].append(i)\n",
    "\n",
    "    return hash_table\n",
    "\n",
    "\n",
    "# Пример использования:\n",
    "vectors = np.array(\n",
    "    [\n",
    "        [1, 0, 1, 0, 0, 0, 0, 1, 0],\n",
    "        [1, 0, 1, 1, 0, 0, 0, 0, 0],\n",
    "        [0, 1, 0, 1, 0, 0, 0, 0, 0],\n",
    "        [0, 1, 0, 0, 0, 0, 1, 0, 0],\n",
    "        [1, 1, 1, 0, 0, 0, 0, 0, 0],\n",
    "    ],\n",
    ")\n",
    "\n",
    "hash_table = lsh_hashing(vectors, k=8)\n",
    "\n",
    "# Печатаем содержимое хеш-таблицы\n",
    "for hash_key, vector_indices in hash_table.items():\n",
    "    print(f\"Бакет с хеш-ключом {hash_key}: {vector_indices}\")"
   ]
  },
  {
   "cell_type": "code",
   "execution_count": 251,
   "metadata": {},
   "outputs": [
    {
     "data": {
      "text/plain": [
       "{'111111111': [0, 1, 2, 3, 4]}"
      ]
     },
     "execution_count": 251,
     "metadata": {},
     "output_type": "execute_result"
    }
   ],
   "source": [
    "hash_table"
   ]
  },
  {
   "cell_type": "code",
   "execution_count": null,
   "metadata": {},
   "outputs": [],
   "source": [
    "from sentence_transformers import SentenceTransformer\n",
    "\n",
    "# 1. Load a pretrained Sentence Transformer model\n",
    "model = SentenceTransformer(\"all-MiniLM-L6-v2\")\n",
    "\n",
    "# The sentences to encode"
   ]
  },
  {
   "cell_type": "code",
   "execution_count": null,
   "metadata": {},
   "outputs": [],
   "source": []
  },
  {
   "cell_type": "code",
   "execution_count": null,
   "metadata": {},
   "outputs": [
    {
     "name": "stdout",
     "output_type": "stream",
     "text": [
      "Бакет с хеш-ключом 0100101011: [0]\n",
      "The weather is lovely today.\n",
      "===\n",
      "===\n",
      "Бакет с хеш-ключом 0110101011: [1]\n",
      "The weather is lovely today\n",
      "===\n",
      "===\n",
      "Бакет с хеш-ключом 0100101001: [2]\n",
      "The weather is lovely\n",
      "===\n",
      "===\n",
      "Бакет с хеш-ключом 0110101111: [3]\n",
      "The weather is good today.\n",
      "===\n",
      "===\n",
      "Бакет с хеш-ключом 0110101110: [4]\n",
      "The weather is bad today.\n",
      "===\n",
      "===\n",
      "Бакет с хеш-ключом 0100111001: [5]\n",
      "It's so sunny outside!\n",
      "===\n",
      "===\n",
      "Бакет с хеш-ключом 1111101111: [6, 7, 8]\n",
      "He drove to the stadium.\n",
      "He drove to the stadium\n",
      "He drove to the stadium in the night\n",
      "===\n",
      "===\n",
      "Бакет с хеш-ключом 0101111001: [9]\n",
      "He loves stadiums\n",
      "===\n",
      "===\n",
      "Бакет с хеш-ключом 1101101011: [10]\n",
      "I love cats\n",
      "===\n",
      "===\n",
      "Бакет с хеш-ключом 1101111001: [11]\n",
      "I love dogs\n",
      "===\n",
      "===\n",
      "Бакет с хеш-ключом 0101011101: [12]\n",
      "He is programming on python.\n",
      "===\n",
      "===\n"
     ]
    }
   ],
   "source": [
    "sentences = [\n",
    "    \"The weather is lovely today.\",\n",
    "    \"The weather is lovely today\",\n",
    "    \"The weather is lovely\",\n",
    "    \"The weather is good today.\",\n",
    "    \"The weather is bad today.\",\n",
    "    \"It's so sunny outside!\",\n",
    "    \"He drove to the stadium.\",\n",
    "    \"He drove to the stadium\",\n",
    "    \"He drove to the stadium in the night\",\n",
    "    \"He loves stadiums\",\n",
    "    \"I love cats\",\n",
    "    \"I love dogs\",\n",
    "    \"He is programming on python.\",\n",
    "]\n",
    "\n",
    "# 2. Calculate embeddings by calling model.encode()\n",
    "embeddings = model.encode(\n",
    "    sentences,\n",
    "    # precision=\"binary\",\n",
    "    normalize_embeddings=True,\n",
    ")\n",
    "\n",
    "hash_table = lsh_hashing(embeddings, k=10)\n",
    "\n",
    "# Печатаем содержимое хеш-таблицы\n",
    "for hash_key, vector_indices in hash_table.items():\n",
    "    print(f\"Бакет с хеш-ключом {hash_key}: {vector_indices}\")\n",
    "    for i in vector_indices:\n",
    "        print(sentences[i])\n",
    "    print(\"===\")\n",
    "    print(\"===\")"
   ]
  },
  {
   "cell_type": "markdown",
   "metadata": {},
   "source": [
    "### Try On real data"
   ]
  },
  {
   "cell_type": "code",
   "execution_count": null,
   "metadata": {},
   "outputs": [
    {
     "data": {
      "application/vnd.jupyter.widget-view+json": {
       "model_id": "aac7e6a599bb4ac6b6095a8fa77b55fb",
       "version_major": 2,
       "version_minor": 0
      },
      "text/plain": [
       "README.md:   0%|          | 0.00/6.27k [00:00<?, ?B/s]"
      ]
     },
     "metadata": {},
     "output_type": "display_data"
    },
    {
     "data": {
      "application/vnd.jupyter.widget-view+json": {
       "model_id": "2a335f737efd4d2babd4a61da0c6e2f2",
       "version_major": 2,
       "version_minor": 0
      },
      "text/plain": [
       "quora_duplicate_triplets.jsonl:   0%|          | 0.00/183M [00:00<?, ?B/s]"
      ]
     },
     "metadata": {},
     "output_type": "display_data"
    },
    {
     "data": {
      "application/vnd.jupyter.widget-view+json": {
       "model_id": "e9125c80bc2747678c35a7d4c445e84a",
       "version_major": 2,
       "version_minor": 0
      },
      "text/plain": [
       "Generating train split:   0%|          | 0/101762 [00:00<?, ? examples/s]"
      ]
     },
     "metadata": {},
     "output_type": "display_data"
    }
   ],
   "source": [
    "from datasets import load_dataset\n",
    "\n",
    "dataset = load_dataset(\"embedding-data/QQP_triplets\")"
   ]
  },
  {
   "cell_type": "code",
   "execution_count": null,
   "metadata": {},
   "outputs": [
    {
     "data": {
      "text/plain": [
       "{'query': 'Why in India do we not have one on one political debate as in USA?',\n",
       " 'pos': ['Why cant we have a public debate between politicians in India like the one in US?'],\n",
       " 'neg': ['Can people on Quora stop India Pakistan debate? We are sick and tired seeing this everyday in bulk?',\n",
       "  'Why do politicians, instead of having a decent debate on issues going in and around the world, end up fighting always?',\n",
       "  'Can educated politicians make a difference in India?',\n",
       "  'What are some unusual aspects about politics and government in India?',\n",
       "  'What is debate?',\n",
       "  'Why does civic public communication and discourse seem so hollow in modern India?',\n",
       "  'What is a Parliamentary debate?',\n",
       "  \"Why do we always have two candidates at the U.S. presidential debate. yet the ballot has about 7 candidates? Isn't that a misrepresentation of democracy?\",\n",
       "  'Why is civic public communication and discourse so hollow in modern India?',\n",
       "  \"Aren't the Presidential debates teaching our whole country terrible communication skills and why is deliberate misrepresentation even allowed?\",\n",
       "  'Why are most Indian politicians uneducated?',\n",
       "  'Does Indian political leaders capable of doing face to face debates while running for office?',\n",
       "  'What is wrong with the Indian political system and the environment it has built in connection with the people of India? Have parties divided people more?',\n",
       "  'What is a debate?',\n",
       "  'Why do we have legislative council in india?',\n",
       "  'Why does the office of president of India, being politically neutral, not ask for Population control in India?',\n",
       "  \"Why don't we discuss tax and foreign policies more in Indian elections but are instead obsessed with socialist schemes?\",\n",
       "  'Why do Indian politicians lack nationalist thinking?',\n",
       "  'Do you hate indian politicians?',\n",
       "  'Is India facing more stessful times and politically charged atmosphere when compared to Congress regime?',\n",
       "  'Who is the best politician in India? Why?',\n",
       "  \"We all know about the present condition of Indian politicians; they are all just using us to run their train, but still, they win elections and rule over us. Why aren't people giving their vote to NOTA?\",\n",
       "  'Who are clean politicians in India?',\n",
       "  'Why are you not believing in Democracy of India?',\n",
       "  'What does politics in India mean? What are they actually doing?',\n",
       "  'What are the strongest arguments for a debate in favour of brain drain in India and what sources must be used for making a good short speech?',\n",
       "  'Do we really need an election commission in India?',\n",
       "  'Why is there no concept of political correctness in India? Is it a good thing or a bad thing?',\n",
       "  'Why is population control not on agenda of any political party in India?',\n",
       "  'Who are some of the most dangerous or worst politicians in India?']}"
      ]
     },
     "execution_count": 262,
     "metadata": {},
     "output_type": "execute_result"
    }
   ],
   "source": [
    "dataset[\"train\"][0][\"set\"]"
   ]
  },
  {
   "cell_type": "code",
   "execution_count": null,
   "metadata": {},
   "outputs": [
    {
     "name": "stdout",
     "output_type": "stream",
     "text": [
      "Бакет с хеш-ключом 1001111101: [0]\n",
      "POSITIVE\n",
      "Does imaginary gravity exist?\n",
      "===\n",
      "===\n",
      "Бакет с хеш-ключом 0000101101: [1, 7]\n",
      "QUERY\n",
      "Can imaginary time, energy and gravity exist?\n",
      "Are Cengage books good for JEE Advanced?\n",
      "===\n",
      "===\n",
      "Бакет с хеш-ключом 0101100101: [2]\n",
      "What are some good books for IIT JEE preparation for class 10?\n",
      "===\n",
      "===\n",
      "Бакет с хеш-ключом 0100000101: [3]\n",
      "What should be the order of books to read for JEE preparations?\n",
      "===\n",
      "===\n",
      "Бакет с хеш-ключом 0100111101: [4]\n",
      "How is Cengage Books for JEE Advanced?\n",
      "===\n",
      "===\n",
      "Бакет с хеш-ключом 0001010101: [5]\n",
      "Which books did JEE Advanced 2016 AIR 2 Bhavesh Dhingra use in preparation for JEE?\n",
      "===\n",
      "===\n",
      "Бакет с хеш-ключом 0000110001: [6, 9]\n",
      "What are some good books for JEE Chemistry?\n",
      "What are the best books for JEE in chemistry?\n",
      "===\n",
      "===\n",
      "Бакет с хеш-ключом 0100110101: [8]\n",
      "What are some good books for JEE Mains only?\n",
      "===\n",
      "===\n",
      "Бакет с хеш-ключом 1000100001: [10, 11]\n",
      "What are the best mathematics books for the IIT-JEE preparation?\n",
      "What are the best books for theory in math for IIT-JEE preparation?\n",
      "===\n",
      "===\n"
     ]
    },
    {
     "data": {
      "text/plain": [
       "{'query': 'What were the books Aman Bansal used for his Jee preparation?',\n",
       " 'pos': ['Which books were used my Aman Bansal for JEE preparation?'],\n",
       " 'neg': ['What are some good books for IIT JEE preparation for class 10?',\n",
       "  'What should be the order of books to read for JEE preparations?',\n",
       "  'How is Cengage Books for JEE Advanced?',\n",
       "  'Which books did JEE Advanced 2016 AIR 2 Bhavesh Dhingra use in preparation for JEE?',\n",
       "  'What are some good books for JEE Chemistry?',\n",
       "  'Are Cengage books good for JEE Advanced?',\n",
       "  'What are some good books for JEE Mains only?',\n",
       "  'What are the best books for JEE in chemistry?',\n",
       "  'What are the best mathematics books for the IIT-JEE preparation?',\n",
       "  'What are the best books for theory in math for IIT-JEE preparation?',\n",
       "  'Are NCERT books enough for the JEE Main?',\n",
       "  'How are JEE Advanced papers prepared?',\n",
       "  'How should I study for JEE?',\n",
       "  'Which book should i use for JEE  organic chemistry?',\n",
       "  'Which book should I use for JEE organic chemistry?',\n",
       "  'What are the best books for the JEE (Main) and 12th boards (PCM) CBSE?',\n",
       "  'How to study for JEE advance?',\n",
       "  'What are the most preferred books by an IITian to crack IIT-JEE?',\n",
       "  'Are Booklet of Lakshya enough for JEE mains preparations?',\n",
       "  'Are the books of JE (cargo) and JE (commercial) for Airport authority of India (AAI) exam available in the market? Please help?',\n",
       "  'What are the best books for both IIT JEE Mains & Advanced?',\n",
       "  'Where can I buy IIT-JEE correspondence coaching material from the famous Agrawal Classes?',\n",
       "  'Which book is best for organic chemistry for JEE?',\n",
       "  'Of which things should I make notes for revision during JEE preparation?',\n",
       "  'How can I prepare for the JEE Advanced ?',\n",
       "  'Which book should I study for JEE advanced mathematics?',\n",
       "  'What is the best book for physical chemistry for JEE?',\n",
       "  \"I've not yet started studying 11th syllabus of JEE Main, is this book good for the same?\",\n",
       "  'Which book is the best for organic chemistry for JEE?',\n",
       "  'Which is one of the best best mathematics book for IIT JEE preparation?']}"
      ]
     },
     "execution_count": 518,
     "metadata": {},
     "output_type": "execute_result"
    }
   ],
   "source": [
    "initial_pos = 10\n",
    "diff_pos = 20\n",
    "sentences = [\n",
    "    dataset[\"train\"][initial_pos][\"set\"][\"pos\"][0],\n",
    "    dataset[\"train\"][initial_pos][\"set\"][\"query\"],\n",
    "    *dataset[\"train\"][diff_pos][\"set\"][\"neg\"][:10],\n",
    "]\n",
    "\n",
    "# 2. Calculate embeddings by calling model.encode()\n",
    "embeddings = model.encode(\n",
    "    sentences,\n",
    "    # precision=\"binary\",\n",
    "    # normalize_embeddings=True,\n",
    ")\n",
    "\n",
    "hash_table = lsh_hashing(embeddings, k=10)\n",
    "\n",
    "# Печатаем содержимое хеш-таблицы\n",
    "for hash_key, vector_indices in hash_table.items():\n",
    "    print(f\"Бакет с хеш-ключом {hash_key}: {vector_indices}\")\n",
    "    for i in vector_indices:\n",
    "        if i == 0:\n",
    "            print(\"POSITIVE\")\n",
    "        if i == 1:\n",
    "            print(\"QUERY\")\n",
    "        print(sentences[i])\n",
    "    print(\"===\")\n",
    "    print(\"===\")\n",
    "\n",
    "dataset[\"train\"][diff_pos][\"set\"]"
   ]
  },
  {
   "cell_type": "markdown",
   "metadata": {},
   "source": [
    "Может стоит использовать вместо LSH индексацию из faiss? https://github.com/facebookresearch/faiss/blob/main/tutorial/python/2-IVFFlat.py\n",
    "\n",
    "- типа IVFADC"
   ]
  },
  {
   "cell_type": "markdown",
   "metadata": {},
   "source": [
    "## Faiss"
   ]
  },
  {
   "cell_type": "markdown",
   "metadata": {},
   "source": [
    "- этот код позволяет автоматически сформировать центроиды из данных, а потом быстро получать индекс нужного нам вектора"
   ]
  },
  {
   "cell_type": "code",
   "execution_count": null,
   "metadata": {},
   "outputs": [
    {
     "name": "stderr",
     "output_type": "stream",
     "text": [
      "WARNING clustering 1000 points to 100 centroids: please provide at least 3900 training points\n"
     ]
    },
    {
     "data": {
      "text/plain": [
       "array([[25]])"
      ]
     },
     "execution_count": 562,
     "metadata": {},
     "output_type": "execute_result"
    }
   ],
   "source": [
    "import faiss\n",
    "\n",
    "d = 128  # Dimensionality of the vectors\n",
    "nlist = 100  # Number of Voronoi cells (buckets)\n",
    "quantizer = faiss.IndexFlatL2(d)  # Replace with other quantizers as needed\n",
    "\n",
    "#  Using a GPU index.\n",
    "index = faiss.IndexIVFFlat(quantizer, d, nlist, faiss.METRIC_L2)\n",
    "\n",
    "# Generate some random data for training\n",
    "xt = np.random.random((1000, d)).astype(\"float32\")\n",
    "\n",
    "# Train the index\n",
    "index.train(xt)\n",
    "\n",
    "# Add some vectors to the index (training data)\n",
    "index.add(xt)\n",
    "\n",
    "# Create a query vector\n",
    "xq = np.random.random((1, d)).astype(\"float32\")\n",
    "\n",
    "\n",
    "quantizer.assign(xq, 1)"
   ]
  },
  {
   "cell_type": "markdown",
   "metadata": {},
   "source": [
    "### Add Spacy for sentence tokenization"
   ]
  },
  {
   "cell_type": "code",
   "execution_count": 563,
   "metadata": {},
   "outputs": [],
   "source": [
    "# python -m spacy download en_core_web_sm\n",
    "import spacy\n",
    "\n",
    "nlp = spacy.load(\"en_core_web_sm\")"
   ]
  },
  {
   "cell_type": "code",
   "execution_count": null,
   "metadata": {},
   "outputs": [
    {
     "data": {
      "application/vnd.jupyter.widget-view+json": {
       "model_id": "b16030cefed34bdc8e94dd1d9f6fd795",
       "version_major": 2,
       "version_minor": 0
      },
      "text/plain": [
       "README.md:   0%|          | 0.00/12.0k [00:00<?, ?B/s]"
      ]
     },
     "metadata": {},
     "output_type": "display_data"
    },
    {
     "data": {
      "application/vnd.jupyter.widget-view+json": {
       "model_id": "e1be1ece81e04e809c8a37cf18585642",
       "version_major": 2,
       "version_minor": 0
      },
      "text/plain": [
       "1M-GPT4-Augmented.parquet:   0%|          | 0.00/1.01G [00:00<?, ?B/s]"
      ]
     },
     "metadata": {},
     "output_type": "display_data"
    },
    {
     "data": {
      "application/vnd.jupyter.widget-view+json": {
       "model_id": "d11f3f58e29448568ad247b38a180835",
       "version_major": 2,
       "version_minor": 0
      },
      "text/plain": [
       "3_5M-GPT3_5-Augmented.parquet:   0%|          | 0.00/3.09G [00:00<?, ?B/s]"
      ]
     },
     "metadata": {},
     "output_type": "display_data"
    },
    {
     "data": {
      "application/vnd.jupyter.widget-view+json": {
       "model_id": "4961b4b4678a4418915fc614ef33b70f",
       "version_major": 2,
       "version_minor": 0
      },
      "text/plain": [
       "Generating train split: 0 examples [00:00, ? examples/s]"
      ]
     },
     "metadata": {},
     "output_type": "display_data"
    }
   ],
   "source": [
    "from datasets import load_dataset\n",
    "\n",
    "dataset = load_dataset(\"Open-Orca/OpenOrca\")\n",
    "dataset = dataset[\"train\"]"
   ]
  },
  {
   "cell_type": "code",
   "execution_count": 9,
   "metadata": {},
   "outputs": [
    {
     "data": {
      "text/plain": [
       "4233923"
      ]
     },
     "execution_count": 9,
     "metadata": {},
     "output_type": "execute_result"
    }
   ],
   "source": [
    "len(dataset)"
   ]
  },
  {
   "cell_type": "code",
   "execution_count": 10,
   "metadata": {},
   "outputs": [
    {
     "data": {
      "text/plain": [
       "Dataset({\n",
       "    features: ['id', 'system_prompt', 'question', 'response'],\n",
       "    num_rows: 4233923\n",
       "})"
      ]
     },
     "execution_count": 10,
     "metadata": {},
     "output_type": "execute_result"
    }
   ],
   "source": [
    "dataset"
   ]
  },
  {
   "cell_type": "code",
   "execution_count": null,
   "metadata": {},
   "outputs": [
    {
     "data": {
      "text/plain": [
       "[{'from': 'user',\n",
       "  'value': 'Generate an executable Python function generated from the given prompt. The function should take stdin as input and print the output. Simply call the function after the definition.The Chef likes to stay in touch with his staff. So, the Chef, the head server, and the sous-chef all carry two-way transceivers so they can stay in constant contact. Of course, these transceivers have a limited range so if two are too far apart, they cannot communicate directly.\\n\\n\\nThe Chef invested in top-of-the-line transceivers which have a few advanced features. One is that even if two people cannot talk directly because they are out of range, if there is another transceiver that is close enough to both, then the two transceivers can still communicate with each other using the third transceiver as an intermediate device.\\n\\n\\nThere has been a minor emergency in the Chef\\'s restaurant\\nand he needs to communicate with both the head server and the sous-chef right away. Help the Chef determine if it is possible for all three people to communicate with each other, even if two must communicate through the third because they are too far apart.\\n\\n\\nInput\\n\\nThe first line contains a single positive integer T ≤ 100 indicating the number of test cases to follow. The first line of each test case contains a positive integer R ≤ 1,000 indicating that two transceivers can communicate directly without an intermediate transceiver if they are at most R meters away from each other. The remaining three lines of the test case describe the current locations of the Chef, the head server, and the sous-chef, respectively. Each such line contains two integers X,Y (at most 10,000 in absolute value) indicating that the respective person is located at position X,Y.\\n\\n\\nOutput\\n\\nFor each test case you are to output a single line containing a single string. If it is possible for all three to communicate then you should output \"yes\". Otherwise, you should output \"no\".\\n\\n\\nTo be clear, we say that two transceivers are close enough to communicate directly if the length of the straight line connecting their X,Y coordinates is at most R.\\n\\n\\nExample\\n\\nInput:\\n3\\n1\\n0 1\\n0 0\\n1 0\\n2\\n0 1\\n0 0\\n1 0\\n2\\n0 0\\n0 2\\n2 1\\n\\n\\nOutput:\\nyes\\nyes\\nno\\n'},\n",
       " {'from': 'assistant',\n",
       "  'value': '<|begin_of_thought|>\\n\\nOkay, let\\'s see. I need to solve this problem where three people (Chef, head server, sous-chef) have transceivers that can communicate directly if within R meters. If not, but there\\'s a third person acting as a bridge, then they can still communicate. The goal is to check if all three can communicate with each other, possibly through the third.\\n\\nHmm. So for each test case, given R and three points, determine if the three form a connected graph where each pair is either directly connected (distance <= R) or connected via the third.\\n\\nWait, but how exactly? Let\\'s think. The communication can go through one intermediary. So all three must be in a chain where each consecutive pair is within R, or perhaps any two are connected via a path through the third.\\n\\nWait, the problem says: if two can\\'t talk directly but there\\'s a third that is close enough to both, then they can communicate through that third. So the communication graph must be connected. But the three people can form a triangle where each is connected to the others directly, or there\\'s a central node that connects the other two.\\n\\nSo the condition is that all three can communicate with each other, possibly through one another. So the overall structure must allow for any two of them to communicate, either directly or via the third.\\n\\nBut how do I model this? Let\\'s think in terms of possible scenarios where the three can communicate:\\n\\nCase 1: All three are pairwise within R. Then yes.\\n\\nCase 2: Two pairs are within R. For example, Chef to head server is within R, head server to sous-chef is within R. Then Chef and sous-chef can communicate through the head server. So all three can communicate.\\n\\nCase 3: Only one pair is within R, but the third is connected to both via that pair. Wait, no. For example, Chef and head server are within R. Chef and sous-chef are not. Head server and sous-chef are not. Then can the sous-chef communicate with Chef through the head server? Well, sous-chef would need to be within R of the head server, but that\\'s not the case here. Wait, no. So if the head server is connected to Chef (distance <= R), and sous-chef is connected to the head server (distance <= R), then yes. But if the sous-chef is connected to neither, but connected via the Chef and head server? No. Wait, no. Because if the sous-chef is only connected to the Chef, but the Chef is connected to the head server, then sous-chef can communicate with the head server via Chef. But all three would need to form a connected graph.\\n\\nWait, perhaps the correct approach is to model the three points as a graph where edges exist between pairs if their distance is <= R. Then, check if the graph is connected. If the graph is connected, then all three can communicate.\\n\\nYes, that\\'s right. Because if the graph is connected, then all nodes are reachable via some path. For three nodes, the possible connected graphs are:\\n\\n- All three nodes connected directly (triangle).\\n- A chain (A connected to B, B connected to C). Then A and C can communicate via B.\\n\\nSo for the problem, we need to check if the three points form a connected graph in this sense.\\n\\nSo the steps for each test case would be:\\n\\n1. Calculate the pairwise distances between all three points.\\n2. For each pair, determine if the distance is <= R. If yes, that pair is connected.\\n3. Then check if the graph formed by these edges is connected. If yes, output \\'yes\\', else \\'no\\'.\\n\\nBut how to check if the graph is connected with three nodes?\\n\\nWell, for three nodes, the graph is connected if there\\'s at least two edges such that all three are connected. For example:\\n\\nIf there are two edges (A-B and B-C), then connected. If all three have edges (A-B, B-C, A-C), connected. If two edges (A-B and A-C), connected.\\n\\nAlternatively, if there\\'s at least two edges and they form a connected structure. So another approach is to check if all three are reachable via the edges.\\n\\nBut with three nodes, perhaps it\\'s easier to check all possible conditions.\\n\\nAlternatively, for three nodes, the graph is connected if:\\n\\nEither all three are connected (each pair has an edge), or there are two edges that connect all three (like a chain), or any two edges that form a connected graph.\\n\\nWait, in three nodes, the graph is connected if:\\n\\n- There are at least two edges, and the edges form a path that connects all three.\\n\\nAlternatively, the connected graph can be checked by seeing if any one node can reach the other two via the edges.\\n\\nBut perhaps for three nodes, it\\'s easier to check all possible possibilities.\\n\\nSo possible scenarios where the graph is connected:\\n\\n1. All three pairs have distance <= R. So all three edges exist. Then yes.\\n\\n2. Exactly two edges exist, and they form a chain. For example, A connected to B, B connected to C. Then A can reach C via B. So yes.\\n\\n3. Exactly one edge exists. Then only two nodes are connected, the third is isolated. So the graph is disconnected. So no.\\n\\n4. If two edges exist but not forming a chain, like A connected to B, A connected to C. Then the graph is connected. Because B and C can communicate through A.\\n\\nSo in this case, if any two of the three pairs are connected, and there exists a third node that connects to at least one of them, then the graph is connected.\\n\\nWait, no. Let\\'s think: if A is connected to B and A is connected to C, then B can reach C through A. So the graph is connected.\\n\\nSo for three nodes, the graph is connected if the number of edges is >=2, and the edges are such that all three are connected. Which for three nodes, if there are two edges, then it\\'s possible to have a connected graph.\\n\\nSo the possible conditions for the graph to be connected are:\\n\\n- There are at least two edges, and all three nodes are connected via those edges.\\n\\nWhich can be checked by:\\n\\nEither:\\n\\n- All three nodes are connected via their edges (i.e., the edges form a triangle or a chain).\\n\\nAlternatively, for three nodes, the graph is connected if there exists a path between every pair of nodes. But with three nodes, that\\'s possible if the graph is a triangle, a chain, or any two edges.\\n\\nWait, perhaps the easiest way is to check if all three nodes are in the same connected component.\\n\\nHow to compute that for three nodes?\\n\\nWell, let\\'s see. For three nodes, there are three possible pairs: AB, BC, CA.\\n\\nWe can represent the edges as a graph, then check if all three nodes are reachable from each other.\\n\\nBut for three nodes, the connectedness can be determined by checking if the union of the edges connects all three.\\n\\nBut maybe it\\'s easier to consider the possible cases:\\n\\nCase 1: All three pairs are within R. Then connected.\\n\\nCase 2: Exactly two pairs are within R. Then check if the two edges form a connected graph.\\n\\nFor example, if AB and BC are connected: then the graph is connected.\\n\\nIf AB and AC are connected: then the graph is connected (since B and C can communicate via A).\\n\\nIf AB and CA are connected: same as above.\\n\\nCase 3: Exactly one pair is within R. Then the third node is disconnected, so no.\\n\\nCase 4: None of the pairs are within R. Then no.\\n\\nSo for the code, perhaps the steps are:\\n\\nFor each test case:\\n\\n1. Read R.\\n\\n2. Read the three points (A, B, C).\\n\\n3. Compute the pairwise distances between A-B, B-C, C-A.\\n\\n4. For each pair, determine if the distance is <= R. So check AB <= R, BC <= R, CA <= R.\\n\\n5. Now, check if the three nodes form a connected graph.\\n\\nThe connected graph is possible if:\\n\\nEither:\\n\\n- All three pairs are connected (AB, BC, CA all <= R). Then yes.\\n\\nOR\\n\\n- Any two pairs are connected, and they share a common node (so forming a triangle or a chain). For example, AB and BC connected (sharing B), AB and AC connected (sharing A), etc.\\n\\nOR\\n\\n- All three can communicate through a central node. For example, AB and AC are connected (A is the central node), so B and C can communicate via A. So in this case, the graph is connected.\\n\\nAlternatively, if two pairs are connected and those two pairs share a node (so the central node), then the graph is connected.\\n\\nSo for two edges:\\n\\nIf two edges share a common node (like AB and AC), then connected.\\n\\nIf the two edges are AB and BC, then connected (chain).\\n\\nBut if two edges are AB and CA, then it\\'s possible. Wait, AB is between A and B. CA is between C and A. So A is connected to both B and C. So B and C can communicate via A. So yes.\\n\\nSo any two edges in the three-node graph will form a connected graph, because with three nodes, two edges must share at least one node (since there are three possible edges). Wait, no. For example, AB and BC: two edges, share B. AB and AC: two edges, share A. AB and CA: AB is A-B, CA is C-A. So A is connected to B and C. So all three are connected.\\n\\nBut what if two edges are AB and CD (but CD is not part of our three nodes). Wait, no, the three nodes are A, B, C. So any two edges must be between pairs of these three.\\n\\nSo, in three nodes, any two edges will form a connected graph. Because in three nodes, two edges can\\'t form two separate edges that are not connected. Let me think: for example, if the edges are AB and BC: connected. If edges are AB and AC: connected. What if edges are AB and CD? Not possible. So in three nodes, two edges will always form a connected graph. Because the two edges have to connect two pairs, but given that there are three nodes, two edges must form a chain or a fork.\\n\\nWait, three nodes, two edges. The possible combinations are:\\n\\n- AB and BC: forms a chain A-B-C. Connected.\\n\\n- AB and AC: forms a fork (A connected to B and C). B and C can communicate via A. Connected.\\n\\n- AB and CD: but CD is not a pair of the three nodes. So no, that\\'s not possible.\\n\\nSo yes, for three nodes, if there are two edges, the graph is connected. So the graph is connected if there are two or three edges.\\n\\nWait, what if there are two edges between AB and BC: yes, connected. If two edges between AB and AC: connected. If two edges between AB and BC: connected. So yes, any two edges in three nodes will form a connected graph.\\n\\nSo the condition is:\\n\\nIf the number of edges (each edge is a pair with distance <= R) is >= 2, then the graph is connected.\\n\\nOR\\n\\nIf the graph has two edges, then connected.\\n\\nWait, but what about three nodes with two edges: AB and BC. So A is connected to B, B connected to C. Then the graph is connected. So yes.\\n\\nIf two edges are AB and CD (but that\\'s not possible here). So in our problem, the three nodes are A, B, C. So any two edges must be between two of these three.\\n\\nSo, the conclusion is that for three nodes, the graph is connected if:\\n\\nThe number of edges (edges where distance <= R) is >= 2.\\n\\nWait, no. Wait, if two edges are AB and BC, then yes. If two edges are AB and AC, then yes. But what if two edges are AB and CD (but CD is not part of the nodes). So for our problem, since the nodes are A, B, C, the edges can only be AB, BC, CA.\\n\\nSo, for three nodes, if there are two edges, the graph is connected.\\n\\nBecause any two edges must connect all three nodes. For example:\\n\\nAB and BC: A connected to B connected to C. All three connected.\\n\\nAB and AC: A is connected to B and C, so B and C can communicate through A.\\n\\nAB and CA: same as AB and AC.\\n\\nBC and CA: B connected to C connected to A. So all three connected.\\n\\nSo in all cases, two edges in three nodes form a connected graph.\\n\\nSo the condition for the graph being connected is:\\n\\nIf the number of edges (AB, BC, CA) with distance <= R is >= 2.\\n\\nOR if there\\'s at least one edge that connects all three.\\n\\nWait, but what if there\\'s exactly two edges, but they are AB and BC. Then all three are connected. If there are two edges AB and AC, then all three are connected.\\n\\nSo the conclusion is that for three nodes, the graph is connected if the number of edges (distance <= R) is >= 2, OR there exists at least two edges that form a connected structure.\\n\\nWait, but with two edges, it\\'s always connected. So in that case, the answer is yes.\\n\\nBut what if there\\'s only one edge? Then two nodes are connected, the third is not. So the graph is disconnected.\\n\\nSo the possible scenarios where the answer is \\'yes\\' are:\\n\\nEither:\\n\\n- All three are connected (three edges).\\n\\nOR\\n\\n- Two edges (so two pairs are connected, but in any configuration).\\n\\nOR\\n\\n- One edge and another edge that connects the third via the other. Wait, no. If there\\'s only one edge, then the third node is isolated.\\n\\nSo the answer is \\'yes\\' if:\\n\\nThe three nodes form a connected graph, which for three nodes is equivalent to:\\n\\nAt least two of the three possible edges exist.\\n\\nOR\\n\\nOne of the nodes is connected to both of the other two, even if those two are not connected directly.\\n\\nWait, no. Because if node A is connected to B and C (two edges), but B and C are not connected. Then all three can communicate via A. So in this case, the graph is connected. So two edges (AB and AC) are sufficient.\\n\\nSo yes, the code can check if the number of edges is >=2. Because two edges in three nodes will form a connected graph.\\n\\nWait, but what about if two edges are AB and BC. Then that\\'s two edges, and the graph is connected. If two edges are AB and AC, the graph is connected. So any two edges in three nodes will form a connected graph.\\n\\nSo the condition is: if the number of edges (distance <= R) is >=2, then output \\'yes\\'. Otherwise, output \\'no\\'.\\n\\nWait, but there\\'s another possibility. Suppose that all three pairs are not connected (all distances > R). Then output \\'no\\'.\\n\\nIf exactly one edge exists, then two nodes are connected, third is isolated. So output \\'no\\'.\\n\\nIf two edges exist, output \\'yes\\'.\\n\\nIf three edges exist, output \\'yes\\'.\\n\\nSo the logic is:\\n\\ncount = number of pairs with distance <= R.\\n\\nif count >= 2: output \\'yes\\'\\n\\nelse: output \\'no\\'\\n\\nIs that correct?\\n\\nWait, let\\'s test with the examples.\\n\\nFirst example input:\\n\\n3\\n1\\n0 1\\n0 0\\n1 0\\n\\nSo R=1.\\n\\nPoints:\\n\\nChef is (0,1), head server (0,0), sous-chef (1,0).\\n\\nCompute distances:\\n\\nChef to head: sqrt((0-0)^2 + (1-0)^2) = 1. So <=1. So edge exists.\\n\\nHead to sous-chef: sqrt( (0-1)^2 + (0-0)^2 ) = 1. Edge exists.\\n\\nSous-chef to Chef: sqrt( (0-1)^2 + (1-0)^2 ) = sqrt(2) ≈1.414>1. So edge does not exist.\\n\\nSo edges are AB and BC (count=2). So count >=2 → output yes.\\n\\nWhich matches the first test case\\'s output.\\n\\nSecond test case:\\n\\nR=2.\\n\\nSame points.\\n\\nChef to head: 1 <=2 → edge exists.\\n\\nHead to sous-chef: 1 <=2 → edge exists.\\n\\nSous-chef to Chef: sqrt(2) ≈1.414 <=2 → yes. So three edges. Count=3 → output yes. Which matches the sample.\\n\\nThird test case:\\n\\nR=2.\\n\\nChef at (0,0), head at (0,2), sous-chef at (2,1).\\n\\nCompute distances:\\n\\nChef to head: sqrt( (0-0)^2 + (0-2)^2 ) = 2 → which is <=2. Edge exists.\\n\\nHead to sous-chef: sqrt( (0-2)^2 + (2-1)^2 ) = sqrt(4+1)=sqrt(5)≈2.236>2 → no edge.\\n\\nSous-chef to Chef: sqrt( (0-2)^2 + (0-1)^2 ) = sqrt(4+1) = sqrt(5) >2 → no edge.\\n\\nSo edges are AB. Count=1. So output no. Which matches the third test case.\\n\\nSo the logic seems to work.\\n\\nAnother test case: two edges. Suppose Chef is connected to head and sous-chef. Then count=2. So output yes.\\n\\nAnother case: two edges. Suppose Chef connected to head, and sous-chef connected to Chef. Then count=2. Output yes.\\n\\nSo the code can check whether the number of edges (distance <= R) is at least two. If yes, output yes. Else, no.\\n\\nBut wait, what if two edges are AB and AC. Then count=2. Output yes.\\n\\nYes. Because A can act as a bridge between B and C.\\n\\nSo the code can proceed as follows:\\n\\nFor each test case:\\n\\n1. Read R.\\n\\n2. Read three points.\\n\\n3. Compute the three pairwise distances.\\n\\n4. For each pair, check if distance <= R. Increment count for each such pair.\\n\\n5. If count >=2, output yes. Else, no.\\n\\nBut wait, is there any case where count >=2 but the graph is not connected?\\n\\nWait, suppose there are two edges, but they are AB and CD (but CD is not part of the nodes). But that\\'s impossible here. All edges are between the three nodes.\\n\\nSo with three nodes, two edges will always form a connected graph. So the count >=2 implies the graph is connected.\\n\\nSo yes, the code can be written as:\\n\\nif number of edges (pairs with distance <= R) >=2 → yes else no.\\n\\nBut wait, let\\'s think of a case where there are two edges, but the third node is not connected to either.\\n\\nWait, for example:\\n\\nThree nodes A, B, C.\\n\\nEdges AB and BC. So A is connected to B, B connected to C. So all three are connected. So yes.\\n\\nAnother example: edges AB and AC. So A is connected to B and C. So all three are connected.\\n\\nSo no way to have two edges and a disconnected graph.\\n\\nThus, the code can safely check if the count of edges (pairs with distance <= R) is >=2. If yes, output yes, else no.\\n\\nSo the code can be written as:\\n\\nFor each test case:\\n\\nCalculate the three pairwise distances.\\n\\nCheck each pair.\\n\\nIf two or more pairs have distance <= R → yes.\\n\\nElse → no.\\n\\nSo that\\'s the approach.\\n\\nNow, code steps:\\n\\nRead T test cases.\\n\\nFor each test case:\\n\\nRead R.\\n\\nRead three lines, each line has X and Y for Chef, head, sous-chef.\\n\\nCompute the three pairs: Chef-head, head-sous, sous-chef.\\n\\nFor each pair, compute the distance squared, compare to R squared (to avoid floating point operations).\\n\\nWait, but the problem says the distance should be <= R. So for example, if the distance is exactly R, it\\'s allowed.\\n\\nSo for each pair (x1,y1) and (x2,y2):\\n\\ndx = x1 - x2\\n\\ndy = y1 - y2\\n\\ndistance squared is dx*dx + dy*dy.\\n\\nIf distance squared <= R*R → yes for that pair.\\n\\nSo this avoids floating point inaccuracies.\\n\\nSo code steps:\\n\\nFor each pair:\\n\\nCalculate dx = x1 - x2\\n\\ndy = y1 - y2\\n\\ndist_sq = dx*dx + dy*dy\\n\\nif dist_sq <= R_squared (R is given, so R_squared = R*R)\\n\\nThen count +=1.\\n\\nThen, if the total count >=2 → yes else no.\\n\\nSo code in Python:\\n\\nRead T.\\n\\nFor each T times:\\n\\nRead R.\\n\\nRead three lines for the three points.\\n\\nCompute all three pairs.\\n\\nCheck how many pairs have distance squared <= R^2.\\n\\nIf >=2 → yes else no.\\n\\nWait, but the three pairs are Chef and head, head and sous, sous and Chef.\\n\\nWait, the three pairs are:\\n\\nChef (A) and head (B) → AB.\\n\\nHead (B) and sous (C) → BC.\\n\\nSous (C) and Chef (A) → CA.\\n\\nSo for each test case, three pairs.\\n\\nSo code:\\n\\nRead T.\\n\\nFor each T:\\n\\nR = int(input())\\n\\nA = list(map(int, input().split()))\\nB = list(map(int, input().split()))\\nC = list(map(int, input().split()))\\n\\ncount = 0\\n\\n# AB\\ndx = A[0] - B[0]\\ndy = A[1] - B[1]\\ndist_sq_ab = dx*dx + dy*dy\\nif dist_sq_ab <= R*R:\\n    count +=1\\n\\n# BC\\ndx = B[0] - C[0]\\ndy = B[1] - C[1]\\ndist_sq_bc = dx*dx + dy*dy\\nif dist_sq_bc <= R*R:\\n    count +=1\\n\\n# CA\\ndx = C[0] - A[0]\\ndy = C[1] - A[1]\\ndist_sq_ca = dx*dx + dy*dy\\nif dist_sq_ca <= R*R:\\n    count +=1\\n\\nif count >=2:\\n    print(\"yes\")\\nelse:\\n    print(\"no\")\\n\\nWait, but what if two pairs are connected, but not all three. For example, AB and BC are connected, but CA is not. So count is 2 → yes. Which is correct.\\n\\nAnother example: AB and AC are connected. So count is 2 → yes. Then, all three can communicate through A.\\n\\nYes.\\n\\nAnother case: all three pairs are connected. Count is 3 → yes.\\n\\nSo this code should handle all cases.\\n\\nTesting the sample input:\\n\\nSample input:\\n\\n3\\n1\\n0 1 → A\\n0 0 → B\\n1 0 → C\\n\\nFor AB: (0-0)^2 + (1-0)^2 = 1 → 1 <= 1 → yes. count=1.\\n\\nBC: (0-1)^2 + (0-0)^2 → 1 → yes. count=2.\\n\\nCA: (0-1)^2 + (1-0)^2 → 2 → 2>1 → no. So count is 2 → yes.\\n\\nSample output is yes.\\n\\nSecond test case:\\n\\nR=2.\\n\\nSame points.\\n\\nAB: 1 <=4 → yes. count=1.\\n\\nBC: 1 <=4 → yes. count=2.\\n\\nCA: 2 <=4 → yes. count=3 → yes.\\n\\nThird test case:\\n\\nR=2.\\n\\nA (0,0), B(0,2), C(2,1).\\n\\nAB: (0-0)^2 + (0-2)^2 =4 → 4 <=4 → yes. count=1.\\n\\nBC: (0-2)^2 + (2-1)^2 →4+1=5>4 → no.\\n\\nCA: (2-0)^2 + (1-0)^2 =4+1=5>4 → no. So count=1 → output no.\\n\\nWhich matches the sample.\\n\\nSo this code should work.\\n\\nNow, code structure:\\n\\nThe function needs to read from stdin and print the output. So the code can be written as:\\n\\nRead T.\\n\\nLoop T times:\\n\\nRead R.\\n\\nRead three lines for the three points.\\n\\nCompute the three distances squared.\\n\\nCheck how many are <= R squared.\\n\\nIf count >=2 → yes, else no.\\n\\nThus, the code can be written as a function that reads input and outputs as per the problem.\\n\\nSo the code would look like:\\n\\ndef main():\\n    import sys\\n    input = sys.stdin.read().split()\\n    ptr = 0\\n    T = int(input[ptr])\\n    ptr +=1\\n    for _ in range(T):\\n        R = int(input[ptr])\\n        ptr +=1\\n        A = list(map(int, input[ptr:ptr+2]))\\n        ptr +=2\\n        B = list(map(int, input[ptr:ptr+2]))\\n        ptr +=2\\n        C = list(map(int, input[ptr:ptr+2]))\\n        ptr +=2\\n        count = 0\\n        # AB\\n        dx = A[0] - B[0]\\n        dy = A[1] - B[1]\\n        if dx*dx + dy*dy <= R*R:\\n            count +=1\\n        # BC\\n        dx = B[0] - C[0]\\n        dy = B[1] - C[1]\\n        if dx*dx + dy*dy <= R*R:\\n            count +=1\\n        # CA\\n        dx = C[0] - A[0]\\n        dy = C[1] - A[1]\\n        if dx*dx + dy*dy <= R*R:\\n            count +=1\\n        print(\"yes\" if count >=2 else \"no\")\\n\\nmain()\\n\\nBut the problem says that the function should take stdin as input and print the output. So the code reads from stdin, processes, and prints.\\n\\nYes.\\n\\nThis should handle all cases correctly.\\n\\nAnother test case: where two pairs are connected but through a third.\\n\\nFor example:\\n\\nR=5.\\n\\nA (0,0), B (0,5), C (0,10).\\n\\nAB distance is 5 → yes.\\n\\nBC distance is5 → yes.\\n\\nCA distance is10 → no.\\n\\nCount is 2 → output yes. So all three can communicate through B.\\n\\nSo the code works.\\n\\nAnother test case where only one edge exists:\\n\\nR=5.\\n\\nA (0,0), B (0,6), C (0,5).\\n\\nAB distance 6>5 → no.\\n\\nBC distance 1 → yes.\\n\\nCA distance 5 → yes.\\n\\nSo count is 2 → yes. Because BC and CA are connected. So B and C are connected, C and A are connected. So B can reach A via C.\\n\\nThus, the code works.\\n\\n<|end_of_thought|>\\n\\n<|begin_of_solution|>\\n\\nTo solve this problem, we need to determine if three people (Chef, head server, and sous-chef) can communicate with each other using transceivers that have a limited range. Communication can be direct if they are within the range or indirect via another person acting as an intermediary.\\n\\n### Approach\\n1. **Input Reading**: Read the number of test cases and for each test case, read the maximum communication range (R) and the coordinates of the three people.\\n2. **Distance Calculation**: For each pair of people, calculate the squared distance between their coordinates to avoid floating-point inaccuracies.\\n3. **Check Communication**: Determine how many pairs can communicate directly by comparing their squared distance with \\\\( R^2 \\\\).\\n4. **Connected Graph Check**: If at least two pairs can communicate directly, the three people form a connected graph either directly or through an intermediary, allowing all to communicate.\\n\\n### Solution Code\\n```python\\ndef main():\\n    import sys\\n    input = sys.stdin.read().split()\\n    ptr = 0\\n    T = int(input[ptr])\\n    ptr += 1\\n    for _ in range(T):\\n        R = int(input[ptr])\\n        ptr += 1\\n        A = list(map(int, input[ptr:ptr+2]))\\n        ptr += 2\\n        B = list(map(int, input[ptr:ptr+2]))\\n        ptr += 2\\n        C = list(map(int, input[ptr:ptr+2]))\\n        ptr += 2\\n        count = 0\\n        \\n        # Check Chef to Head Server\\n        dx = A[0] - B[0]\\n        dy = A[1] - B[1]\\n        if dx * dx + dy * dy <= R * R:\\n            count += 1\\n        \\n        # Check Head Server to Sous-Chef\\n        dx = B[0] - C[0]\\n        dy = B[1] - C[1]\\n        if dx * dx + dy * dy <= R * R:\\n            count += 1\\n        \\n        # Check Sous-Chef to Chef\\n        dx = C[0] - A[0]\\n        dy = C[1] - A[1]\\n        if dx * dx + dy * dy <= R * R:\\n            count += 1\\n        \\n        print(\"yes\" if count >= 2 else \"no\")\\n\\nmain()\\n```\\n\\n### Explanation\\n- **Reading Input**: The input is read all at once and split into a list for efficient processing.\\n- **Distance Calculation**: For each pair of points (Chef-Head, Head-Sous, Sous-Chef), the squared distance is computed and compared against \\\\( R^2 \\\\).\\n- **Communication Check**: The count of valid direct communication pairs is determined. If this count is 2 or more, it ensures that all three can communicate either directly or through an intermediary, thus printing \"yes\". Otherwise, it prints \"no\".\\n\\nThis approach efficiently checks the necessary conditions using integer arithmetic to avoid precision issues, ensuring correctness and optimal performance.\\n\\n<|end_of_solution|>'}]"
      ]
     },
     "execution_count": 4,
     "metadata": {},
     "output_type": "execute_result"
    }
   ],
   "source": [
    "dataset[0][\"conversations\"]"
   ]
  },
  {
   "cell_type": "code",
   "execution_count": null,
   "metadata": {},
   "outputs": [
    {
     "name": "stdout",
     "output_type": "stream",
     "text": [
      "Q: Answer the following question given this paragraph:   The kidneys also secrete hormones that help maintain homeostasis. For example, they produce a hormone that stimulates bone marrow to produce red blood cells when more are needed. They also secrete a hormone that regulates blood pressure and keeps it in a normal range.   Q: What organs secrete hormones that help maintain homeostasis?   A:\n",
      "The answer is:\n",
      "========\n",
      "========\n",
      "========\n",
      "The kidneys are the organs that secrete hormones to help maintain homeostasis. They produce a hormone that stimulates bone marrow to produce red blood cells when needed, and they also secrete a hormone that regulates blood pressure, keeping it within a normal range.\n"
     ]
    }
   ],
   "source": [
    "pos = 10\n",
    "print(dataset[pos][\"question\"])\n",
    "print(\"========\")\n",
    "print(\"========\")\n",
    "print(\"========\")\n",
    "print(dataset[pos][\"response\"])"
   ]
  },
  {
   "cell_type": "code",
   "execution_count": 1,
   "metadata": {},
   "outputs": [
    {
     "name": "stdout",
     "output_type": "stream",
     "text": [
      "🦥 Unsloth: Will patch your computer to enable 2x faster free finetuning.\n",
      "🦥 Unsloth Zoo will now patch everything to make training faster!\n",
      "[2025-02-25 15:04:25,573] [INFO] [real_accelerator.py:219:get_accelerator] Setting ds_accelerator to cuda (auto detect)\n"
     ]
    },
    {
     "name": "stderr",
     "output_type": "stream",
     "text": [
      "/opt/conda/compiler_compat/ld: cannot find -laio: No such file or directory\n",
      "collect2: error: ld returned 1 exit status\n",
      "/opt/conda/compiler_compat/ld: cannot find -laio: No such file or directory\n",
      "collect2: error: ld returned 1 exit status\n"
     ]
    },
    {
     "name": "stdout",
     "output_type": "stream",
     "text": [
      "INFO 02-25 15:04:26 __init__.py:190] Automatically detected platform cuda.\n",
      "==((====))==  Unsloth 2025.2.15: Fast Qwen2 patching. Transformers: 4.49.0.\n",
      "   \\\\   /|    GPU: NVIDIA GeForce RTX 4090. Max memory: 23.546 GB. Platform: Linux.\n",
      "O^O/ \\_/ \\    Torch: 2.5.1+cu124. CUDA: 8.9. CUDA Toolkit: 12.4. Triton: 3.1.0\n",
      "\\        /    Bfloat16 = TRUE. FA [Xformers = 0.0.29. FA2 = True]\n",
      " \"-____-\"     Free Apache license: http://github.com/unslothai/unsloth\n",
      "Unsloth: Fast downloading is enabled - ignore downloading bars which are red colored!\n"
     ]
    }
   ],
   "source": [
    "from unsloth import FastLanguageModel\n",
    "import torch\n",
    "\n",
    "max_seq_length = 2048  # Choose any! We auto support RoPE Scaling internally!\n",
    "dtype = torch.bfloat16\n",
    "load_in_4bit = True  # Use 4bit quantization to reduce memory usage. Can be False.\n",
    "\n",
    "\n",
    "model, tokenizer = FastLanguageModel.from_pretrained(\n",
    "    # model_name=\"unsloth/Llama-3.2-3B-Instruct\",  # or choose \"unsloth/Llama-3.2-1B-Instruct\"\n",
    "    model_name=\"unsloth/Qwen2.5-3B-Instruct-bnb-4bit\",  # or choose \"unsloth/Llama-3.2-1B-Instruct\"\n",
    "    max_seq_length=max_seq_length,\n",
    "    dtype=dtype,\n",
    "    load_in_4bit=load_in_4bit,\n",
    "    # token = \"hf_...\", # use one if using gated models like meta-llama/Llama-2-7b-hf\n",
    "    # fix_tokenizer=False,\n",
    ")"
   ]
  },
  {
   "cell_type": "code",
   "execution_count": 7,
   "metadata": {},
   "outputs": [
    {
     "data": {
      "text/plain": [
       "<function unsloth.models.llama._wrap_fast_inference.<locals>._fast_generate(*args, **kwargs)>"
      ]
     },
     "execution_count": 7,
     "metadata": {},
     "output_type": "execute_result"
    }
   ],
   "source": [
    "FastLanguageModel.for_inference(model).generate"
   ]
  },
  {
   "cell_type": "code",
   "execution_count": null,
   "metadata": {},
   "outputs": [
    {
     "ename": "AttributeError",
     "evalue": "'list' object has no attribute 'shape'",
     "output_type": "error",
     "traceback": [
      "\u001b[0;31m---------------------------------------------------------------------------\u001b[0m",
      "\u001b[0;31mAttributeError\u001b[0m                            Traceback (most recent call last)",
      "Cell \u001b[0;32mIn[10], line 18\u001b[0m\n\u001b[1;32m     10\u001b[0m \u001b[38;5;28;01mfrom\u001b[39;00m \u001b[38;5;21;01mvllm\u001b[39;00m \u001b[38;5;28;01mimport\u001b[39;00m SamplingParams\n\u001b[1;32m     12\u001b[0m sampling_params \u001b[38;5;241m=\u001b[39m SamplingParams(\n\u001b[1;32m     13\u001b[0m     temperature\u001b[38;5;241m=\u001b[39m\u001b[38;5;241m0.8\u001b[39m,\n\u001b[1;32m     14\u001b[0m     top_p\u001b[38;5;241m=\u001b[39m\u001b[38;5;241m0.95\u001b[39m,\n\u001b[1;32m     15\u001b[0m     max_tokens\u001b[38;5;241m=\u001b[39m\u001b[38;5;241m1024\u001b[39m,\n\u001b[1;32m     16\u001b[0m )\n\u001b[1;32m     17\u001b[0m output \u001b[38;5;241m=\u001b[39m (\n\u001b[0;32m---> 18\u001b[0m     \u001b[43mmodel\u001b[49m\u001b[38;5;241;43m.\u001b[39;49m\u001b[43mgenerate\u001b[49m\u001b[43m(\u001b[49m\n\u001b[1;32m     19\u001b[0m \u001b[43m        \u001b[49m\u001b[43m[\u001b[49m\u001b[43mtext\u001b[49m\u001b[43m]\u001b[49m\u001b[43m,\u001b[49m\n\u001b[1;32m     20\u001b[0m \u001b[43m        \u001b[49m\u001b[38;5;66;43;03m# sampling_params=sampling_params,\u001b[39;49;00m\n\u001b[1;32m     21\u001b[0m \u001b[43m        \u001b[49m\u001b[43mlora_request\u001b[49m\u001b[38;5;241;43m=\u001b[39;49m\u001b[38;5;28;43;01mNone\u001b[39;49;00m\u001b[43m,\u001b[49m\n\u001b[1;32m     22\u001b[0m \u001b[43m        \u001b[49m\u001b[43mtemperature\u001b[49m\u001b[38;5;241;43m=\u001b[39;49m\u001b[38;5;241;43m0.8\u001b[39;49m\u001b[43m,\u001b[49m\n\u001b[1;32m     23\u001b[0m \u001b[43m        \u001b[49m\u001b[43mtop_p\u001b[49m\u001b[38;5;241;43m=\u001b[39;49m\u001b[38;5;241;43m0.95\u001b[39;49m\u001b[43m,\u001b[49m\n\u001b[1;32m     24\u001b[0m \u001b[43m        \u001b[49m\u001b[38;5;66;43;03m# max_tokens=1024,\u001b[39;49;00m\n\u001b[1;32m     25\u001b[0m \u001b[43m    \u001b[49m\u001b[43m)\u001b[49m[\u001b[38;5;241m0\u001b[39m]\n\u001b[1;32m     26\u001b[0m     \u001b[38;5;241m.\u001b[39moutputs[\u001b[38;5;241m0\u001b[39m]\n\u001b[1;32m     27\u001b[0m     \u001b[38;5;241m.\u001b[39mtext\n\u001b[1;32m     28\u001b[0m )\n",
      "File \u001b[0;32m/opt/conda/lib/python3.11/site-packages/torch/utils/_contextlib.py:116\u001b[0m, in \u001b[0;36mcontext_decorator.<locals>.decorate_context\u001b[0;34m(*args, **kwargs)\u001b[0m\n\u001b[1;32m    113\u001b[0m \u001b[38;5;129m@functools\u001b[39m\u001b[38;5;241m.\u001b[39mwraps(func)\n\u001b[1;32m    114\u001b[0m \u001b[38;5;28;01mdef\u001b[39;00m \u001b[38;5;21mdecorate_context\u001b[39m(\u001b[38;5;241m*\u001b[39margs, \u001b[38;5;241m*\u001b[39m\u001b[38;5;241m*\u001b[39mkwargs):\n\u001b[1;32m    115\u001b[0m     \u001b[38;5;28;01mwith\u001b[39;00m ctx_factory():\n\u001b[0;32m--> 116\u001b[0m         \u001b[38;5;28;01mreturn\u001b[39;00m \u001b[43mfunc\u001b[49m\u001b[43m(\u001b[49m\u001b[38;5;241;43m*\u001b[39;49m\u001b[43margs\u001b[49m\u001b[43m,\u001b[49m\u001b[43m \u001b[49m\u001b[38;5;241;43m*\u001b[39;49m\u001b[38;5;241;43m*\u001b[39;49m\u001b[43mkwargs\u001b[49m\u001b[43m)\u001b[49m\n",
      "File \u001b[0;32m~/.local/lib/python3.11/site-packages/unsloth/models/llama.py:1596\u001b[0m, in \u001b[0;36m_wrap_fast_inference.<locals>._fast_generate\u001b[0;34m(*args, **kwargs)\u001b[0m\n\u001b[1;32m   1589\u001b[0m \u001b[38;5;66;03m# Set pad token\u001b[39;00m\n\u001b[1;32m   1590\u001b[0m \u001b[38;5;66;03m# old_pad_token_id = getattr(model.config, \"pad_token_id\", None)\u001b[39;00m\n\u001b[1;32m   1591\u001b[0m \u001b[38;5;66;03m# old_eos_token_id = getattr(model.config, \"eos_token_id\", None)\u001b[39;00m\n\u001b[1;32m   1592\u001b[0m \u001b[38;5;66;03m# model.config.pad_token_id = old_eos_token_id\u001b[39;00m\n\u001b[1;32m   1593\u001b[0m \n\u001b[1;32m   1594\u001b[0m \u001b[38;5;66;03m# Autocasted\u001b[39;00m\n\u001b[1;32m   1595\u001b[0m \u001b[38;5;28;01mwith\u001b[39;00m torch\u001b[38;5;241m.\u001b[39mautocast(device_type \u001b[38;5;241m=\u001b[39m device_type, dtype \u001b[38;5;241m=\u001b[39m dtype):\n\u001b[0;32m-> 1596\u001b[0m     output \u001b[38;5;241m=\u001b[39m \u001b[43mgenerate\u001b[49m\u001b[43m(\u001b[49m\u001b[38;5;241;43m*\u001b[39;49m\u001b[43margs\u001b[49m\u001b[43m,\u001b[49m\u001b[43m \u001b[49m\u001b[38;5;241;43m*\u001b[39;49m\u001b[38;5;241;43m*\u001b[39;49m\u001b[43mkwargs\u001b[49m\u001b[43m)\u001b[49m\n\u001b[1;32m   1597\u001b[0m \u001b[38;5;28;01mpass\u001b[39;00m\n\u001b[1;32m   1599\u001b[0m \u001b[38;5;66;03m# Revert\u001b[39;00m\n\u001b[1;32m   1600\u001b[0m \u001b[38;5;66;03m# model.config.pad_token_id = old_pad_token_id\u001b[39;00m\n\u001b[1;32m   1601\u001b[0m \n\u001b[1;32m   1602\u001b[0m \u001b[38;5;66;03m# Unset a flag for generation!\u001b[39;00m\n",
      "File \u001b[0;32m/opt/conda/lib/python3.11/site-packages/torch/utils/_contextlib.py:116\u001b[0m, in \u001b[0;36mcontext_decorator.<locals>.decorate_context\u001b[0;34m(*args, **kwargs)\u001b[0m\n\u001b[1;32m    113\u001b[0m \u001b[38;5;129m@functools\u001b[39m\u001b[38;5;241m.\u001b[39mwraps(func)\n\u001b[1;32m    114\u001b[0m \u001b[38;5;28;01mdef\u001b[39;00m \u001b[38;5;21mdecorate_context\u001b[39m(\u001b[38;5;241m*\u001b[39margs, \u001b[38;5;241m*\u001b[39m\u001b[38;5;241m*\u001b[39mkwargs):\n\u001b[1;32m    115\u001b[0m     \u001b[38;5;28;01mwith\u001b[39;00m ctx_factory():\n\u001b[0;32m--> 116\u001b[0m         \u001b[38;5;28;01mreturn\u001b[39;00m \u001b[43mfunc\u001b[49m\u001b[43m(\u001b[49m\u001b[38;5;241;43m*\u001b[39;49m\u001b[43margs\u001b[49m\u001b[43m,\u001b[49m\u001b[43m \u001b[49m\u001b[38;5;241;43m*\u001b[39;49m\u001b[38;5;241;43m*\u001b[39;49m\u001b[43mkwargs\u001b[49m\u001b[43m)\u001b[49m\n",
      "File \u001b[0;32m~/.local/lib/python3.11/site-packages/transformers/generation/utils.py:2001\u001b[0m, in \u001b[0;36mGenerationMixin.generate\u001b[0;34m(self, inputs, generation_config, logits_processor, stopping_criteria, prefix_allowed_tokens_fn, synced_gpus, assistant_model, streamer, negative_prompt_ids, negative_prompt_attention_mask, **kwargs)\u001b[0m\n\u001b[1;32m   1997\u001b[0m \u001b[38;5;66;03m# 3. Define model inputs\u001b[39;00m\n\u001b[1;32m   1998\u001b[0m inputs_tensor, model_input_name, model_kwargs \u001b[38;5;241m=\u001b[39m \u001b[38;5;28mself\u001b[39m\u001b[38;5;241m.\u001b[39m_prepare_model_inputs(\n\u001b[1;32m   1999\u001b[0m     inputs, generation_config\u001b[38;5;241m.\u001b[39mbos_token_id, model_kwargs\n\u001b[1;32m   2000\u001b[0m )\n\u001b[0;32m-> 2001\u001b[0m batch_size \u001b[38;5;241m=\u001b[39m \u001b[43minputs_tensor\u001b[49m\u001b[38;5;241;43m.\u001b[39;49m\u001b[43mshape\u001b[49m[\u001b[38;5;241m0\u001b[39m]\n\u001b[1;32m   2003\u001b[0m device \u001b[38;5;241m=\u001b[39m inputs_tensor\u001b[38;5;241m.\u001b[39mdevice\n\u001b[1;32m   2004\u001b[0m \u001b[38;5;28mself\u001b[39m\u001b[38;5;241m.\u001b[39m_prepare_special_tokens(generation_config, kwargs_has_attention_mask, device\u001b[38;5;241m=\u001b[39mdevice)\n",
      "\u001b[0;31mAttributeError\u001b[0m: 'list' object has no attribute 'shape'"
     ]
    }
   ],
   "source": [
    "FastLanguageModel.for_inference(model)\n",
    "text = tokenizer.apply_chat_template(\n",
    "    [\n",
    "        {\"role\": \"user\", \"content\": \"How many r's are in strawberry?\"},\n",
    "    ],\n",
    "    tokenize=False,\n",
    "    add_generation_prompt=True,\n",
    ")\n",
    "\n",
    "from vllm import SamplingParams\n",
    "\n",
    "sampling_params = SamplingParams(\n",
    "    temperature=0.8,\n",
    "    top_p=0.95,\n",
    "    max_tokens=1024,\n",
    ")\n",
    "output = (\n",
    "    model.generate(\n",
    "        text,\n",
    "        # sampling_params=sampling_params,\n",
    "        lora_request=None,\n",
    "        temperature=0.8,\n",
    "        top_p=0.95,\n",
    "        # max_tokens=1024,\n",
    "    )[0]\n",
    "    .outputs[0]\n",
    "    .text\n",
    ")"
   ]
  }
 ],
 "metadata": {
  "kernelspec": {
   "display_name": "base",
   "language": "python",
   "name": "python3"
  },
  "language_info": {
   "codemirror_mode": {
    "name": "ipython",
    "version": 3
   },
   "file_extension": ".py",
   "mimetype": "text/x-python",
   "name": "python",
   "nbconvert_exporter": "python",
   "pygments_lexer": "ipython3",
   "version": "3.11.10"
  }
 },
 "nbformat": 4,
 "nbformat_minor": 2
}
