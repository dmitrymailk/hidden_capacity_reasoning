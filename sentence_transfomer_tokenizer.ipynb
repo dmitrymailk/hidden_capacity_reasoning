{
 "cells": [
  {
   "cell_type": "code",
   "execution_count": 253,
   "metadata": {},
   "outputs": [
    {
     "name": "stdout",
     "output_type": "stream",
     "text": [
      "Бакет с хеш-ключом 10100010: [0]\n",
      "Бакет с хеш-ключом 10100011: [1]\n",
      "Бакет с хеш-ключом 11000101: [2]\n",
      "Бакет с хеш-ключом 11010010: [3]\n",
      "Бакет с хеш-ключом 11010011: [4]\n"
     ]
    }
   ],
   "source": [
    "import numpy as np\n",
    "import random\n",
    "\n",
    "\n",
    "def lsh_hashing(vectors, k=16):\n",
    "    \"\"\"\n",
    "    Хеширует бинарные векторы с использованием Locality Sensitive Hashing.\n",
    "\n",
    "    Args:\n",
    "        vectors: Массив NumPy, где каждая строка - бинарный вектор.\n",
    "        k: Количество хеш-функций (размерность хеш-ключа).\n",
    "\n",
    "    Returns:\n",
    "        Словарь (хеш-таблица), где ключи - хеш-ключи, а значения - списки индексов векторов в бакете.\n",
    "    \"\"\"\n",
    "\n",
    "    num_vectors = vectors.shape[0]\n",
    "    vector_dimension = vectors.shape[1]\n",
    "\n",
    "    # 1. Создаем случайные бинарные векторы (хеш-функции)\n",
    "    hash_functions = np.random.normal(0, 2, size=(k, vector_dimension))\n",
    "    # hash_functions = np.random.rand(k, vector_dimension) - 0.5\n",
    "\n",
    "    # 2. Хешируем каждый входной вектор\n",
    "    hash_table = {}\n",
    "    for i in range(num_vectors):\n",
    "        # Вычисляем dot product с каждой хеш-функцией\n",
    "        dot_products = np.dot(hash_functions, vectors[i])\n",
    "        # print(dot_products)\n",
    "        # Преобразуем dot product в бинарное значение\n",
    "        hash_bits = (dot_products >= 0).astype(\n",
    "            int\n",
    "        )  # >= 0, чтобы избежать проблем с очень малыми отрицательными числами\n",
    "\n",
    "        # Объединяем биты в хеш-ключ (в виде строки)\n",
    "        hash_key = \"\".join(str(bit) for bit in hash_bits)\n",
    "        # print(hash_key)\n",
    "        # 3. Размещаем вектор в бакет\n",
    "        if hash_key not in hash_table:\n",
    "            hash_table[hash_key] = []\n",
    "        hash_table[hash_key].append(i)\n",
    "\n",
    "    return hash_table\n",
    "\n",
    "\n",
    "# Пример использования:\n",
    "vectors = np.array(\n",
    "    [\n",
    "        [1, 0, 1, 0, 0, 0, 0, 1, 0],\n",
    "        [1, 0, 1, 1, 0, 0, 0, 0, 0],\n",
    "        [0, 1, 0, 1, 0, 0, 0, 0, 0],\n",
    "        [0, 1, 0, 0, 0, 0, 1, 0, 0],\n",
    "        [1, 1, 1, 0, 0, 0, 0, 0, 0],\n",
    "    ],\n",
    ")\n",
    "\n",
    "hash_table = lsh_hashing(vectors, k=8)\n",
    "\n",
    "# Печатаем содержимое хеш-таблицы\n",
    "for hash_key, vector_indices in hash_table.items():\n",
    "    print(f\"Бакет с хеш-ключом {hash_key}: {vector_indices}\")"
   ]
  },
  {
   "cell_type": "code",
   "execution_count": 251,
   "metadata": {},
   "outputs": [
    {
     "data": {
      "text/plain": [
       "{'111111111': [0, 1, 2, 3, 4]}"
      ]
     },
     "execution_count": 251,
     "metadata": {},
     "output_type": "execute_result"
    }
   ],
   "source": [
    "hash_table"
   ]
  },
  {
   "cell_type": "code",
   "execution_count": null,
   "metadata": {},
   "outputs": [],
   "source": [
    "from sentence_transformers import SentenceTransformer\n",
    "\n",
    "# 1. Load a pretrained Sentence Transformer model\n",
    "model = SentenceTransformer(\"all-MiniLM-L6-v2\")\n",
    "\n",
    "# The sentences to encode"
   ]
  },
  {
   "cell_type": "code",
   "execution_count": null,
   "metadata": {},
   "outputs": [],
   "source": []
  },
  {
   "cell_type": "code",
   "execution_count": 257,
   "metadata": {},
   "outputs": [
    {
     "name": "stdout",
     "output_type": "stream",
     "text": [
      "Бакет с хеш-ключом 0100101011: [0]\n",
      "The weather is lovely today.\n",
      "===\n",
      "===\n",
      "Бакет с хеш-ключом 0110101011: [1]\n",
      "The weather is lovely today\n",
      "===\n",
      "===\n",
      "Бакет с хеш-ключом 0100101001: [2]\n",
      "The weather is lovely\n",
      "===\n",
      "===\n",
      "Бакет с хеш-ключом 0110101111: [3]\n",
      "The weather is good today.\n",
      "===\n",
      "===\n",
      "Бакет с хеш-ключом 0110101110: [4]\n",
      "The weather is bad today.\n",
      "===\n",
      "===\n",
      "Бакет с хеш-ключом 0100111001: [5]\n",
      "It's so sunny outside!\n",
      "===\n",
      "===\n",
      "Бакет с хеш-ключом 1111101111: [6, 7, 8]\n",
      "He drove to the stadium.\n",
      "He drove to the stadium\n",
      "He drove to the stadium in the night\n",
      "===\n",
      "===\n",
      "Бакет с хеш-ключом 0101111001: [9]\n",
      "He loves stadiums\n",
      "===\n",
      "===\n",
      "Бакет с хеш-ключом 1101101011: [10]\n",
      "I love cats\n",
      "===\n",
      "===\n",
      "Бакет с хеш-ключом 1101111001: [11]\n",
      "I love dogs\n",
      "===\n",
      "===\n",
      "Бакет с хеш-ключом 0101011101: [12]\n",
      "He is programming on python.\n",
      "===\n",
      "===\n"
     ]
    }
   ],
   "source": [
    "sentences = [\n",
    "    \"The weather is lovely today.\",\n",
    "    \"The weather is lovely today\",\n",
    "    \"The weather is lovely\",\n",
    "    \"The weather is good today.\",\n",
    "    \"The weather is bad today.\",\n",
    "    \"It's so sunny outside!\",\n",
    "    \"He drove to the stadium.\",\n",
    "    \"He drove to the stadium\",\n",
    "    \"He drove to the stadium in the night\",\n",
    "    \"He loves stadiums\",\n",
    "    \"I love cats\",\n",
    "    \"I love dogs\",\n",
    "    \"He is programming on python.\"\n",
    "]\n",
    "\n",
    "# 2. Calculate embeddings by calling model.encode()\n",
    "embeddings = model.encode(\n",
    "    sentences,\n",
    "    # precision=\"binary\",\n",
    "    normalize_embeddings=True,\n",
    ")\n",
    "\n",
    "hash_table = lsh_hashing(embeddings, k=10)\n",
    "\n",
    "# Печатаем содержимое хеш-таблицы\n",
    "for hash_key, vector_indices in hash_table.items():\n",
    "    print(f\"Бакет с хеш-ключом {hash_key}: {vector_indices}\")\n",
    "    for i in vector_indices:\n",
    "        print(sentences[i])\n",
    "    print(\"===\")\n",
    "    print(\"===\")"
   ]
  },
  {
   "cell_type": "markdown",
   "metadata": {},
   "source": [
    "### Try On real data"
   ]
  },
  {
   "cell_type": "code",
   "execution_count": 258,
   "metadata": {},
   "outputs": [
    {
     "data": {
      "application/vnd.jupyter.widget-view+json": {
       "model_id": "aac7e6a599bb4ac6b6095a8fa77b55fb",
       "version_major": 2,
       "version_minor": 0
      },
      "text/plain": [
       "README.md:   0%|          | 0.00/6.27k [00:00<?, ?B/s]"
      ]
     },
     "metadata": {},
     "output_type": "display_data"
    },
    {
     "data": {
      "application/vnd.jupyter.widget-view+json": {
       "model_id": "2a335f737efd4d2babd4a61da0c6e2f2",
       "version_major": 2,
       "version_minor": 0
      },
      "text/plain": [
       "quora_duplicate_triplets.jsonl:   0%|          | 0.00/183M [00:00<?, ?B/s]"
      ]
     },
     "metadata": {},
     "output_type": "display_data"
    },
    {
     "data": {
      "application/vnd.jupyter.widget-view+json": {
       "model_id": "e9125c80bc2747678c35a7d4c445e84a",
       "version_major": 2,
       "version_minor": 0
      },
      "text/plain": [
       "Generating train split:   0%|          | 0/101762 [00:00<?, ? examples/s]"
      ]
     },
     "metadata": {},
     "output_type": "display_data"
    }
   ],
   "source": [
    "from datasets import load_dataset\n",
    "dataset = load_dataset(\"embedding-data/QQP_triplets\")"
   ]
  },
  {
   "cell_type": "code",
   "execution_count": 262,
   "metadata": {},
   "outputs": [
    {
     "data": {
      "text/plain": [
       "{'query': 'Why in India do we not have one on one political debate as in USA?',\n",
       " 'pos': ['Why cant we have a public debate between politicians in India like the one in US?'],\n",
       " 'neg': ['Can people on Quora stop India Pakistan debate? We are sick and tired seeing this everyday in bulk?',\n",
       "  'Why do politicians, instead of having a decent debate on issues going in and around the world, end up fighting always?',\n",
       "  'Can educated politicians make a difference in India?',\n",
       "  'What are some unusual aspects about politics and government in India?',\n",
       "  'What is debate?',\n",
       "  'Why does civic public communication and discourse seem so hollow in modern India?',\n",
       "  'What is a Parliamentary debate?',\n",
       "  \"Why do we always have two candidates at the U.S. presidential debate. yet the ballot has about 7 candidates? Isn't that a misrepresentation of democracy?\",\n",
       "  'Why is civic public communication and discourse so hollow in modern India?',\n",
       "  \"Aren't the Presidential debates teaching our whole country terrible communication skills and why is deliberate misrepresentation even allowed?\",\n",
       "  'Why are most Indian politicians uneducated?',\n",
       "  'Does Indian political leaders capable of doing face to face debates while running for office?',\n",
       "  'What is wrong with the Indian political system and the environment it has built in connection with the people of India? Have parties divided people more?',\n",
       "  'What is a debate?',\n",
       "  'Why do we have legislative council in india?',\n",
       "  'Why does the office of president of India, being politically neutral, not ask for Population control in India?',\n",
       "  \"Why don't we discuss tax and foreign policies more in Indian elections but are instead obsessed with socialist schemes?\",\n",
       "  'Why do Indian politicians lack nationalist thinking?',\n",
       "  'Do you hate indian politicians?',\n",
       "  'Is India facing more stessful times and politically charged atmosphere when compared to Congress regime?',\n",
       "  'Who is the best politician in India? Why?',\n",
       "  \"We all know about the present condition of Indian politicians; they are all just using us to run their train, but still, they win elections and rule over us. Why aren't people giving their vote to NOTA?\",\n",
       "  'Who are clean politicians in India?',\n",
       "  'Why are you not believing in Democracy of India?',\n",
       "  'What does politics in India mean? What are they actually doing?',\n",
       "  'What are the strongest arguments for a debate in favour of brain drain in India and what sources must be used for making a good short speech?',\n",
       "  'Do we really need an election commission in India?',\n",
       "  'Why is there no concept of political correctness in India? Is it a good thing or a bad thing?',\n",
       "  'Why is population control not on agenda of any political party in India?',\n",
       "  'Who are some of the most dangerous or worst politicians in India?']}"
      ]
     },
     "execution_count": 262,
     "metadata": {},
     "output_type": "execute_result"
    }
   ],
   "source": [
    "dataset['train'][0]['set']"
   ]
  },
  {
   "cell_type": "code",
   "execution_count": 518,
   "metadata": {},
   "outputs": [
    {
     "name": "stdout",
     "output_type": "stream",
     "text": [
      "Бакет с хеш-ключом 1001111101: [0]\n",
      "POSITIVE\n",
      "Does imaginary gravity exist?\n",
      "===\n",
      "===\n",
      "Бакет с хеш-ключом 0000101101: [1, 7]\n",
      "QUERY\n",
      "Can imaginary time, energy and gravity exist?\n",
      "Are Cengage books good for JEE Advanced?\n",
      "===\n",
      "===\n",
      "Бакет с хеш-ключом 0101100101: [2]\n",
      "What are some good books for IIT JEE preparation for class 10?\n",
      "===\n",
      "===\n",
      "Бакет с хеш-ключом 0100000101: [3]\n",
      "What should be the order of books to read for JEE preparations?\n",
      "===\n",
      "===\n",
      "Бакет с хеш-ключом 0100111101: [4]\n",
      "How is Cengage Books for JEE Advanced?\n",
      "===\n",
      "===\n",
      "Бакет с хеш-ключом 0001010101: [5]\n",
      "Which books did JEE Advanced 2016 AIR 2 Bhavesh Dhingra use in preparation for JEE?\n",
      "===\n",
      "===\n",
      "Бакет с хеш-ключом 0000110001: [6, 9]\n",
      "What are some good books for JEE Chemistry?\n",
      "What are the best books for JEE in chemistry?\n",
      "===\n",
      "===\n",
      "Бакет с хеш-ключом 0100110101: [8]\n",
      "What are some good books for JEE Mains only?\n",
      "===\n",
      "===\n",
      "Бакет с хеш-ключом 1000100001: [10, 11]\n",
      "What are the best mathematics books for the IIT-JEE preparation?\n",
      "What are the best books for theory in math for IIT-JEE preparation?\n",
      "===\n",
      "===\n"
     ]
    },
    {
     "data": {
      "text/plain": [
       "{'query': 'What were the books Aman Bansal used for his Jee preparation?',\n",
       " 'pos': ['Which books were used my Aman Bansal for JEE preparation?'],\n",
       " 'neg': ['What are some good books for IIT JEE preparation for class 10?',\n",
       "  'What should be the order of books to read for JEE preparations?',\n",
       "  'How is Cengage Books for JEE Advanced?',\n",
       "  'Which books did JEE Advanced 2016 AIR 2 Bhavesh Dhingra use in preparation for JEE?',\n",
       "  'What are some good books for JEE Chemistry?',\n",
       "  'Are Cengage books good for JEE Advanced?',\n",
       "  'What are some good books for JEE Mains only?',\n",
       "  'What are the best books for JEE in chemistry?',\n",
       "  'What are the best mathematics books for the IIT-JEE preparation?',\n",
       "  'What are the best books for theory in math for IIT-JEE preparation?',\n",
       "  'Are NCERT books enough for the JEE Main?',\n",
       "  'How are JEE Advanced papers prepared?',\n",
       "  'How should I study for JEE?',\n",
       "  'Which book should i use for JEE  organic chemistry?',\n",
       "  'Which book should I use for JEE organic chemistry?',\n",
       "  'What are the best books for the JEE (Main) and 12th boards (PCM) CBSE?',\n",
       "  'How to study for JEE advance?',\n",
       "  'What are the most preferred books by an IITian to crack IIT-JEE?',\n",
       "  'Are Booklet of Lakshya enough for JEE mains preparations?',\n",
       "  'Are the books of JE (cargo) and JE (commercial) for Airport authority of India (AAI) exam available in the market? Please help?',\n",
       "  'What are the best books for both IIT JEE Mains & Advanced?',\n",
       "  'Where can I buy IIT-JEE correspondence coaching material from the famous Agrawal Classes?',\n",
       "  'Which book is best for organic chemistry for JEE?',\n",
       "  'Of which things should I make notes for revision during JEE preparation?',\n",
       "  'How can I prepare for the JEE Advanced ?',\n",
       "  'Which book should I study for JEE advanced mathematics?',\n",
       "  'What is the best book for physical chemistry for JEE?',\n",
       "  \"I've not yet started studying 11th syllabus of JEE Main, is this book good for the same?\",\n",
       "  'Which book is the best for organic chemistry for JEE?',\n",
       "  'Which is one of the best best mathematics book for IIT JEE preparation?']}"
      ]
     },
     "execution_count": 518,
     "metadata": {},
     "output_type": "execute_result"
    }
   ],
   "source": [
    "initial_pos = 10\n",
    "diff_pos = 20\n",
    "sentences = [\n",
    "    dataset['train'][initial_pos]['set']['pos'][0],\n",
    "    dataset['train'][initial_pos]['set']['query'],\n",
    "    *dataset['train'][diff_pos]['set']['neg'][:10],\n",
    "]\n",
    "\n",
    "# 2. Calculate embeddings by calling model.encode()\n",
    "embeddings = model.encode(\n",
    "    sentences,\n",
    "    # precision=\"binary\",\n",
    "    # normalize_embeddings=True,\n",
    ")\n",
    "\n",
    "hash_table = lsh_hashing(embeddings, k=10)\n",
    "\n",
    "# Печатаем содержимое хеш-таблицы\n",
    "for hash_key, vector_indices in hash_table.items():\n",
    "    print(f\"Бакет с хеш-ключом {hash_key}: {vector_indices}\")\n",
    "    for i in vector_indices:\n",
    "        if i == 0:\n",
    "            print(\"POSITIVE\")\n",
    "        if i == 1:\n",
    "            print(\"QUERY\")\n",
    "        print(sentences[i])\n",
    "    print(\"===\")\n",
    "    print(\"===\")\n",
    "    \n",
    "dataset['train'][diff_pos]['set']"
   ]
  },
  {
   "cell_type": "markdown",
   "metadata": {},
   "source": [
    "Может стоит использовать вместо LSH индексацию из faiss? https://github.com/facebookresearch/faiss/blob/main/tutorial/python/2-IVFFlat.py\n",
    "\n",
    "- типа IVFADC"
   ]
  },
  {
   "cell_type": "markdown",
   "metadata": {},
   "source": [
    "## Faiss"
   ]
  },
  {
   "cell_type": "code",
   "execution_count": null,
   "metadata": {},
   "outputs": [],
   "source": []
  }
 ],
 "metadata": {
  "kernelspec": {
   "display_name": "base",
   "language": "python",
   "name": "python3"
  },
  "language_info": {
   "codemirror_mode": {
    "name": "ipython",
    "version": 3
   },
   "file_extension": ".py",
   "mimetype": "text/x-python",
   "name": "python",
   "nbconvert_exporter": "python",
   "pygments_lexer": "ipython3",
   "version": "3.11.10"
  }
 },
 "nbformat": 4,
 "nbformat_minor": 2
}
