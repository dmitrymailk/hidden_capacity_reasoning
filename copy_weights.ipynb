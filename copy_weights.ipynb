{
 "cells": [
  {
   "cell_type": "code",
   "execution_count": 1,
   "id": "2ac2f2b6",
   "metadata": {},
   "outputs": [
    {
     "name": "stdout",
     "output_type": "stream",
     "text": [
      "🦥 Unsloth: Will patch your computer to enable 2x faster free finetuning.\n",
      "🦥 Unsloth Zoo will now patch everything to make training faster!\n"
     ]
    },
    {
     "name": "stderr",
     "output_type": "stream",
     "text": [
      "Some weights of Qwen2ForCausalLMCompressionV2 were not initialized from the model checkpoint at deepseek-ai/DeepSeek-R1-Distill-Qwen-1.5B and are newly initialized: ['embed_pooler.model.embed_tokens.weight', 'embed_pooler.model.layers.0.input_layernorm.weight', 'embed_pooler.model.layers.0.mlp.down_proj.weight', 'embed_pooler.model.layers.0.mlp.gate_proj.weight', 'embed_pooler.model.layers.0.mlp.up_proj.weight', 'embed_pooler.model.layers.0.post_attention_layernorm.weight', 'embed_pooler.model.layers.0.self_attn.k_proj.bias', 'embed_pooler.model.layers.0.self_attn.k_proj.weight', 'embed_pooler.model.layers.0.self_attn.o_proj.weight', 'embed_pooler.model.layers.0.self_attn.q_proj.bias', 'embed_pooler.model.layers.0.self_attn.q_proj.weight', 'embed_pooler.model.layers.0.self_attn.v_proj.bias', 'embed_pooler.model.layers.0.self_attn.v_proj.weight', 'embed_pooler.model.layers.1.input_layernorm.weight', 'embed_pooler.model.layers.1.mlp.down_proj.weight', 'embed_pooler.model.layers.1.mlp.gate_proj.weight', 'embed_pooler.model.layers.1.mlp.up_proj.weight', 'embed_pooler.model.layers.1.post_attention_layernorm.weight', 'embed_pooler.model.layers.1.self_attn.k_proj.bias', 'embed_pooler.model.layers.1.self_attn.k_proj.weight', 'embed_pooler.model.layers.1.self_attn.o_proj.weight', 'embed_pooler.model.layers.1.self_attn.q_proj.bias', 'embed_pooler.model.layers.1.self_attn.q_proj.weight', 'embed_pooler.model.layers.1.self_attn.v_proj.bias', 'embed_pooler.model.layers.1.self_attn.v_proj.weight', 'embed_pooler.model.layers.10.input_layernorm.weight', 'embed_pooler.model.layers.10.mlp.down_proj.weight', 'embed_pooler.model.layers.10.mlp.gate_proj.weight', 'embed_pooler.model.layers.10.mlp.up_proj.weight', 'embed_pooler.model.layers.10.post_attention_layernorm.weight', 'embed_pooler.model.layers.10.self_attn.k_proj.bias', 'embed_pooler.model.layers.10.self_attn.k_proj.weight', 'embed_pooler.model.layers.10.self_attn.o_proj.weight', 'embed_pooler.model.layers.10.self_attn.q_proj.bias', 'embed_pooler.model.layers.10.self_attn.q_proj.weight', 'embed_pooler.model.layers.10.self_attn.v_proj.bias', 'embed_pooler.model.layers.10.self_attn.v_proj.weight', 'embed_pooler.model.layers.11.input_layernorm.weight', 'embed_pooler.model.layers.11.mlp.down_proj.weight', 'embed_pooler.model.layers.11.mlp.gate_proj.weight', 'embed_pooler.model.layers.11.mlp.up_proj.weight', 'embed_pooler.model.layers.11.post_attention_layernorm.weight', 'embed_pooler.model.layers.11.self_attn.k_proj.bias', 'embed_pooler.model.layers.11.self_attn.k_proj.weight', 'embed_pooler.model.layers.11.self_attn.o_proj.weight', 'embed_pooler.model.layers.11.self_attn.q_proj.bias', 'embed_pooler.model.layers.11.self_attn.q_proj.weight', 'embed_pooler.model.layers.11.self_attn.v_proj.bias', 'embed_pooler.model.layers.11.self_attn.v_proj.weight', 'embed_pooler.model.layers.12.input_layernorm.weight', 'embed_pooler.model.layers.12.mlp.down_proj.weight', 'embed_pooler.model.layers.12.mlp.gate_proj.weight', 'embed_pooler.model.layers.12.mlp.up_proj.weight', 'embed_pooler.model.layers.12.post_attention_layernorm.weight', 'embed_pooler.model.layers.12.self_attn.k_proj.bias', 'embed_pooler.model.layers.12.self_attn.k_proj.weight', 'embed_pooler.model.layers.12.self_attn.o_proj.weight', 'embed_pooler.model.layers.12.self_attn.q_proj.bias', 'embed_pooler.model.layers.12.self_attn.q_proj.weight', 'embed_pooler.model.layers.12.self_attn.v_proj.bias', 'embed_pooler.model.layers.12.self_attn.v_proj.weight', 'embed_pooler.model.layers.13.input_layernorm.weight', 'embed_pooler.model.layers.13.mlp.down_proj.weight', 'embed_pooler.model.layers.13.mlp.gate_proj.weight', 'embed_pooler.model.layers.13.mlp.up_proj.weight', 'embed_pooler.model.layers.13.post_attention_layernorm.weight', 'embed_pooler.model.layers.13.self_attn.k_proj.bias', 'embed_pooler.model.layers.13.self_attn.k_proj.weight', 'embed_pooler.model.layers.13.self_attn.o_proj.weight', 'embed_pooler.model.layers.13.self_attn.q_proj.bias', 'embed_pooler.model.layers.13.self_attn.q_proj.weight', 'embed_pooler.model.layers.13.self_attn.v_proj.bias', 'embed_pooler.model.layers.13.self_attn.v_proj.weight', 'embed_pooler.model.layers.14.input_layernorm.weight', 'embed_pooler.model.layers.14.mlp.down_proj.weight', 'embed_pooler.model.layers.14.mlp.gate_proj.weight', 'embed_pooler.model.layers.14.mlp.up_proj.weight', 'embed_pooler.model.layers.14.post_attention_layernorm.weight', 'embed_pooler.model.layers.14.self_attn.k_proj.bias', 'embed_pooler.model.layers.14.self_attn.k_proj.weight', 'embed_pooler.model.layers.14.self_attn.o_proj.weight', 'embed_pooler.model.layers.14.self_attn.q_proj.bias', 'embed_pooler.model.layers.14.self_attn.q_proj.weight', 'embed_pooler.model.layers.14.self_attn.v_proj.bias', 'embed_pooler.model.layers.14.self_attn.v_proj.weight', 'embed_pooler.model.layers.15.input_layernorm.weight', 'embed_pooler.model.layers.15.mlp.down_proj.weight', 'embed_pooler.model.layers.15.mlp.gate_proj.weight', 'embed_pooler.model.layers.15.mlp.up_proj.weight', 'embed_pooler.model.layers.15.post_attention_layernorm.weight', 'embed_pooler.model.layers.15.self_attn.k_proj.bias', 'embed_pooler.model.layers.15.self_attn.k_proj.weight', 'embed_pooler.model.layers.15.self_attn.o_proj.weight', 'embed_pooler.model.layers.15.self_attn.q_proj.bias', 'embed_pooler.model.layers.15.self_attn.q_proj.weight', 'embed_pooler.model.layers.15.self_attn.v_proj.bias', 'embed_pooler.model.layers.15.self_attn.v_proj.weight', 'embed_pooler.model.layers.16.input_layernorm.weight', 'embed_pooler.model.layers.16.mlp.down_proj.weight', 'embed_pooler.model.layers.16.mlp.gate_proj.weight', 'embed_pooler.model.layers.16.mlp.up_proj.weight', 'embed_pooler.model.layers.16.post_attention_layernorm.weight', 'embed_pooler.model.layers.16.self_attn.k_proj.bias', 'embed_pooler.model.layers.16.self_attn.k_proj.weight', 'embed_pooler.model.layers.16.self_attn.o_proj.weight', 'embed_pooler.model.layers.16.self_attn.q_proj.bias', 'embed_pooler.model.layers.16.self_attn.q_proj.weight', 'embed_pooler.model.layers.16.self_attn.v_proj.bias', 'embed_pooler.model.layers.16.self_attn.v_proj.weight', 'embed_pooler.model.layers.17.input_layernorm.weight', 'embed_pooler.model.layers.17.mlp.down_proj.weight', 'embed_pooler.model.layers.17.mlp.gate_proj.weight', 'embed_pooler.model.layers.17.mlp.up_proj.weight', 'embed_pooler.model.layers.17.post_attention_layernorm.weight', 'embed_pooler.model.layers.17.self_attn.k_proj.bias', 'embed_pooler.model.layers.17.self_attn.k_proj.weight', 'embed_pooler.model.layers.17.self_attn.o_proj.weight', 'embed_pooler.model.layers.17.self_attn.q_proj.bias', 'embed_pooler.model.layers.17.self_attn.q_proj.weight', 'embed_pooler.model.layers.17.self_attn.v_proj.bias', 'embed_pooler.model.layers.17.self_attn.v_proj.weight', 'embed_pooler.model.layers.18.input_layernorm.weight', 'embed_pooler.model.layers.18.mlp.down_proj.weight', 'embed_pooler.model.layers.18.mlp.gate_proj.weight', 'embed_pooler.model.layers.18.mlp.up_proj.weight', 'embed_pooler.model.layers.18.post_attention_layernorm.weight', 'embed_pooler.model.layers.18.self_attn.k_proj.bias', 'embed_pooler.model.layers.18.self_attn.k_proj.weight', 'embed_pooler.model.layers.18.self_attn.o_proj.weight', 'embed_pooler.model.layers.18.self_attn.q_proj.bias', 'embed_pooler.model.layers.18.self_attn.q_proj.weight', 'embed_pooler.model.layers.18.self_attn.v_proj.bias', 'embed_pooler.model.layers.18.self_attn.v_proj.weight', 'embed_pooler.model.layers.19.input_layernorm.weight', 'embed_pooler.model.layers.19.mlp.down_proj.weight', 'embed_pooler.model.layers.19.mlp.gate_proj.weight', 'embed_pooler.model.layers.19.mlp.up_proj.weight', 'embed_pooler.model.layers.19.post_attention_layernorm.weight', 'embed_pooler.model.layers.19.self_attn.k_proj.bias', 'embed_pooler.model.layers.19.self_attn.k_proj.weight', 'embed_pooler.model.layers.19.self_attn.o_proj.weight', 'embed_pooler.model.layers.19.self_attn.q_proj.bias', 'embed_pooler.model.layers.19.self_attn.q_proj.weight', 'embed_pooler.model.layers.19.self_attn.v_proj.bias', 'embed_pooler.model.layers.19.self_attn.v_proj.weight', 'embed_pooler.model.layers.2.input_layernorm.weight', 'embed_pooler.model.layers.2.mlp.down_proj.weight', 'embed_pooler.model.layers.2.mlp.gate_proj.weight', 'embed_pooler.model.layers.2.mlp.up_proj.weight', 'embed_pooler.model.layers.2.post_attention_layernorm.weight', 'embed_pooler.model.layers.2.self_attn.k_proj.bias', 'embed_pooler.model.layers.2.self_attn.k_proj.weight', 'embed_pooler.model.layers.2.self_attn.o_proj.weight', 'embed_pooler.model.layers.2.self_attn.q_proj.bias', 'embed_pooler.model.layers.2.self_attn.q_proj.weight', 'embed_pooler.model.layers.2.self_attn.v_proj.bias', 'embed_pooler.model.layers.2.self_attn.v_proj.weight', 'embed_pooler.model.layers.20.input_layernorm.weight', 'embed_pooler.model.layers.20.mlp.down_proj.weight', 'embed_pooler.model.layers.20.mlp.gate_proj.weight', 'embed_pooler.model.layers.20.mlp.up_proj.weight', 'embed_pooler.model.layers.20.post_attention_layernorm.weight', 'embed_pooler.model.layers.20.self_attn.k_proj.bias', 'embed_pooler.model.layers.20.self_attn.k_proj.weight', 'embed_pooler.model.layers.20.self_attn.o_proj.weight', 'embed_pooler.model.layers.20.self_attn.q_proj.bias', 'embed_pooler.model.layers.20.self_attn.q_proj.weight', 'embed_pooler.model.layers.20.self_attn.v_proj.bias', 'embed_pooler.model.layers.20.self_attn.v_proj.weight', 'embed_pooler.model.layers.21.input_layernorm.weight', 'embed_pooler.model.layers.21.mlp.down_proj.weight', 'embed_pooler.model.layers.21.mlp.gate_proj.weight', 'embed_pooler.model.layers.21.mlp.up_proj.weight', 'embed_pooler.model.layers.21.post_attention_layernorm.weight', 'embed_pooler.model.layers.21.self_attn.k_proj.bias', 'embed_pooler.model.layers.21.self_attn.k_proj.weight', 'embed_pooler.model.layers.21.self_attn.o_proj.weight', 'embed_pooler.model.layers.21.self_attn.q_proj.bias', 'embed_pooler.model.layers.21.self_attn.q_proj.weight', 'embed_pooler.model.layers.21.self_attn.v_proj.bias', 'embed_pooler.model.layers.21.self_attn.v_proj.weight', 'embed_pooler.model.layers.22.input_layernorm.weight', 'embed_pooler.model.layers.22.mlp.down_proj.weight', 'embed_pooler.model.layers.22.mlp.gate_proj.weight', 'embed_pooler.model.layers.22.mlp.up_proj.weight', 'embed_pooler.model.layers.22.post_attention_layernorm.weight', 'embed_pooler.model.layers.22.self_attn.k_proj.bias', 'embed_pooler.model.layers.22.self_attn.k_proj.weight', 'embed_pooler.model.layers.22.self_attn.o_proj.weight', 'embed_pooler.model.layers.22.self_attn.q_proj.bias', 'embed_pooler.model.layers.22.self_attn.q_proj.weight', 'embed_pooler.model.layers.22.self_attn.v_proj.bias', 'embed_pooler.model.layers.22.self_attn.v_proj.weight', 'embed_pooler.model.layers.23.input_layernorm.weight', 'embed_pooler.model.layers.23.mlp.down_proj.weight', 'embed_pooler.model.layers.23.mlp.gate_proj.weight', 'embed_pooler.model.layers.23.mlp.up_proj.weight', 'embed_pooler.model.layers.23.post_attention_layernorm.weight', 'embed_pooler.model.layers.23.self_attn.k_proj.bias', 'embed_pooler.model.layers.23.self_attn.k_proj.weight', 'embed_pooler.model.layers.23.self_attn.o_proj.weight', 'embed_pooler.model.layers.23.self_attn.q_proj.bias', 'embed_pooler.model.layers.23.self_attn.q_proj.weight', 'embed_pooler.model.layers.23.self_attn.v_proj.bias', 'embed_pooler.model.layers.23.self_attn.v_proj.weight', 'embed_pooler.model.layers.24.input_layernorm.weight', 'embed_pooler.model.layers.24.mlp.down_proj.weight', 'embed_pooler.model.layers.24.mlp.gate_proj.weight', 'embed_pooler.model.layers.24.mlp.up_proj.weight', 'embed_pooler.model.layers.24.post_attention_layernorm.weight', 'embed_pooler.model.layers.24.self_attn.k_proj.bias', 'embed_pooler.model.layers.24.self_attn.k_proj.weight', 'embed_pooler.model.layers.24.self_attn.o_proj.weight', 'embed_pooler.model.layers.24.self_attn.q_proj.bias', 'embed_pooler.model.layers.24.self_attn.q_proj.weight', 'embed_pooler.model.layers.24.self_attn.v_proj.bias', 'embed_pooler.model.layers.24.self_attn.v_proj.weight', 'embed_pooler.model.layers.25.input_layernorm.weight', 'embed_pooler.model.layers.25.mlp.down_proj.weight', 'embed_pooler.model.layers.25.mlp.gate_proj.weight', 'embed_pooler.model.layers.25.mlp.up_proj.weight', 'embed_pooler.model.layers.25.post_attention_layernorm.weight', 'embed_pooler.model.layers.25.self_attn.k_proj.bias', 'embed_pooler.model.layers.25.self_attn.k_proj.weight', 'embed_pooler.model.layers.25.self_attn.o_proj.weight', 'embed_pooler.model.layers.25.self_attn.q_proj.bias', 'embed_pooler.model.layers.25.self_attn.q_proj.weight', 'embed_pooler.model.layers.25.self_attn.v_proj.bias', 'embed_pooler.model.layers.25.self_attn.v_proj.weight', 'embed_pooler.model.layers.26.input_layernorm.weight', 'embed_pooler.model.layers.26.mlp.down_proj.weight', 'embed_pooler.model.layers.26.mlp.gate_proj.weight', 'embed_pooler.model.layers.26.mlp.up_proj.weight', 'embed_pooler.model.layers.26.post_attention_layernorm.weight', 'embed_pooler.model.layers.26.self_attn.k_proj.bias', 'embed_pooler.model.layers.26.self_attn.k_proj.weight', 'embed_pooler.model.layers.26.self_attn.o_proj.weight', 'embed_pooler.model.layers.26.self_attn.q_proj.bias', 'embed_pooler.model.layers.26.self_attn.q_proj.weight', 'embed_pooler.model.layers.26.self_attn.v_proj.bias', 'embed_pooler.model.layers.26.self_attn.v_proj.weight', 'embed_pooler.model.layers.27.input_layernorm.weight', 'embed_pooler.model.layers.27.mlp.down_proj.weight', 'embed_pooler.model.layers.27.mlp.gate_proj.weight', 'embed_pooler.model.layers.27.mlp.up_proj.weight', 'embed_pooler.model.layers.27.post_attention_layernorm.weight', 'embed_pooler.model.layers.27.self_attn.k_proj.bias', 'embed_pooler.model.layers.27.self_attn.k_proj.weight', 'embed_pooler.model.layers.27.self_attn.o_proj.weight', 'embed_pooler.model.layers.27.self_attn.q_proj.bias', 'embed_pooler.model.layers.27.self_attn.q_proj.weight', 'embed_pooler.model.layers.27.self_attn.v_proj.bias', 'embed_pooler.model.layers.27.self_attn.v_proj.weight', 'embed_pooler.model.layers.3.input_layernorm.weight', 'embed_pooler.model.layers.3.mlp.down_proj.weight', 'embed_pooler.model.layers.3.mlp.gate_proj.weight', 'embed_pooler.model.layers.3.mlp.up_proj.weight', 'embed_pooler.model.layers.3.post_attention_layernorm.weight', 'embed_pooler.model.layers.3.self_attn.k_proj.bias', 'embed_pooler.model.layers.3.self_attn.k_proj.weight', 'embed_pooler.model.layers.3.self_attn.o_proj.weight', 'embed_pooler.model.layers.3.self_attn.q_proj.bias', 'embed_pooler.model.layers.3.self_attn.q_proj.weight', 'embed_pooler.model.layers.3.self_attn.v_proj.bias', 'embed_pooler.model.layers.3.self_attn.v_proj.weight', 'embed_pooler.model.layers.4.input_layernorm.weight', 'embed_pooler.model.layers.4.mlp.down_proj.weight', 'embed_pooler.model.layers.4.mlp.gate_proj.weight', 'embed_pooler.model.layers.4.mlp.up_proj.weight', 'embed_pooler.model.layers.4.post_attention_layernorm.weight', 'embed_pooler.model.layers.4.self_attn.k_proj.bias', 'embed_pooler.model.layers.4.self_attn.k_proj.weight', 'embed_pooler.model.layers.4.self_attn.o_proj.weight', 'embed_pooler.model.layers.4.self_attn.q_proj.bias', 'embed_pooler.model.layers.4.self_attn.q_proj.weight', 'embed_pooler.model.layers.4.self_attn.v_proj.bias', 'embed_pooler.model.layers.4.self_attn.v_proj.weight', 'embed_pooler.model.layers.5.input_layernorm.weight', 'embed_pooler.model.layers.5.mlp.down_proj.weight', 'embed_pooler.model.layers.5.mlp.gate_proj.weight', 'embed_pooler.model.layers.5.mlp.up_proj.weight', 'embed_pooler.model.layers.5.post_attention_layernorm.weight', 'embed_pooler.model.layers.5.self_attn.k_proj.bias', 'embed_pooler.model.layers.5.self_attn.k_proj.weight', 'embed_pooler.model.layers.5.self_attn.o_proj.weight', 'embed_pooler.model.layers.5.self_attn.q_proj.bias', 'embed_pooler.model.layers.5.self_attn.q_proj.weight', 'embed_pooler.model.layers.5.self_attn.v_proj.bias', 'embed_pooler.model.layers.5.self_attn.v_proj.weight', 'embed_pooler.model.layers.6.input_layernorm.weight', 'embed_pooler.model.layers.6.mlp.down_proj.weight', 'embed_pooler.model.layers.6.mlp.gate_proj.weight', 'embed_pooler.model.layers.6.mlp.up_proj.weight', 'embed_pooler.model.layers.6.post_attention_layernorm.weight', 'embed_pooler.model.layers.6.self_attn.k_proj.bias', 'embed_pooler.model.layers.6.self_attn.k_proj.weight', 'embed_pooler.model.layers.6.self_attn.o_proj.weight', 'embed_pooler.model.layers.6.self_attn.q_proj.bias', 'embed_pooler.model.layers.6.self_attn.q_proj.weight', 'embed_pooler.model.layers.6.self_attn.v_proj.bias', 'embed_pooler.model.layers.6.self_attn.v_proj.weight', 'embed_pooler.model.layers.7.input_layernorm.weight', 'embed_pooler.model.layers.7.mlp.down_proj.weight', 'embed_pooler.model.layers.7.mlp.gate_proj.weight', 'embed_pooler.model.layers.7.mlp.up_proj.weight', 'embed_pooler.model.layers.7.post_attention_layernorm.weight', 'embed_pooler.model.layers.7.self_attn.k_proj.bias', 'embed_pooler.model.layers.7.self_attn.k_proj.weight', 'embed_pooler.model.layers.7.self_attn.o_proj.weight', 'embed_pooler.model.layers.7.self_attn.q_proj.bias', 'embed_pooler.model.layers.7.self_attn.q_proj.weight', 'embed_pooler.model.layers.7.self_attn.v_proj.bias', 'embed_pooler.model.layers.7.self_attn.v_proj.weight', 'embed_pooler.model.layers.8.input_layernorm.weight', 'embed_pooler.model.layers.8.mlp.down_proj.weight', 'embed_pooler.model.layers.8.mlp.gate_proj.weight', 'embed_pooler.model.layers.8.mlp.up_proj.weight', 'embed_pooler.model.layers.8.post_attention_layernorm.weight', 'embed_pooler.model.layers.8.self_attn.k_proj.bias', 'embed_pooler.model.layers.8.self_attn.k_proj.weight', 'embed_pooler.model.layers.8.self_attn.o_proj.weight', 'embed_pooler.model.layers.8.self_attn.q_proj.bias', 'embed_pooler.model.layers.8.self_attn.q_proj.weight', 'embed_pooler.model.layers.8.self_attn.v_proj.bias', 'embed_pooler.model.layers.8.self_attn.v_proj.weight', 'embed_pooler.model.layers.9.input_layernorm.weight', 'embed_pooler.model.layers.9.mlp.down_proj.weight', 'embed_pooler.model.layers.9.mlp.gate_proj.weight', 'embed_pooler.model.layers.9.mlp.up_proj.weight', 'embed_pooler.model.layers.9.post_attention_layernorm.weight', 'embed_pooler.model.layers.9.self_attn.k_proj.bias', 'embed_pooler.model.layers.9.self_attn.k_proj.weight', 'embed_pooler.model.layers.9.self_attn.o_proj.weight', 'embed_pooler.model.layers.9.self_attn.q_proj.bias', 'embed_pooler.model.layers.9.self_attn.q_proj.weight', 'embed_pooler.model.layers.9.self_attn.v_proj.bias', 'embed_pooler.model.layers.9.self_attn.v_proj.weight', 'embed_pooler.model.norm.weight']\n",
      "You should probably TRAIN this model on a down-stream task to be able to use it for predictions and inference.\n"
     ]
    },
    {
     "name": "stdout",
     "output_type": "stream",
     "text": [
      "<All keys matched successfully>\n"
     ]
    }
   ],
   "source": [
    "import os\n",
    "\n",
    "from transformers import Qwen2ForCausalLM, Qwen2Model, AutoTokenizer, BitsAndBytesConfig\n",
    "import torch\n",
    "from trl import (\n",
    "    ModelConfig,\n",
    "    ScriptArguments,\n",
    "    SFTConfig,\n",
    "    SFTTrainer,\n",
    "    TrlParser,\n",
    "    get_kbit_device_map,\n",
    ")\n",
    "\n",
    "from datasets import load_dataset\n",
    "from tqdm import tqdm\n",
    "from hidden_capacity_reasoning.utils import (\n",
    "    generate_train_examples,\n",
    "    pad_train_examples,\n",
    "    tokenize_single_turn,\n",
    ")\n",
    "from datasets import Dataset\n",
    "import gc\n",
    "import types\n",
    "\n",
    "# need for auto SFTTrainer patch(possible increase speed)\n",
    "from unsloth import is_bfloat16_supported\n",
    "from peft import (\n",
    "    LoraConfig,\n",
    "    PeftConfig,\n",
    "    PeftModel,\n",
    "    get_peft_model,\n",
    "    prepare_model_for_kbit_training,\n",
    ")\n",
    "from hidden_capacity_reasoning.utils import (\n",
    "    EOS_TOKEN_ID,\n",
    "    TEXT_TOKEN_ID,\n",
    "    WINDOW_SIZE,\n",
    "    VISION_START,\n",
    "    VISION_END,\n",
    "    find_all_linear_names_v3,\n",
    ")\n",
    "\n",
    "import time\n",
    "from datetime import datetime\n",
    "\n",
    "\n",
    "from hidden_capacity_reasoning.models import (\n",
    "    Qwen2ForCausalLMCompressionV1,\n",
    "    Qwen2ModelEmbedPoolerV1,\n",
    "    Qwen2ForCausalLMCompressionV2,\n",
    "    Qwen2ModelEmbedPoolerV2,\n",
    "    Qwen2ForCausalLMCompressionV3,\n",
    "    Qwen2ModelEmbedPoolerV3,\n",
    ")\n",
    "\n",
    "model_name = \"deepseek-ai/DeepSeek-R1-Distill-Qwen-1.5B\"\n",
    "# model_name = \"my_r1_model_v1\"\n",
    "model = Qwen2ForCausalLMCompressionV2.from_pretrained(\n",
    "    model_name,\n",
    "    torch_dtype=torch.bfloat16,\n",
    "    # torch_dtype=torch.float32,\n",
    "    device_map={\"\": 0},\n",
    "    attn_implementation=\"flash_attention_2\",\n",
    ")\n",
    "device = \"cuda\"\n",
    "tokenizer = AutoTokenizer.from_pretrained(model_name)\n",
    "model.model.requires_grad_(False)\n",
    "# model = model.to(torch.bfloat16)\n",
    "\n",
    "temp_model = Qwen2ModelEmbedPoolerV2.from_pretrained(\n",
    "    model_name,\n",
    "    attn_implementation=\"flash_attention_2\",\n",
    "    torch_dtype=torch.bfloat16,\n",
    "    device_map={\"\": 0},\n",
    "    # quantization_config=BitsAndBytesConfig(load_in_4bit=True),\n",
    ")\n",
    "print(\n",
    "    model.embed_pooler.load_state_dict(\n",
    "        temp_model.state_dict(),\n",
    "        strict=False,\n",
    "    ),\n",
    ")\n",
    "temp_model = temp_model.cpu()\n",
    "del temp_model\n",
    "gc.collect()\n",
    "torch.cuda.empty_cache()"
   ]
  },
  {
   "cell_type": "code",
   "execution_count": 2,
   "id": "2ac0a3f5",
   "metadata": {},
   "outputs": [
    {
     "data": {
      "text/plain": [
       "('r1_compressor_v2/tokenizer_config.json',\n",
       " 'r1_compressor_v2/special_tokens_map.json',\n",
       " 'r1_compressor_v2/tokenizer.json')"
      ]
     },
     "execution_count": 2,
     "metadata": {},
     "output_type": "execute_result"
    }
   ],
   "source": [
    "model.save_pretrained('r1_compressor_v2')\n",
    "tokenizer.save_pretrained('r1_compressor_v2')"
   ]
  }
 ],
 "metadata": {
  "kernelspec": {
   "display_name": "base",
   "language": "python",
   "name": "python3"
  },
  "language_info": {
   "codemirror_mode": {
    "name": "ipython",
    "version": 3
   },
   "file_extension": ".py",
   "mimetype": "text/x-python",
   "name": "python",
   "nbconvert_exporter": "python",
   "pygments_lexer": "ipython3",
   "version": "3.11.10"
  }
 },
 "nbformat": 4,
 "nbformat_minor": 5
}
