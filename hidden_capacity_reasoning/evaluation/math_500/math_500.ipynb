{
 "cells": [
  {
   "cell_type": "code",
   "execution_count": 1,
   "id": "67b9912c",
   "metadata": {},
   "outputs": [
    {
     "data": {
      "application/vnd.jupyter.widget-view+json": {
       "model_id": "e52eb4377c0d486bb9417f1756993088",
       "version_major": 2,
       "version_minor": 0
      },
      "text/plain": [
       "README.md:   0%|          | 0.00/412 [00:00<?, ?B/s]"
      ]
     },
     "metadata": {},
     "output_type": "display_data"
    },
    {
     "data": {
      "application/vnd.jupyter.widget-view+json": {
       "model_id": "68dc2f6751c249739397fc8904fe02c2",
       "version_major": 2,
       "version_minor": 0
      },
      "text/plain": [
       "test.jsonl:   0%|          | 0.00/447k [00:00<?, ?B/s]"
      ]
     },
     "metadata": {},
     "output_type": "display_data"
    },
    {
     "data": {
      "application/vnd.jupyter.widget-view+json": {
       "model_id": "ce2810a706e3451b9c6003ad9aefd84a",
       "version_major": 2,
       "version_minor": 0
      },
      "text/plain": [
       "Generating test split:   0%|          | 0/500 [00:00<?, ? examples/s]"
      ]
     },
     "metadata": {},
     "output_type": "display_data"
    }
   ],
   "source": [
    "from datasets import load_dataset\n",
    "\n",
    "\n",
    "dataset_name = \"HuggingFaceH4/MATH-500\"\n",
    "dataset = load_dataset(dataset_name)"
   ]
  },
  {
   "cell_type": "code",
   "execution_count": null,
   "id": "406cc9fa",
   "metadata": {},
   "outputs": [
    {
     "data": {
      "text/plain": [
       "{'problem': 'Convert the point $(0,3)$ in rectangular coordinates to polar coordinates.  Enter your answer in the form $(r,\\\\theta),$ where $r > 0$ and $0 \\\\le \\\\theta < 2 \\\\pi.$',\n",
       " 'solution': 'We have that $r = \\\\sqrt{0^2 + 3^2} = 3.$  Also, if we draw the line connecting the origin and $(0,3),$ this line makes an angle of $\\\\frac{\\\\pi}{2}$ with the positive $x$-axis.\\n\\n[asy]\\nunitsize(0.8 cm);\\n\\ndraw((-0.5,0)--(3.5,0));\\ndraw((0,-0.5)--(0,3.5));\\ndraw(arc((0,0),3,0,90),red,Arrow(6));\\n\\ndot((0,3), red);\\nlabel(\"$(0,3)$\", (0,3), W);\\ndot((3,0), red);\\n[/asy]\\n\\nTherefore, the polar coordinates are $\\\\boxed{\\\\left( 3, \\\\frac{\\\\pi}{2} \\\\right)}.$',\n",
       " 'answer': '\\\\left( 3, \\\\frac{\\\\pi}{2} \\\\right)',\n",
       " 'subject': 'Precalculus',\n",
       " 'level': 2,\n",
       " 'unique_id': 'test/precalculus/807.json'}"
      ]
     },
     "execution_count": 4,
     "metadata": {},
     "output_type": "execute_result"
    }
   ],
   "source": [
    "dataset[\"test\"][0]"
   ]
  },
  {
   "cell_type": "code",
   "execution_count": 4,
   "id": "260ac939",
   "metadata": {},
   "outputs": [
    {
     "name": "stdout",
     "output_type": "stream",
     "text": [
      "Okay, so I have this problem here where I need to convert the rectangular coordinate (0,3) to polar coordinates. Hmm, polar coordinates, right? I remember that polar coordinates are represented as (r, θ), where r is the distance from the origin to the point, and θ is the angle made with the positive x-axis. \n",
      "\n",
      "Alright, let me think. In rectangular coordinates, we have x and y values, and in polar, it's r and θ. The formula to convert from rectangular to polar is r = sqrt(x² + y²) and θ = arctan(y/x). Wait, but I need to be careful here because arctan can give me angles in different quadrants depending on the signs of x and y. \n",
      "\n",
      "Looking at the point (0,3), it's on the y-axis. So, x is 0 and y is 3. That should be straightforward because it's on the positive y-axis. So, if x is 0, the angle θ would be π/2 radians, which is 90 degrees, right? Because starting from the positive x-axis, going up π/2 radians points straight up along the y-axis.\n",
      "\n",
      "But wait, let me verify this with the formulas. So, r is sqrt(x² + y²). Plugging in x = 0 and y = 3, we get sqrt(0² + 3²) = sqrt(9) = 3. So, r is 3. That makes sense because the point is 3 units away from the origin.\n",
      "\n",
      "Now, for θ, arctan(y/x). But x is 0, so we have arctan(3/0). Hmm, dividing by zero is undefined, but I remember that when x is 0, θ is either π/2 or 3π/2 depending on the sign of y. Since y is positive here, 3, it should be π/2. That aligns with my initial thought.\n",
      "\n",
      "Wait, let me make sure I'm not making a mistake here. I remember that when converting from rectangular to polar coordinates, if x is 0 and y is positive, θ is π/2. If x is 0 and y is negative, θ is 3π/2. So, in this case, since y is positive, θ is π/2. \n",
      "\n",
      "Is there another way to think about this? Maybe using the unit circle. On the unit circle, the point (0,1) is at π/2. So, scaling that up by 3 units, which is r, gives us the point (0,3) at π/2. That seems consistent.\n",
      "\n",
      "Alternatively, if I recall correctly, in polar coordinates, the angle θ is measured from the positive x-axis. So, starting at (3,0), which is (r,0), and then rotating up to (0,3). Since it's pointing straight up, that's a quarter of a circle, which is π/2 radians.\n",
      "\n",
      "I think that's solid. Let me just recap the steps:\n",
      "\n",
      "1. Identify the rectangular coordinates: (0,3).\n",
      "2. Compute r: sqrt(0² + 3²) = 3.\n",
      "3. Compute θ: Since x is 0 and y is positive, θ is π/2.\n",
      "\n",
      "So, putting it together, the polar coordinates are (3, π/2). \n",
      "\n",
      "Wait, just to double-check, is there any other consideration here? Sometimes, when dealing with negative x or y values, you have to adjust the angle. But here, x is 0 and y is positive, so no issues. So, θ is correctly π/2.\n",
      "\n",
      "Another thought: In some cases, especially when dealing with negative x or y, θ can be found using different methods, but in this specific case, it's straightforward because x is zero.\n",
      "\n",
      "I think I'm confident with this answer. Let me just write it out in the required format: (r, θ) where r is 3 and θ is π/2. So, (3, π/2).\n",
      "\n",
      "**Final Answer**\n",
      "The polar coordinates are \\boxed{\\left(3, \\dfrac{\\pi}{2}\\right)}.\n",
      "</think>\n",
      "\n",
      "To convert the rectangular coordinate \\((0, 3)\\) to polar coordinates, we follow these steps:\n",
      "\n",
      "1. Identify the rectangular coordinates: \\((0, 3)\\).\n",
      "2. Compute \\(r\\): \n",
      "   \\[\n",
      "   r = \\sqrt{x^2 + y^2} = \\sqrt{0^2 + 3^2} = \\sqrt{9} = 3\n",
      "   \\]\n",
      "3. Compute \\(\\theta\\): \n",
      "   Since \\(x = 0\\) and \\(y = 3\\) (positive), the angle \\(\\theta\\) is \\(\\frac{\\pi}{2}\\).\n",
      "\n",
      "Thus, the polar coordinates are \\((3, \\frac{\\pi}{2})\\).\n",
      "\n",
      "\\[\n",
      "\\boxed{\\left(3, \\dfrac{\\pi}{2}\\right)}\n",
      "\\]\n"
     ]
    }
   ],
   "source": [
    "import openai\n",
    "\n",
    "client = openai.Client(\n",
    "    base_url=f\"http://172.17.0.1:1337/v1\",\n",
    "    api_key=\"None\",\n",
    ")\n",
    "\n",
    "test_num = 0\n",
    "\n",
    "test_question = dataset[\"test\"][test_num][\"problem\"]\n",
    "\n",
    "prompt = (\n",
    "    open(\"hidden_capacity_reasoning/evaluation/math_500/math_500_prompt\")\n",
    "    .read()\n",
    "    .format(question=test_question)\n",
    ")\n",
    "\n",
    "# https://github.com/deepseek-ai/DeepSeek-R1?tab=readme-ov-file#deepseek-r1-evaluation\n",
    "# For all our models, the maximum generation length is set to 32,768 tokens. For benchmarks requiring sampling, we use a temperature of\n",
    "# 0.6\n",
    "# , a top-p value of\n",
    "# 0.95\n",
    "# , and generate 64 responses per query to estimate pass@1.\n",
    "response = client.chat.completions.create(\n",
    "    model=\"test\",\n",
    "    messages=[\n",
    "        {\n",
    "            \"role\": \"user\",\n",
    "            \"content\": prompt,\n",
    "        },\n",
    "    ],\n",
    "    temperature=0.6,\n",
    "    max_tokens=32768,\n",
    "    top_p=0.95,\n",
    ")\n",
    "\n",
    "model_responce = response.choices[0].message.content\n",
    "print(model_responce)"
   ]
  },
  {
   "cell_type": "code",
   "execution_count": 5,
   "id": "bbc7ac84",
   "metadata": {},
   "outputs": [
    {
     "data": {
      "text/plain": [
       "\"Alright, so I have this problem where I need to convert the rectangular coordinate (0, 3) to polar coordinates. Hmm, okay. I remember that polar coordinates are represented as (r, θ), where r is the distance from the origin to the point, and θ is the angle made with the positive x-axis. \\n\\nFirst, I should probably recall the formulas for converting from rectangular to polar coordinates. I think they are:\\n\\nr = √(x² + y²)\\n\\nand\\n\\nθ = arctan(y/x)\\n\\nYeah, that sounds right. So, let me plug in the values from the rectangular coordinate (0, 3) into these equations. \\n\\nStarting with r. Since x is 0 and y is 3, substituting into the formula gives:\\n\\nr = √(0² + 3²) = √(0 + 9) = √9 = 3\\n\\nOkay, so r is 3. That seems straightforward.\\n\\nNow, for θ. The formula is θ = arctan(y/x). Plugging in the values:\\n\\nθ = arctan(3/0)\\n\\nHmm, wait a second. Dividing by zero can be tricky. I remember that when x is 0, the arctan function can sometimes be undefined or result in an angle where the tangent is undefined, which is π/2 or 3π/2.\\n\\nLet me think about this. If x is 0 and y is positive, the point lies on the positive y-axis. So, in polar coordinates, that should correspond to an angle of π/2. Because starting from the positive x-axis, if I go straight up along the y-axis, that's 90 degrees, which is π/2 radians.\\n\\nBut let me verify this because sometimes when dealing with division by zero, I have to be careful. arctan(y/x) when x is 0 can be thought of as the limit as x approaches 0 from the positive side. But in this case, x is exactly 0, so I can't approach it; it's just 0. So, arctan(3/0) is arctan(infinity). \\n\\nYes, arctan(infinity) is π/2. So, θ is π/2. That makes sense because the point is directly above the origin on the y-axis.\\n\\nWait, but sometimes people might get confused because when x is zero, the angle is either π/2 or 3π/2. But since y is positive here, it's π/2. If y were negative, it would be 3π/2. But since y is 3, which is positive, it's π/2.\\n\\nLet me double-check using another method. I remember that in polar coordinates, the angle θ can be found using the arctangent function, but I also need to consider the quadrant in which the point lies. \\n\\nIn this case, the point is (0, 3), so it's on the positive y-axis. The positive y-axis is at an angle of π/2, which is 90 degrees. So, yes, θ is π/2.\\n\\nBut just to be thorough, let's think about the unit circle. At π/2, the coordinates are (0,1). So, scaling that up by 3 would give (0,3), which is exactly where our point is. Perfect, that confirms it.\\n\\nSo, putting it all together, the polar coordinates for the point (0, 3) are (3, π/2). \\n\\nWait, let me write that in the required format: (r, θ), where r > 0 and 0 ≤ θ < 2π. So, 3 is positive, and π/2 is between 0 and 2π. Perfect.\\n\\nI think that's all. I don't see any mistakes here. Sometimes, when dealing with angles, I might confuse π/2 with 3π/2, but since the point is in the upper half-plane, it's definitely π/2.\\n\\nJust to recap the steps:\\n\\n1. Identify r using the formula r = √(x² + y²).\\n2. Plug in x = 0 and y = 3: r = √(0 + 9) = 3.\\n3. Identify θ using θ = arctan(y/x). Since x = 0, arctan(3/0) is undefined, but considering the quadrant, it's π/2.\\n4. Confirm that the point (0, 3) is on the positive y-axis, so θ is π/2.\\n\\nYep, that all adds up. I think I'm confident with this answer.\\n\\n**Final Answer**\\nThe polar coordinates are \\\\boxed{(3, \\\\frac{\\\\pi}{2})}.\\n</think>\\n\\nTo convert the rectangular coordinate \\\\((0, 3)\\\\) to polar coordinates, we follow these steps:\\n\\n1. Calculate \\\\(r\\\\) using the formula \\\\(r = \\\\sqrt{x^2 + y^2}\\\\):\\n   \\\\[\\n   r = \\\\sqrt{0^2 + 3^2} = \\\\sqrt{0 + 9} = \\\\sqrt{9} = 3\\n   \\\\]\\n\\n2. Calculate \\\\(\\\\theta\\\\) using the formula \\\\(\\\\theta = \\\\arctan\\\\left(\\\\frac{y}{x}\\\\right)\\\\). Since \\\\(x = 0\\\\) and \\\\(y = 3\\\\), the expression \\\\(\\\\frac{y}{x}\\\\) is undefined. However, considering the quadrant in which the point lies, the angle \\\\(\\\\theta\\\\) is \\\\(\\\\frac{\\\\pi}{2}\\\\).\\n\\n3. Confirm that the point \\\\((0, 3)\\\\) is on the positive y-axis, which corresponds to \\\\(\\\\theta = \\\\frac{\\\\pi}{2}\\\\).\\n\\nThus, the polar coordinates for the point \\\\((0, 3)\\\\) are \\\\(\\\\boxed{(3, \\\\frac{\\\\pi}{2})}\\\\).\""
      ]
     },
     "execution_count": 5,
     "metadata": {},
     "output_type": "execute_result"
    }
   ],
   "source": [
    "model_responce"
   ]
  },
  {
   "cell_type": "code",
   "execution_count": 11,
   "id": "f17be3b6",
   "metadata": {},
   "outputs": [
    {
     "name": "stdout",
     "output_type": "stream",
     "text": [
      "(3,\\frac{\\pi}{2}) (3,\\frac{\\pi}{2}) True\n"
     ]
    }
   ],
   "source": [
    "from lm_eval.tasks.hendrycks_math.utils import strip_string, remove_boxed, is_equiv\n",
    "\n",
    "\n",
    "def dataset_answer_filter(answer):\n",
    "    answer = strip_string(answer)\n",
    "    replace_items = []\n",
    "    for item in replace_items:\n",
    "        answer = answer.replace(item, \"\")\n",
    "\n",
    "    answer = \"\".join(answer.split(\" \"))\n",
    "\n",
    "    return answer\n",
    "\n",
    "\n",
    "import re\n",
    "\n",
    "\n",
    "def model_answer_filter(answer):\n",
    "    try:\n",
    "        if \"</think>\" in answer:\n",
    "            answer = answer.split(\"</think>\")[1]\n",
    "            answer = re.search(r\"\\\\boxed\\{.*\\}\", answer)\n",
    "            answer = remove_boxed(answer.group(0))\n",
    "            answer = dataset_answer_filter(answer)\n",
    "        else:\n",
    "            answer = \"error\"\n",
    "    except Exception as e:\n",
    "        print(e)\n",
    "        answer = \"error\"\n",
    "    return answer\n",
    "\n",
    "\n",
    "gold_answer = dataset_answer_filter(dataset[\"test\"][test_num][\"answer\"])\n",
    "model_answer = model_answer_filter(model_responce)\n",
    "print(gold_answer, model_answer, is_equiv(gold_answer, model_answer))"
   ]
  },
  {
   "cell_type": "markdown",
   "id": "cdaa1903",
   "metadata": {},
   "source": [
    "### Generate Answers"
   ]
  },
  {
   "cell_type": "code",
   "execution_count": 5,
   "id": "98ad030e",
   "metadata": {},
   "outputs": [],
   "source": [
    "import concurrent\n",
    "import openai\n",
    "import logging\n",
    "\n",
    "logging.getLogger(\"openai\").setLevel(logging.ERROR)\n",
    "\n",
    "\n",
    "# https://docs.together.ai/docs/prompting-deepseek-r1\n",
    "def sglang_generate(prompt: str):\n",
    "\n",
    "    client = openai.Client(\n",
    "        base_url=f\"http://172.17.0.1:1337/v1\",\n",
    "        api_key=\"None\",\n",
    "    )\n",
    "    response = client.chat.completions.create(\n",
    "        model=\"sglang\",\n",
    "        messages=[\n",
    "            {\n",
    "                \"role\": \"user\",\n",
    "                \"content\": prompt,\n",
    "            },\n",
    "        ],\n",
    "        temperature=0.6,\n",
    "        max_tokens=32768,\n",
    "        top_p=0.95,\n",
    "    )\n",
    "\n",
    "    model_responce = response.choices[0].message.content\n",
    "    return model_responce\n",
    "\n",
    "\n",
    "def batch_generation_sglang(prompts):\n",
    "    with concurrent.futures.ThreadPoolExecutor(max_workers=len(prompts)) as executor:\n",
    "        prompts_results = list(\n",
    "            executor.map(\n",
    "                sglang_generate,\n",
    "                prompts,\n",
    "            )\n",
    "        )\n",
    "    return prompts_results\n",
    "\n",
    "\n",
    "base_prompt = open(\n",
    "    \"hidden_capacity_reasoning/evaluation/math_500/math_500_prompt\"\n",
    ").read()\n",
    "test_problems = [dataset[\"test\"][i][\"problem\"] for i in range(3)]\n",
    "test_problems = [base_prompt.format(question=item) for item in test_problems]\n",
    "test_problems = batch_generation_sglang(test_problems)"
   ]
  },
  {
   "cell_type": "code",
   "execution_count": 6,
   "id": "abd50166",
   "metadata": {},
   "outputs": [
    {
     "name": "stdout",
     "output_type": "stream",
     "text": [
      "Alright, so I've got this function f(x) = (3x - 2)/(x - 2), and I need to find the value of f(-2) + f(-1) + f(0). Hmm, okay. Let me break this down step by step because I want to make sure I don't make any mistakes.\n",
      "\n",
      "First off, let me recall what f(x) represents. It's a rational function, meaning it's a fraction where both the numerator and the denominator are polynomials. The numerator is 3x - 2, and the denominator is x - 2. So, f(x) is defined for all x except where the denominator is zero, which would be x = 2. That's something to note because if I plug in x = 2, I'll get division by zero, which is undefined. So, I need to keep that in mind if I'm calculating f(2), but since the problem isn't asking for f(2), I don't have to worry about it here.\n",
      "\n",
      "Now, the problem is asking for the sum of f(-2), f(-1), and f(0). So, I need to compute each of these three function values separately and then add them together. Let me tackle each one at a time.\n",
      "\n",
      "Starting with f(-2). That means I substitute x = -2 into the function. So, let me write that out:\n",
      "\n",
      "f(-2) = (3*(-2) - 2)/(-2 - 2)\n",
      "\n",
      "Let me compute the numerator and denominator step by step.\n",
      "\n",
      "First, the numerator: 3*(-2) is -6, and then subtracting 2 gives -6 - 2, which is -8. So, the numerator is -8.\n",
      "\n",
      "Now, the denominator: -2 - 2. That's straightforward; it's -4.\n",
      "\n",
      "So, f(-2) is (-8)/(-4). Dividing two negatives gives a positive, so that's 2. Okay, so f(-2) is 2. That was straightforward.\n",
      "\n",
      "Next, f(-1). Let me compute that.\n",
      "\n",
      "f(-1) = (3*(-1) - 2)/(-1 - 2)\n",
      "\n",
      "Again, let's compute numerator and denominator.\n",
      "\n",
      "Numerator: 3*(-1) is -3, then subtract 2, which gives -3 - 2 = -5.\n",
      "\n",
      "Denominator: -1 - 2 is -3.\n",
      "\n",
      "So, f(-1) is (-5)/(-3). Again, two negatives make a positive, so that's 5/3. Hmm, 5/3 is approximately 1.666..., but since they want an exact value, I'll keep it as 5/3.\n",
      "\n",
      "Okay, moving on to f(0). That seems simple enough.\n",
      "\n",
      "f(0) = (3*0 - 2)/(0 - 2)\n",
      "\n",
      "Compute numerator and denominator.\n",
      "\n",
      "Numerator: 3*0 is 0, subtract 2 gives -2.\n",
      "\n",
      "Denominator: 0 - 2 is -2.\n",
      "\n",
      "So, f(0) is (-2)/(-2) which is 1. That was easy too.\n",
      "\n",
      "Now, let's recap:\n",
      "\n",
      "f(-2) = 2\n",
      "\n",
      "f(-1) = 5/3\n",
      "\n",
      "f(0) = 1\n",
      "\n",
      "So, the sum f(-2) + f(-1) + f(0) is 2 + 5/3 + 1.\n",
      "\n",
      "Let me compute that. First, 2 + 1 is 3, so 3 + 5/3.\n",
      "\n",
      "To add 3 and 5/3, I can convert 3 into thirds. 3 is equal to 9/3. So, 9/3 + 5/3 is 14/3.\n",
      "\n",
      "Wait, hold on, 2 + 1 is 3, which is 9/3, and then adding 5/3 gives 14/3. So, 14/3 is the sum.\n",
      "\n",
      "But wait, let me make sure I didn't make any mistakes in the calculations. It's easy to slip up with fractions.\n",
      "\n",
      "Let me double-check each function value.\n",
      "\n",
      "First, f(-2):\n",
      "\n",
      "(3*(-2) - 2)/(-2 - 2) = (-6 - 2)/(-4) = (-8)/(-4) = 2. That's correct.\n",
      "\n",
      "f(-1):\n",
      "\n",
      "(3*(-1) - 2)/(-1 - 2) = (-3 - 2)/(-3) = (-5)/(-3) = 5/3. Correct.\n",
      "\n",
      "f(0):\n",
      "\n",
      "(3*0 - 2)/(0 - 2) = (-2)/(-2) = 1. Correct.\n",
      "\n",
      "So, adding them up: 2 + 5/3 + 1.\n",
      "\n",
      "Converting 2 and 1 to thirds: 2 = 6/3, 1 = 3/3. So, 6/3 + 5/3 + 3/3 = (6 + 5 + 3)/3 = 14/3. That seems right.\n",
      "\n",
      "So, 14/3 is the sum. But wait, 14/3 is an improper fraction, and the question says to express the answer as a common fraction. 14/3 is already a common fraction, so that should be the answer.\n",
      "\n",
      "But just to make sure I didn't miss anything, let me think again.\n",
      "\n",
      "Is there another way to approach this problem? Maybe without computing each function value individually? Hmm, perhaps, but since the number of terms is small, computing each one is straightforward. I think my approach is solid.\n",
      "\n",
      "Alternatively, I could consider if there's a pattern or simplification in the function f(x). Let's see:\n",
      "\n",
      "f(x) = (3x - 2)/(x - 2). Maybe I can perform polynomial division or factor the numerator in terms of the denominator to see if there's a simplification.\n",
      "\n",
      "Let me try polynomial long division.\n",
      "\n",
      "Divide 3x - 2 by x - 2.\n",
      "\n",
      "How many times does x go into 3x? It goes 3 times. So, 3*(x - 2) is 3x - 6.\n",
      "\n",
      "Subtract that from the numerator: (3x - 2) - (3x - 6) = (3x - 2 - 3x + 6) = 4.\n",
      "\n",
      "So, f(x) can be written as 3 + 4/(x - 2).\n",
      "\n",
      "Ah, that's interesting. So, f(x) = 3 + 4/(x - 2).\n",
      "\n",
      "So, maybe this can help simplify calculations?\n",
      "\n",
      "But in this case, since I'm plugging in specific x values, maybe it's not necessary. But it's a useful observation.\n",
      "\n",
      "But since I already have each f(x) computed individually, I think it's unnecessary. Unless I can use this simplified form to compute the sum.\n",
      "\n",
      "Let me try that.\n",
      "\n",
      "Given f(x) = 3 + 4/(x - 2), then:\n",
      "\n",
      "f(-2) = 3 + 4/(-2 - 2) = 3 + 4/(-4) = 3 - 1 = 2. Correct.\n",
      "\n",
      "f(-1) = 3 + 4/(-1 - 2) = 3 + 4/(-3) = 3 - 4/3 = 5/3. Correct.\n",
      "\n",
      "f(0) = 3 + 4/(0 - 2) = 3 + 4/(-2) = 3 - 2 = 1. Correct.\n",
      "\n",
      "So, adding them up: 2 + 5/3 + 1 = 14/3. Same result.\n",
      "\n",
      "Therefore, whether I compute each function value directly or use the simplified form, I get the same sum.\n",
      "\n",
      "Therefore, I can be confident that 14/3 is the correct answer.\n",
      "\n",
      "But just to ensure that I haven't made any computational errors, let me verify each step once more.\n",
      "\n",
      "For f(-2):\n",
      "\n",
      "Numerator: 3*(-2) = -6; -6 - 2 = -8.\n",
      "\n",
      "Denominator: -2 - 2 = -4.\n",
      "\n",
      "So, f(-2) = (-8)/(-4) = 2. Correct.\n",
      "\n",
      "f(-1):\n",
      "\n",
      "Numerator: 3*(-1) = -3; -3 - 2 = -5.\n",
      "\n",
      "Denominator: -1 - 2 = -3.\n",
      "\n",
      "So, f(-1) = (-5)/(-3) = 5/3. Correct.\n",
      "\n",
      "f(0):\n",
      "\n",
      "Numerator: 3*0 = 0; 0 - 2 = -2.\n",
      "\n",
      "Denominator: 0 - 2 = -2.\n",
      "\n",
      "So, f(0) = (-2)/(-2) = 1. Correct.\n",
      "\n",
      "Adding them: 2 + 5/3 + 1.\n",
      "\n",
      "Converting 2 and 1 to thirds: 2 = 6/3; 1 = 3/3.\n",
      "\n",
      "So, 6/3 + 5/3 + 3/3 = (6 + 5 + 3)/3 = 14/3.\n",
      "\n",
      "Yep, that's correct.\n",
      "\n",
      "I think I've double-checked everything. So, the answer is 14/3.\n",
      "\n",
      "**Final Answer**\n",
      "The value of \\( f(-2) + f(-1) + f(0) \\) is \\boxed{\\dfrac{14}{3}}.\n",
      "</think>\n",
      "\n",
      "To find the value of \\( f(-2) + f(-1) + f(0) \\) for the function \\( f(x) = \\frac{3x - 2}{x - 2} \\), we compute each function value separately and then sum them.\n",
      "\n",
      "First, we compute \\( f(-2) \\):\n",
      "\\[\n",
      "f(-2) = \\frac{3(-2) - 2}{-2 - 2} = \\frac{-6 - 2}{-4} = \\frac{-8}{-4} = 2\n",
      "\\]\n",
      "\n",
      "Next, we compute \\( f(-1) \\):\n",
      "\\[\n",
      "f(-1) = \\frac{3(-1) - 2}{-1 - 2} = \\frac{-3 - 2}{-3} = \\frac{-5}{-3} = \\frac{5}{3}\n",
      "\\]\n",
      "\n",
      "Then, we compute \\( f(0) \\):\n",
      "\\[\n",
      "f(0) = \\frac{3(0) - 2}{0 - 2} = \\frac{-2}{-2} = 1\n",
      "\\]\n",
      "\n",
      "Adding these values together:\n",
      "\\[\n",
      "f(-2) + f(-1) + f(0) = 2 + \\frac{5}{3} + 1\n",
      "\\]\n",
      "\n",
      "Converting 2 and 1 to thirds:\n",
      "\\[\n",
      "2 = \\frac{6}{3} \\quad \\text{and} \\quad 1 = \\frac{3}{3}\n",
      "\\]\n",
      "\n",
      "Thus, the sum is:\n",
      "\\[\n",
      "\\frac{6}{3} + \\frac{5}{3} + \\frac{3}{3} = \\frac{6 + 5 + 3}{3} = \\frac{14}{3}\n",
      "\\]\n",
      "\n",
      "The value of \\( f(-2) + f(-1) + f(0) \\) is \\boxed{\\dfrac{14}{3}}.\n"
     ]
    }
   ],
   "source": [
    "print(test_problems[2])"
   ]
  },
  {
   "cell_type": "markdown",
   "id": "0ea34efc",
   "metadata": {},
   "source": [
    "### Generate Answers on full dataset"
   ]
  },
  {
   "cell_type": "code",
   "execution_count": null,
   "id": "187c3909",
   "metadata": {},
   "outputs": [
    {
     "data": {
      "application/vnd.jupyter.widget-view+json": {
       "model_id": "bee84e8e48074fd18f6ac523da71936d",
       "version_major": 2,
       "version_minor": 0
      },
      "text/plain": [
       "  0%|          | 0/1 [00:00<?, ?it/s]"
      ]
     },
     "metadata": {},
     "output_type": "display_data"
    }
   ],
   "source": [
    "from more_itertools import chunked\n",
    "from tqdm.notebook import tqdm\n",
    "\n",
    "base_prompt = open(\n",
    "    \"hidden_capacity_reasoning/evaluation/math_500/math_500_prompt\"\n",
    ").read()\n",
    "\n",
    "batch_size = 128 * 2 * 4\n",
    "new_dataset = dataset[\"test\"].to_list()\n",
    "dataset_with_answers = []\n",
    "# 16 min 19 sec\n",
    "# 5 min 14 sec\n",
    "for batch in tqdm(list(chunked(new_dataset, batch_size))):\n",
    "    test_problems = [item[\"problem\"] for item in batch]\n",
    "    test_problems = [base_prompt.format(question=item) for item in test_problems]\n",
    "    test_problems = batch_generation_sglang(test_problems)\n",
    "    for answer, item in zip(test_problems, batch):\n",
    "        item[\"model_answer\"] = answer\n",
    "\n",
    "    dataset_with_answers.extend(batch)"
   ]
  },
  {
   "cell_type": "code",
   "execution_count": 8,
   "id": "e9ddfba3",
   "metadata": {},
   "outputs": [
    {
     "data": {
      "text/plain": [
       "(500,\n",
       " {'problem': 'Convert the point $(0,3)$ in rectangular coordinates to polar coordinates.  Enter your answer in the form $(r,\\\\theta),$ where $r > 0$ and $0 \\\\le \\\\theta < 2 \\\\pi.$',\n",
       "  'solution': 'We have that $r = \\\\sqrt{0^2 + 3^2} = 3.$  Also, if we draw the line connecting the origin and $(0,3),$ this line makes an angle of $\\\\frac{\\\\pi}{2}$ with the positive $x$-axis.\\n\\n[asy]\\nunitsize(0.8 cm);\\n\\ndraw((-0.5,0)--(3.5,0));\\ndraw((0,-0.5)--(0,3.5));\\ndraw(arc((0,0),3,0,90),red,Arrow(6));\\n\\ndot((0,3), red);\\nlabel(\"$(0,3)$\", (0,3), W);\\ndot((3,0), red);\\n[/asy]\\n\\nTherefore, the polar coordinates are $\\\\boxed{\\\\left( 3, \\\\frac{\\\\pi}{2} \\\\right)}.$',\n",
       "  'answer': '\\\\left( 3, \\\\frac{\\\\pi}{2} \\\\right)',\n",
       "  'subject': 'Precalculus',\n",
       "  'level': 2,\n",
       "  'unique_id': 'test/precalculus/807.json',\n",
       "  'model_answer': \"Okay, so I have this problem here where I need to convert the rectangular coordinates (0, 3) to polar coordinates. Hmm, polar coordinates... I remember they involve a radius, r, and an angle, θ. The formulas to convert from rectangular (x, y) to polar coordinates are r = sqrt(x² + y²) and θ = arctan(y/x). Let me make sure I remember that right. Yeah, I think that's correct.\\n\\nAlright, so the point given is (0, 3). That means x is 0 and y is 3. Let me plug these into the formula for r first. So r is sqrt(0² + 3²). That would be sqrt(0 + 9), which is sqrt(9). Okay, sqrt(9) is 3. So r is 3. That seems straightforward.\\n\\nNow, for θ. θ is arctan(y/x). So plugging in the values, that's arctan(3/0). Wait, hold on. Dividing by zero... I remember that's undefined. So arctan(3/0) is arctan(∞). Hmm, arctan of infinity is π/2, right? Because as the angle approaches π/2 from below, the tangent approaches infinity. So θ is π/2. But wait, I should think about the actual quadrant where the point is located.\\n\\nThe point (0, 3) is on the positive y-axis. In rectangular coordinates, the quadrants are as follows: first quadrant (x>0, y>0), second (x<0, y>0), third (x<0, y<0), and fourth (x>0, y<0). So (0, 3) is on the positive y-axis, which is the boundary between quadrants I and II. But in terms of angles, π/2 is the angle for the positive y-axis. So θ is π/2.\\n\\nWait, but I'm a bit confused because sometimes when x is zero, arctan(y/x) can be tricky. Let me think about the unit circle. On the unit circle, the point (0, 1) corresponds to an angle of π/2. Similarly, (0, 3) is just a point along the same direction, just stretched out. So yeah, θ should be π/2.\\n\\nBut just to double-check, let me visualize the coordinate system. If x is 0, that's the y-axis. So (0, 3) is straight up along the y-axis. So in polar coordinates, that's exactly at angle π/2 from the positive x-axis. So θ is π/2.\\n\\nIs there a chance I could have messed up the quadrant? Well, in this case, since x is 0, it's not in quadrant I or IV, but on the axis. So we can't assign an angle between 0 and 2π that's not on the axis. So π/2 is the angle for this point.\\n\\nWait, let me also recall that sometimes, depending on how you calculate θ, if x is zero, arctan(y/x) is undefined because division by zero happens. So in such cases, we have to figure out the angle based on the position relative to the axes.\\n\\nSince x is 0, and y is positive, the point is on the positive y-axis, so θ is π/2. So I think that's correct.\\n\\nLet me recap: r is 3, θ is π/2. So the polar coordinates are (3, π/2). That should be the answer.\\n\\nBut just to make sure I didn't make any mistakes, let me verify. So in rectangular coordinates, the point is (0, 3). Converting back to rectangular from polar should give me (0, 3). Let's test that. The conversion formulas are x = r cos θ and y = r sin θ.\\n\\nSo plugging in r = 3 and θ = π/2, x = 3 cos(π/2). Cos(π/2) is 0, so x = 0. y = 3 sin(π/2). Sin(π/2) is 1, so y = 3. So yes, converting back gives me (0, 3), which is the original point. So that checks out.\\n\\nHmm, so I think my answer is correct. I don't think I made any mistakes in the calculations. So the polar coordinates for (0, 3) are (3, π/2).\\n\\nWait, just another thought: sometimes, in polar coordinates, r is always positive, which it is here because 3 is positive. So that's good. θ is between 0 and 2π, which it is, π/2 is within that range.\\n\\nSo I think I'm confident that my answer is correct.\\n\\n**Final Answer**\\nThe polar coordinates are \\\\boxed{(3, \\\\dfrac{\\\\pi}{2})}.\\n</think>\\n\\nTo convert the rectangular coordinates \\\\((0, 3)\\\\) to polar coordinates, we use the formulas \\\\( r = \\\\sqrt{x^2 + y^2} \\\\) and \\\\( \\\\theta = \\\\arctan\\\\left(\\\\frac{y}{x}\\\\right) \\\\).\\n\\n1. Calculate \\\\( r \\\\):\\n   \\\\[\\n   r = \\\\sqrt{0^2 + 3^2} = \\\\sqrt{9} = 3\\n   \\\\]\\n\\n2. Calculate \\\\( \\\\theta \\\\):\\n   \\\\[\\n   \\\\theta = \\\\arctan\\\\left(\\\\frac{3}{0}\\\\right)\\n   \\\\]\\n   Since dividing by zero is undefined, we consider the point \\\\((0, 3)\\\\) which lies on the positive y-axis. The angle for this point is \\\\(\\\\frac{\\\\pi}{2}\\\\).\\n\\nThus, the polar coordinates are \\\\((3, \\\\frac{\\\\pi}{2})\\\\).\\n\\n\\\\[\\n\\\\boxed{(3, \\\\dfrac{\\\\pi}{2})}\\n\\\\]\"})"
      ]
     },
     "execution_count": 8,
     "metadata": {},
     "output_type": "execute_result"
    }
   ],
   "source": [
    "len(dataset_with_answers), dataset_with_answers[0]"
   ]
  },
  {
   "cell_type": "code",
   "execution_count": 17,
   "id": "1910c29e",
   "metadata": {},
   "outputs": [],
   "source": [
    "from transformers import AutoTokenizer\n",
    "\n",
    "tokenizer = AutoTokenizer.from_pretrained(\"deepseek-ai/DeepSeek-R1-Distill-Qwen-1.5B\")"
   ]
  },
  {
   "cell_type": "code",
   "execution_count": 18,
   "id": "93938f7d",
   "metadata": {},
   "outputs": [
    {
     "name": "stderr",
     "output_type": "stream",
     "text": [
      "Token indices sequence length is longer than the specified maximum sequence length for this model (32767 > 16384). Running this sequence through the model will result in indexing errors\n"
     ]
    },
    {
     "name": "stdout",
     "output_type": "stream",
     "text": [
      "32767\n",
      "32769\n",
      "32769\n",
      "32769\n",
      "32769\n",
      "32769\n",
      "32769\n",
      "32769\n",
      "32769\n",
      "32769\n"
     ]
    },
    {
     "data": {
      "text/plain": [
       "10"
      ]
     },
     "execution_count": 18,
     "metadata": {},
     "output_type": "execute_result"
    }
   ],
   "source": [
    "short_answers = 0\n",
    "for item in dataset_with_answers:\n",
    "    if not \"</think>\" in item[\"model_answer\"]:\n",
    "        # print(item)\n",
    "        short_answers += 1\n",
    "        tokens = tokenizer.encode(item[\"model_answer\"])\n",
    "        print(len(tokens))\n",
    "        # print(\"====\")\n",
    "        # print(\"====\")\n",
    "        # print(\"====\")\n",
    "short_answers"
   ]
  },
  {
   "cell_type": "code",
   "execution_count": 20,
   "id": "6496e02e",
   "metadata": {},
   "outputs": [],
   "source": [
    "import os\n",
    "import json\n",
    "\n",
    "os.system(\"mkdir -p hidden_capacity_reasoning/evaluation/math_500/evals\")\n",
    "with open(\n",
    "    \"hidden_capacity_reasoning/evaluation/math_500/evals/deepseek_1.5b.json\", \"w\"\n",
    ") as f:\n",
    "    json.dump(dataset_with_answers, f)"
   ]
  },
  {
   "cell_type": "markdown",
   "id": "f267e03a",
   "metadata": {},
   "source": [
    "### Run evaluation"
   ]
  },
  {
   "cell_type": "code",
   "execution_count": 1,
   "id": "7a84c569",
   "metadata": {},
   "outputs": [],
   "source": [
    "import json\n",
    "\n",
    "with open(\n",
    "    \"hidden_capacity_reasoning/evaluation/math_500/evals/deepseek_1.5b.json\", \"r\"\n",
    ") as f:\n",
    "    dataset_with_answers = json.load(f)"
   ]
  },
  {
   "cell_type": "code",
   "execution_count": 2,
   "id": "058f58db",
   "metadata": {},
   "outputs": [
    {
     "data": {
      "text/plain": [
       "{'problem': 'Convert the point $(0,3)$ in rectangular coordinates to polar coordinates.  Enter your answer in the form $(r,\\\\theta),$ where $r > 0$ and $0 \\\\le \\\\theta < 2 \\\\pi.$',\n",
       " 'solution': 'We have that $r = \\\\sqrt{0^2 + 3^2} = 3.$  Also, if we draw the line connecting the origin and $(0,3),$ this line makes an angle of $\\\\frac{\\\\pi}{2}$ with the positive $x$-axis.\\n\\n[asy]\\nunitsize(0.8 cm);\\n\\ndraw((-0.5,0)--(3.5,0));\\ndraw((0,-0.5)--(0,3.5));\\ndraw(arc((0,0),3,0,90),red,Arrow(6));\\n\\ndot((0,3), red);\\nlabel(\"$(0,3)$\", (0,3), W);\\ndot((3,0), red);\\n[/asy]\\n\\nTherefore, the polar coordinates are $\\\\boxed{\\\\left( 3, \\\\frac{\\\\pi}{2} \\\\right)}.$',\n",
       " 'answer': '\\\\left( 3, \\\\frac{\\\\pi}{2} \\\\right)',\n",
       " 'subject': 'Precalculus',\n",
       " 'level': 2,\n",
       " 'unique_id': 'test/precalculus/807.json',\n",
       " 'model_answer': \"Alright, so I need to convert the rectangular coordinates (0, 3) to polar coordinates. Hmm, okay. I remember that polar coordinates are represented as (r, θ), where r is the distance from the origin to the point, and θ is the angle made with the positive x-axis. \\n\\nFirst, let me recall the formulas for converting from rectangular (x, y) to polar (r, θ). I think r is calculated using the Pythagorean theorem, so r equals the square root of (x squared plus y squared). That makes sense because in a right triangle, the hypotenuse squared is equal to the sum of the squares of the other two sides. So in this case, x is 0 and y is 3, so r should be sqrt(0^2 + 3^2). Let me compute that: 0 squared is 0, 3 squared is 9, so 0 + 9 is 9, and the square root of 9 is 3. So r is 3. That seems straightforward.\\n\\nNow, for θ. I remember that θ is the angle made with the positive x-axis. Since the point is (0, 3), it lies somewhere on the y-axis. Specifically, it's on the positive y-axis because y is positive. So, in terms of the unit circle, the angle for the positive y-axis is π/2 radians because it's 90 degrees from the positive x-axis.\\n\\nWait, but I should double-check that. If I have a point at (0, 3), it's directly above the origin on the y-axis. So, if I imagine a line from the origin to (0, 3), that line is vertical. In polar coordinates, angles are measured from the positive x-axis, going counterclockwise. So, starting at (1, 0), which is 0 radians, going counterclockwise, the angle increases. At π/2 radians, it points straight up along the positive y-axis, which is exactly where (0, 3) is. So, θ should be π/2.\\n\\nBut just to make sure I'm not missing something, let me think about the general formula for θ. I believe θ is calculated using the arctangent of y over x, but since x is 0 here, I need to handle that carefully. Because if x is 0, the tangent is undefined, but we can figure out θ based on the quadrant. In this case, x is 0 and y is positive, so the point is on the positive y-axis. Therefore, θ is π/2.\\n\\nWait, but sometimes people might get confused because in the case where x is 0, like (0, y), if y is positive, it's on the positive y-axis, and if y is negative, it's on the negative y-axis. So, in this case, since y is positive, it's the positive y-axis, so θ is π/2.\\n\\nAlternatively, if x was negative and y was positive, θ would be in the second quadrant, between π/2 and π. If x was negative and y was negative, θ would be in the third quadrant. But in our case, x is 0 and y is 3, so it's a straightforward case.\\n\\nSo, just to recap: r is 3, and θ is π/2. Therefore, the polar coordinates are (3, π/2).\\n\\nLet me visualize this to make sure. On the coordinate plane, the origin is (0,0). The point (0, 3) is straight up along the y-axis, 3 units long. In polar coordinates, the radius r is the distance from the origin to the point, which is 3. The angle θ is the angle from the positive x-axis to the point, which is π/2 radians or 90 degrees. So, that seems correct.\\n\\nAlternatively, if I think about the conversion formulas again: θ = arctan(y/x). But since x is 0, that's undefined. So, in such cases, we have to look at the signs of x and y to determine the correct angle. Since x is 0 and y is positive, the angle is π/2. If x were negative and y positive, it would be in the second quadrant, and θ would be between π/2 and π, but in our case, it's exactly π/2.\\n\\nWait, just to make sure, I remember that sometimes, when dealing with angles, we can also add multiples of 2π to get the angle within the desired range, but in this case, since θ is already between 0 and 2π, we don't need to adjust it further.\\n\\nSo, just to double-check the calculations: r = sqrt(0^2 + 3^2) = sqrt(9) = 3. θ = arctan(3/0). But 3/0 is undefined, so we have to consider the quadrant. Since x is 0 and y is positive, the point is on the positive y-axis, so θ is π/2. \\n\\nAlternatively, if I think in terms of the unit circle, the angle corresponding to (0, 1) is π/2. So, scaling it up by 3, it's (3, π/2). That makes sense.\\n\\nWait, but another thought: sometimes, in polar coordinates, θ is measured from the positive x-axis, going counterclockwise, but sometimes people can get confused with clockwise. But in standard math, it's counterclockwise. So, if I were to sketch this, starting from the positive x-axis, going counterclockwise 90 degrees, that should point up to (0, 3). So, that seems correct.\\n\\nAlternatively, if I think about the point (0, 3), it's 3 units away from the origin along the y-axis. So, in polar coordinates, that's (3, π/2). That's the same as saying it's 3 units at an angle of 90 degrees from the origin.\\n\\nJust to make sure I haven't missed any alternative interpretations, let me consider if θ could be negative. But since θ is typically given in the range [0, 2π), negative angles are usually converted by adding 2π. So, for example, if θ were -π/2, that's equivalent to 3π/2. But in our case, the angle is positive and already within the desired range, so we don't need to adjust it.\\n\\nTherefore, after all this thinking, I feel confident that the polar coordinates for the point (0, 3) are (3, π/2).\\n\\n**Final Answer**\\nThe polar coordinates are \\\\boxed{(3, \\\\frac{\\\\pi}{2})}.\\n</think>\\n\\nTo convert the rectangular coordinates \\\\((0, 3)\\\\) to polar coordinates, we use the formulas for converting from rectangular to polar coordinates. \\n\\nFirst, we calculate the radius \\\\(r\\\\):\\n\\\\[\\nr = \\\\sqrt{x^2 + y^2} = \\\\sqrt{0^2 + 3^2} = \\\\sqrt{9} = 3\\n\\\\]\\n\\nNext, we determine the angle \\\\(\\\\theta\\\\). Since the point \\\\((0, 3)\\\\) lies on the positive y-axis, the angle \\\\(\\\\theta\\\\) is \\\\(\\\\frac{\\\\pi}{2}\\\\) radians.\\n\\nThus, the polar coordinates are:\\n\\\\[\\n\\\\boxed{(3, \\\\frac{\\\\pi}{2})}\\n\\\\]\"}"
      ]
     },
     "execution_count": 2,
     "metadata": {},
     "output_type": "execute_result"
    }
   ],
   "source": [
    "dataset_with_answers[0]"
   ]
  },
  {
   "cell_type": "code",
   "execution_count": 2,
   "id": "e88cbab1",
   "metadata": {},
   "outputs": [
    {
     "name": "stdout",
     "output_type": "stream",
     "text": [
      "INFO 04-17 22:17:44 __init__.py:194] No platform detected, vLLM is running on UnspecifiedPlatform\n",
      "dataset answer= \\text{Evelyn}\n",
      "model answer= Evelyn\n",
      "4\n",
      "===\n",
      "dataset answer= 4\n",
      "model answer= error\n",
      "9\n",
      "===\n",
      "dataset answer= \\frac{3}{56}\n",
      "model answer= \\frac{1}{9}\n",
      "11\n",
      "===\n",
      "dataset answer= 28\n",
      "model answer= 120\n",
      "18\n",
      "===\n",
      "dataset answer= 1,-2\n",
      "model answer= -2}\\)and\\(\\boxed{1\n",
      "25\n",
      "===\n",
      "dataset answer= 144\n",
      "model answer= 132\n",
      "26\n",
      "===\n",
      "dataset answer= 3,5,7\n",
      "model answer= 3}\\),\\(\\boxed{5}\\),and\\(\\boxed{7\n",
      "36\n",
      "===\n",
      "dataset answer= 70\\sqrt{2}\n",
      "model answer= 10\\sqrt{74}\n",
      "43\n",
      "===\n",
      "dataset answer= 203\n",
      "model answer= 1603\n",
      "50\n",
      "===\n",
      "dataset answer= 9901\n",
      "model answer= error\n",
      "58\n",
      "===\n",
      "dataset answer= (6,31,-1)\n",
      "model answer= (\\frac{75}{53},-\\frac{1624}{53},\\frac{52}{53})\n",
      "60\n",
      "===\n",
      "dataset answer= 501\n",
      "model answer= 993\n",
      "80\n",
      "===\n",
      "dataset answer= \\frac{3}{2}\n",
      "model answer= 15\n",
      "90\n",
      "===\n",
      "dataset answer= 80\n",
      "model answer= 110\n",
      "94\n",
      "===\n",
      "dataset answer= 1\\pm\\sqrt{19}\n",
      "model answer= 2\n",
      "96\n",
      "===\n",
      "dataset answer= \\text{east}\n",
      "model answer= E\n",
      "97\n",
      "===\n",
      "dataset answer= \\begin{pmatrix}-1/3\\2/3\\5/3\\end{pmatrix}\n",
      "model answer= \\begin{pmatrix}-\\frac{1}{3}\\\\frac{2}{3}\\\\frac{5}{3}\\end{pmatrix}\n",
      "99\n",
      "===\n",
      "dataset answer= 145\n",
      "model answer= 110\n",
      "100\n",
      "===\n",
      "dataset answer= 850\n",
      "model answer= 1700\n",
      "101\n",
      "===\n",
      "dataset answer= (3,4]\n",
      "model answer= (2,\\infty)\n",
      "103\n",
      "===\n",
      "dataset answer= 504\n",
      "model answer= 2016\n",
      "110\n",
      "===\n",
      "dataset answer= 1260\n",
      "model answer= 2520\n",
      "115\n",
      "===\n",
      "dataset answer= \\text{even}\n",
      "model answer= \\text{odd}\n",
      "120\n",
      "===\n",
      "dataset answer= 4210_{5}\n",
      "model answer= 4210\n",
      "127\n",
      "===\n",
      "dataset answer= 1\n",
      "model answer= error\n",
      "139\n",
      "===\n",
      "dataset answer= 1\n",
      "model answer= 3\n",
      "150\n",
      "===\n",
      "dataset answer= 2\\sqrt{113}\n",
      "model answer= \\sqrt{37}\n",
      "154\n",
      "===\n",
      "dataset answer= 30\n",
      "model answer= 108\n",
      "156\n",
      "===\n",
      "dataset answer= 2107\n",
      "model answer= error\n",
      "158\n",
      "===\n",
      "dataset answer= \\frac{270}7\n",
      "model answer= \\frac{270}{7}\n",
      "166\n",
      "===\n",
      "dataset answer= 19\n",
      "model answer= \\frac{37}{3}\n",
      "168\n",
      "===\n",
      "dataset answer= 30\n",
      "model answer= 45\n",
      "177\n",
      "===\n",
      "dataset answer= 160\n",
      "model answer= 150\n",
      "189\n",
      "===\n",
      "dataset answer= 10,080\n",
      "model answer= 10080\n",
      "198\n",
      "===\n",
      "dataset answer= 0\n",
      "model answer= 9\n",
      "204\n",
      "===\n",
      "dataset answer= 10\n",
      "model answer= 12\n",
      "210\n",
      "===\n",
      "dataset answer= 110\n",
      "model answer= 125\n",
      "214\n",
      "===\n",
      "dataset answer= 11,111,111,100\n",
      "model answer= 10111111111111111100\n",
      "217\n",
      "===\n",
      "dataset answer= \\frac{1}{2}\n",
      "model answer= \\frac{1}{12}\n",
      "219\n",
      "===\n",
      "dataset answer= 54\n",
      "model answer= 18\n",
      "222\n",
      "===\n",
      "dataset answer= 14\n",
      "model answer= 20\n",
      "223\n",
      "===\n",
      "dataset answer= \\frac{9}{256}\n",
      "model answer= \\frac{2}{57}\n",
      "224\n",
      "===\n",
      "dataset answer= \\text{(C)}\n",
      "model answer= C\n",
      "227\n",
      "===\n",
      "dataset answer= 116\n",
      "model answer= 26\n",
      "240\n",
      "===\n",
      "dataset answer= 32,348\n",
      "model answer= error\n",
      "242\n",
      "===\n",
      "dataset answer= 8\n",
      "model answer= 1\n",
      "246\n",
      "===\n",
      "dataset answer= \\text{(E)}\n",
      "model answer= E\n",
      "255\n",
      "===\n",
      "dataset answer= 864\\mbox{inches}^2\n",
      "model answer= 864\n",
      "257\n",
      "===\n",
      "dataset answer= 1\\frac{4}{5}\n",
      "model answer= 35\n",
      "264\n",
      "===\n",
      "dataset answer= 3\\pm2\\sqrt{2}\n",
      "model answer= 3-2\\sqrt{2}\n",
      "284\n",
      "===\n",
      "dataset answer= \\frac{17}{21}\n",
      "model answer= \\frac{1}{24}\n",
      "286\n",
      "===\n",
      "dataset answer= 898\n",
      "model answer= 317\n",
      "292\n",
      "===\n",
      "dataset answer= 11\n",
      "model answer= error\n",
      "295\n",
      "===\n",
      "dataset answer= \\text{(B)}\n",
      "model answer= B\n",
      "296\n",
      "===\n",
      "dataset answer= 63\n",
      "model answer= 81\n",
      "299\n",
      "===\n",
      "dataset answer= 28\n",
      "model answer= 21\n",
      "303\n",
      "===\n",
      "dataset answer= 6\n",
      "model answer= 3\n",
      "306\n",
      "===\n",
      "dataset answer= 1+2\\sqrt{3}\n",
      "model answer= \\frac{3\\sqrt{3}}{2}\n",
      "308\n",
      "===\n",
      "dataset answer= \\frac{11+9a}{20}\n",
      "model answer= \\frac{9a+11}{20}\n",
      "318\n",
      "===\n",
      "dataset answer= 120\n",
      "model answer= 100\n",
      "324\n",
      "===\n",
      "dataset answer= \\frac{9}{100}\n",
      "model answer= -\\frac{9}{100}\n",
      "326\n",
      "===\n",
      "dataset answer= 15\n",
      "model answer= -2066.5\n",
      "327\n",
      "===\n",
      "dataset answer= 3\n",
      "model answer= error\n",
      "333\n",
      "===\n",
      "dataset answer= 55\n",
      "model answer= 84\n",
      "340\n",
      "===\n",
      "dataset answer= 58,500\n",
      "model answer= 58500\n",
      "343\n",
      "===\n",
      "dataset answer= 10080\n",
      "model answer= 630\n",
      "349\n",
      "===\n",
      "dataset answer= \\frac{1}{16}\n",
      "model answer= -\\frac{1}{16}\n",
      "351\n",
      "===\n",
      "dataset answer= 11\\sqrt{5}+11\n",
      "model answer= error\n",
      "352\n",
      "===\n",
      "dataset answer= \\text{ellipse}\n",
      "model answer= C\n",
      "358\n",
      "===\n",
      "dataset answer= 8\n",
      "model answer= 40\n",
      "365\n",
      "===\n",
      "dataset answer= \\frac{1}{2}\n",
      "model answer= \\frac{11}{18}\n",
      "381\n",
      "===\n",
      "dataset answer= x\\in[-2,7]\n",
      "model answer= [-2,7]\n",
      "383\n",
      "===\n",
      "dataset answer= \\sqrt{66}\n",
      "model answer= 11\n",
      "392\n",
      "===\n",
      "dataset answer= \\text{Navin}\n",
      "model answer= Navin\n",
      "398\n",
      "===\n",
      "dataset answer= \\frac{14}{3}\n",
      "model answer= 14-7\\sqrt{2}\n",
      "400\n",
      "===\n",
      "dataset answer= 3\n",
      "model answer= 1\n",
      "403\n",
      "===\n",
      "dataset answer= \\begin{pmatrix}1/5\\-18/5\\end{pmatrix}\n",
      "model answer= \\begin{pmatrix}1\\-18\\end{pmatrix}\n",
      "408\n",
      "===\n",
      "dataset answer= \\begin{pmatrix}16/49\\48/49\\24/49\\end{pmatrix}\n",
      "model answer= \\begin{pmatrix}\\frac{16}{49}\\\\frac{48}{49}\\\\frac{24}{49}\\end{pmatrix}\n",
      "420\n",
      "===\n",
      "dataset answer= \\{1\\pm\\sqrt{5},-2\\}\n",
      "model answer= -10\n",
      "422\n",
      "===\n",
      "dataset answer= 3R^2\n",
      "model answer= error\n",
      "425\n",
      "===\n",
      "dataset answer= 331\n",
      "model answer= \\frac{2980-2^{1986}}{3}\n",
      "432\n",
      "===\n",
      "dataset answer= \\frac{1}{2}\n",
      "model answer= \\frac{1}{4}\n",
      "444\n",
      "===\n",
      "dataset answer= 15\n",
      "model answer= 8\\sqrt{2}\n",
      "445\n",
      "===\n",
      "dataset answer= 2x+3\n",
      "model answer= 2x-15\n",
      "454\n",
      "===\n",
      "dataset answer= -2,1\n",
      "model answer= 1}\\)and\\(\\boxed{-2\n",
      "456\n",
      "===\n",
      "dataset answer= 75\n",
      "model answer= 105\n",
      "460\n",
      "===\n",
      "dataset answer= 15\\mbox{cm}^2\n",
      "model answer= 15\n",
      "467\n",
      "===\n",
      "dataset answer= 8n^2+4n+1\n",
      "model answer= error\n",
      "481\n",
      "===\n",
      "dataset answer= 13\n",
      "model answer= 12\n",
      "485\n",
      "===\n",
      "dataset answer= 216\n",
      "model answer= 24\\sqrt{3}\n",
      "486\n",
      "===\n",
      "dataset answer= 14\n",
      "model answer= 16\n",
      "490\n",
      "===\n",
      "dataset answer= 64\n",
      "model answer= 6\n",
      "491\n",
      "===\n",
      "dataset answer= \\frac{1}{4}\n",
      "model answer= \\frac{3}{4}\n",
      "494\n",
      "===\n",
      "dataset answer= \\frac{7}{2}\n",
      "model answer= 2\n",
      "497\n",
      "===\n",
      "dataset answer= -1\n",
      "model answer= 1\n",
      "498\n",
      "===\n"
     ]
    }
   ],
   "source": [
    "from lm_eval.tasks.hendrycks_math.utils import strip_string, remove_boxed, is_equiv\n",
    "from hidden_capacity_reasoning.evaluation.math_500.utils import (\n",
    "    dataset_answer_filter,\n",
    "    model_answer_filter,\n",
    ")\n",
    "\n",
    "# print(gold_answer, model_answer, is_equiv(gold_answer, model_answer))\n",
    "correct_items = 0\n",
    "for pos, item in enumerate(dataset_with_answers):\n",
    "    answer = dataset_answer_filter(item[\"answer\"])\n",
    "    model_answer = model_answer_filter(item[\"model_answer\"])\n",
    "    if is_equiv(answer, model_answer):\n",
    "        correct_items += 1\n",
    "    else:\n",
    "        # print(answer, item[\"answer\"], model_answer)\n",
    "        print(\"dataset answer=\", answer)\n",
    "        print(\"model answer=\", model_answer)\n",
    "        print(pos)\n",
    "        print(\"===\")"
   ]
  },
  {
   "cell_type": "code",
   "execution_count": 18,
   "id": "2d5e3b7b",
   "metadata": {},
   "outputs": [
    {
     "data": {
      "text/plain": [
       "37.0"
      ]
     },
     "execution_count": 18,
     "metadata": {},
     "output_type": "execute_result"
    }
   ],
   "source": [
    "74 / 2"
   ]
  },
  {
   "cell_type": "code",
   "execution_count": null,
   "id": "5c639e2b",
   "metadata": {},
   "outputs": [],
   "source": [
    "print(dataset_with_answers[451][\"model_answer\"])"
   ]
  },
  {
   "cell_type": "code",
   "execution_count": 3,
   "id": "b0c622bc",
   "metadata": {},
   "outputs": [
    {
     "data": {
      "text/plain": [
       "0.81"
      ]
     },
     "execution_count": 3,
     "metadata": {},
     "output_type": "execute_result"
    }
   ],
   "source": [
    "correct_items / len(dataset_with_answers)"
   ]
  },
  {
   "cell_type": "code",
   "execution_count": null,
   "id": "a7e315b6",
   "metadata": {},
   "outputs": [],
   "source": [
    "0.808"
   ]
  },
  {
   "cell_type": "code",
   "execution_count": null,
   "id": "894c85ab",
   "metadata": {},
   "outputs": [
    {
     "data": {
      "text/plain": [
       "{'problem': 'Define\\n\\\\[p = \\\\sum_{k = 1}^\\\\infty \\\\frac{1}{k^2} \\\\quad \\\\text{and} \\\\quad q = \\\\sum_{k = 1}^\\\\infty \\\\frac{1}{k^3}.\\\\]Find a way to write\\n\\\\[\\\\sum_{j = 1}^\\\\infty \\\\sum_{k = 1}^\\\\infty \\\\frac{1}{(j + k)^3}\\\\]in terms of $p$ and $q.$',\n",
       " 'solution': 'We count the number of times $\\\\frac{1}{n^3}$ appears in the sum\\n\\\\[\\\\sum_{j = 1}^\\\\infty \\\\sum_{k = 1}^\\\\infty \\\\frac{1}{(j + k)^3},\\\\]where $n$ is a fixed positive integer.  (In other words, we are conditioning the sum on $j + k$.)  We get a term of $\\\\frac{1}{n^3}$ each time $j + k = n.$  The pairs $(j,k)$ that work are $(1,n - 1),$ $(2,n - 2),$ $\\\\dots,$ $(n - 1,1),$ for a total of $n - 1$ pairs.  Therefore,\\n\\\\begin{align*}\\n\\\\sum_{j = 1}^\\\\infty \\\\sum_{k = 1}^\\\\infty \\\\frac{1}{(j + k)^3} &= \\\\sum_{n = 1}^\\\\infty \\\\frac{n - 1}{n^3} \\\\\\\\\\n&= \\\\sum_{n = 1}^\\\\infty \\\\left( \\\\frac{n}{n^3} - \\\\frac{1}{n^3} \\\\right) \\\\\\\\\\n&= \\\\sum_{n = 1}^\\\\infty \\\\left( \\\\frac{1}{n^2} - \\\\frac{1}{n^3} \\\\right) \\\\\\\\\\n&= \\\\sum_{n = 1}^\\\\infty \\\\frac{1}{n^2} - \\\\sum_{n = 1}^\\\\infty \\\\frac{1}{n^3} \\\\\\\\\\n&= \\\\boxed{p - q}.\\n\\\\end{align*}',\n",
       " 'answer': 'p - q',\n",
       " 'subject': 'Intermediate Algebra',\n",
       " 'level': 5,\n",
       " 'unique_id': 'test/intermediate_algebra/1994.json'}"
      ]
     },
     "execution_count": 10,
     "metadata": {},
     "output_type": "execute_result"
    }
   ],
   "source": [
    "import json\n",
    "\n",
    "dataset = open(\n",
    "    \"hidden_capacity_reasoning/evaluation/math_500/datasets/test.jsonl\"\n",
    ").readlines()\n",
    "json.loads(dataset[1])"
   ]
  },
  {
   "cell_type": "code",
   "execution_count": 1,
   "id": "16749282",
   "metadata": {},
   "outputs": [
    {
     "data": {
      "text/plain": [
       "{'problem': 'If $5x - 3 = 12$, what is the value of $5x + 3$?',\n",
       " 'solution': 'Adding 6 to both sides of $5x - 3 =12$ gives $5x -3 + 6 = 12 + 6$.  Simplifying both sides gives $5x + 3 = \\\\boxed{18}$.',\n",
       " 'answer': '18',\n",
       " 'subject': 'Prealgebra',\n",
       " 'level': 2,\n",
       " 'unique_id': 'test/prealgebra/2002.json'}"
      ]
     },
     "execution_count": 1,
     "metadata": {},
     "output_type": "execute_result"
    }
   ],
   "source": [
    "import json\n",
    "\n",
    "dataset = open(\n",
    "    \"hidden_capacity_reasoning/evaluation/math_500/datasets/train.jsonl\"\n",
    ").readlines()\n",
    "json.loads(dataset[1])"
   ]
  },
  {
   "cell_type": "code",
   "execution_count": 12,
   "id": "d4fd492f",
   "metadata": {},
   "outputs": [
    {
     "data": {
      "text/plain": [
       "12000"
      ]
     },
     "execution_count": 12,
     "metadata": {},
     "output_type": "execute_result"
    }
   ],
   "source": [
    "len(dataset)"
   ]
  },
  {
   "cell_type": "markdown",
   "id": "3e39bbf7",
   "metadata": {},
   "source": [
    "### Generate Traces"
   ]
  },
  {
   "cell_type": "code",
   "execution_count": 2,
   "id": "adda981c",
   "metadata": {},
   "outputs": [],
   "source": [
    "dataset = [json.loads(item) for item in dataset]"
   ]
  },
  {
   "cell_type": "code",
   "execution_count": null,
   "id": "97a690b6",
   "metadata": {},
   "outputs": [],
   "source": [
    "from datasets import Dataset\n",
    "\n",
    "dataset = Dataset.from_list(dataset)"
   ]
  },
  {
   "cell_type": "code",
   "execution_count": 5,
   "id": "0feacadd",
   "metadata": {},
   "outputs": [
    {
     "data": {
      "text/plain": [
       "{'problem': 'How many vertical asymptotes does the graph of $y=\\\\frac{2}{x^2+x-6}$ have?',\n",
       " 'solution': 'The denominator of the rational function factors into $x^2+x-6=(x-2)(x+3)$. Since the numerator is always nonzero, there is a vertical asymptote whenever the denominator is $0$, which occurs for $x = 2$ and $x = -3$.  Therefore, the graph has $\\\\boxed{2}$ vertical asymptotes.',\n",
       " 'answer': '2',\n",
       " 'subject': 'Algebra',\n",
       " 'level': 3,\n",
       " 'unique_id': 'test/algebra/1.json'}"
      ]
     },
     "execution_count": 5,
     "metadata": {},
     "output_type": "execute_result"
    }
   ],
   "source": [
    "dataset[0]"
   ]
  },
  {
   "cell_type": "code",
   "execution_count": 12,
   "id": "fb044444",
   "metadata": {},
   "outputs": [
    {
     "data": {
      "text/plain": [
       "(12000,\n",
       " {'problem': 'How many vertical asymptotes does the graph of $y=\\\\frac{2}{x^2+x-6}$ have?',\n",
       "  'solution': 'The denominator of the rational function factors into $x^2+x-6=(x-2)(x+3)$. Since the numerator is always nonzero, there is a vertical asymptote whenever the denominator is $0$, which occurs for $x = 2$ and $x = -3$.  Therefore, the graph has $\\\\boxed{2}$ vertical asymptotes.',\n",
       "  'answer': '2',\n",
       "  'subject': 'Algebra',\n",
       "  'level': 3,\n",
       "  'unique_id': 'test/algebra/1.json'})"
      ]
     },
     "execution_count": 12,
     "metadata": {},
     "output_type": "execute_result"
    }
   ],
   "source": [
    "len(dataset), dataset[0]"
   ]
  },
  {
   "cell_type": "code",
   "execution_count": null,
   "id": "a52a9d88",
   "metadata": {},
   "outputs": [
    {
     "data": {
      "application/vnd.jupyter.widget-view+json": {
       "model_id": "64ad03817d674fe0856a278115191172",
       "version_major": 2,
       "version_minor": 0
      },
      "text/plain": [
       "  0%|          | 0/12 [00:00<?, ?it/s]"
      ]
     },
     "metadata": {},
     "output_type": "display_data"
    }
   ],
   "source": [
    "from more_itertools import chunked\n",
    "from tqdm.notebook import tqdm\n",
    "\n",
    "base_prompt = open(\n",
    "    \"hidden_capacity_reasoning/evaluation/math_500/math_500_prompt\"\n",
    ").read()\n",
    "\n",
    "batch_size = 128 * 2 * 4\n",
    "new_dataset = dataset\n",
    "dataset_with_answers = []\n",
    "# 16 min 19 sec\n",
    "# 5 min 14 sec\n",
    "for batch in tqdm(list(chunked(new_dataset, batch_size))):\n",
    "    test_problems = [item[\"problem\"] for item in batch]\n",
    "    test_problems = [base_prompt.format(question=item) for item in test_problems]\n",
    "    test_problems = batch_generation_sglang(test_problems)\n",
    "    for answer, item in zip(test_problems, batch):\n",
    "        item[\"model_answer\"] = answer\n",
    "\n",
    "    dataset_with_answers.extend(batch)"
   ]
  },
  {
   "cell_type": "markdown",
   "id": "7a17712e",
   "metadata": {},
   "source": [
    "### check train dataset"
   ]
  },
  {
   "cell_type": "code",
   "execution_count": 1,
   "id": "33eac633",
   "metadata": {},
   "outputs": [
    {
     "data": {
      "text/plain": [
       "Dataset({\n",
       "    features: ['problem', 'solution', 'answer', 'subject', 'level', 'unique_id', 'model_answer'],\n",
       "    num_rows: 155\n",
       "})"
      ]
     },
     "execution_count": 1,
     "metadata": {},
     "output_type": "execute_result"
    }
   ],
   "source": [
    "from datasets import load_dataset\n",
    "\n",
    "dataset = load_dataset(\"dim/hendrycks_math_train_12k_DeepSeek-R1-Distill-Qwen-1.5B_max_len_4096\")\n",
    "\n",
    "dataset = dataset[\"train\"].train_test_split(\n",
    "    test_size=250,\n",
    "    seed=42,\n",
    ")\n",
    "dataset = dataset[\"test\"].filter(lambda x: \"</think>\" in x[\"model_answer\"])\n",
    "dataset"
   ]
  },
  {
   "cell_type": "code",
   "execution_count": 2,
   "id": "66b77181",
   "metadata": {},
   "outputs": [
    {
     "name": "stdout",
     "output_type": "stream",
     "text": [
      "INFO 04-20 21:01:40 __init__.py:190] Automatically detected platform cuda.\n",
      "'NoneType' object has no attribute 'group'\n",
      "'NoneType' object has no attribute 'group'\n",
      "'NoneType' object has no attribute 'group'\n",
      "'NoneType' object has no attribute 'group'\n",
      "'NoneType' object has no attribute 'group'\n",
      "'NoneType' object has no attribute 'group'\n",
      "'NoneType' object has no attribute 'group'\n",
      "'NoneType' object has no attribute 'group'\n",
      "'NoneType' object has no attribute 'group'\n",
      "'NoneType' object has no attribute 'group'\n"
     ]
    },
    {
     "data": {
      "text/plain": [
       "0.8774193548387097"
      ]
     },
     "execution_count": 2,
     "metadata": {},
     "output_type": "execute_result"
    }
   ],
   "source": [
    "from lm_eval.tasks.hendrycks_math.utils import strip_string, remove_boxed, is_equiv\n",
    "from hidden_capacity_reasoning.evaluation.math_500.utils import (\n",
    "    dataset_answer_filter,\n",
    "    model_answer_filter,\n",
    ")\n",
    "from datasets import load_dataset\n",
    "\n",
    "# total dataset accuracy 0.813 with parsing errors\n",
    "# print(gold_answer, model_answer, is_equiv(gold_answer, model_answer))\n",
    "correct_items = 0\n",
    "for pos, item in enumerate(dataset):\n",
    "    try:\n",
    "        answer = dataset_answer_filter(item[\"answer\"])\n",
    "        model_answer = model_answer_filter(item[\"model_answer\"])\n",
    "        # print(answer, model_answer)\n",
    "        # break\n",
    "        if is_equiv(answer, model_answer):\n",
    "            correct_items += 1\n",
    "    except:\n",
    "        pass\n",
    "\n",
    "correct_items / len(dataset)"
   ]
  }
 ],
 "metadata": {
  "kernelspec": {
   "display_name": "base",
   "language": "python",
   "name": "python3"
  },
  "language_info": {
   "codemirror_mode": {
    "name": "ipython",
    "version": 3
   },
   "file_extension": ".py",
   "mimetype": "text/x-python",
   "name": "python",
   "nbconvert_exporter": "python",
   "pygments_lexer": "ipython3",
   "version": "3.11.10"
  }
 },
 "nbformat": 4,
 "nbformat_minor": 5
}
